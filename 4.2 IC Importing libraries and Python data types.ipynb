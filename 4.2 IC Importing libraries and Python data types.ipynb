{
 "cells": [
  {
   "cell_type": "code",
   "execution_count": 21,
   "id": "807dbe51-03b6-4337-be33-165a2edcf32e",
   "metadata": {},
   "outputs": [
    {
     "name": "stdout",
     "output_type": "stream",
     "text": [
      "7.678\n"
     ]
    }
   ],
   "source": [
    "print(x)"
   ]
  },
  {
   "cell_type": "code",
   "execution_count": 22,
   "id": "e78dbd5a-2fec-4956-b19c-5a6fa98d4931",
   "metadata": {},
   "outputs": [],
   "source": [
    "x = x + 4"
   ]
  },
  {
   "cell_type": "code",
   "execution_count": 26,
   "id": "4922c041-11b4-4ab9-886d-ba7e915dfa02",
   "metadata": {},
   "outputs": [
    {
     "data": {
      "text/plain": [
       "'hellomarley'"
      ]
     },
     "execution_count": 26,
     "metadata": {},
     "output_type": "execute_result"
    }
   ],
   "source": [
    "a + b"
   ]
  },
  {
   "cell_type": "code",
   "execution_count": 25,
   "id": "81c17915-0a6b-490e-95b8-17a91c560d99",
   "metadata": {},
   "outputs": [],
   "source": [
    "b = 'marley'"
   ]
  },
  {
   "cell_type": "code",
   "execution_count": 23,
   "id": "294230d7-737a-499d-bf06-0e3abadbefad",
   "metadata": {},
   "outputs": [
    {
     "name": "stdout",
     "output_type": "stream",
     "text": [
      "11.678\n"
     ]
    }
   ],
   "source": [
    "print(x)"
   ]
  },
  {
   "cell_type": "code",
   "execution_count": 24,
   "id": "b334d0be-eca5-41d7-a045-19b1b2ac0760",
   "metadata": {},
   "outputs": [],
   "source": [
    "a = 'hello'"
   ]
  },
  {
   "cell_type": "code",
   "execution_count": 20,
   "id": "1f6b5bb4-3946-487c-a94b-16e221486418",
   "metadata": {},
   "outputs": [],
   "source": [
    "x = x + y"
   ]
  },
  {
   "cell_type": "code",
   "execution_count": 18,
   "id": "d9c2731b-d9c6-439e-8e7d-2eb0c72dd03e",
   "metadata": {
    "scrolled": true
   },
   "outputs": [
    {
     "data": {
      "text/plain": [
       "bool"
      ]
     },
     "execution_count": 18,
     "metadata": {},
     "output_type": "execute_result"
    }
   ],
   "source": [
    "type(False)"
   ]
  },
  {
   "cell_type": "code",
   "execution_count": 19,
   "id": "2744ff64-2fa6-4a3b-a668-61df836295e5",
   "metadata": {
    "scrolled": true
   },
   "outputs": [
    {
     "data": {
      "text/plain": [
       "6"
      ]
     },
     "execution_count": 19,
     "metadata": {},
     "output_type": "execute_result"
    }
   ],
   "source": [
    "x + 4"
   ]
  },
  {
   "cell_type": "code",
   "execution_count": 17,
   "id": "7e86806f-4e92-4a3d-86d0-789355546290",
   "metadata": {},
   "outputs": [
    {
     "data": {
      "text/plain": [
       "bool"
      ]
     },
     "execution_count": 17,
     "metadata": {},
     "output_type": "execute_result"
    }
   ],
   "source": [
    "type(True)"
   ]
  },
  {
   "cell_type": "code",
   "execution_count": 14,
   "id": "f780c555-0def-4210-a652-a488b59add6b",
   "metadata": {},
   "outputs": [
    {
     "data": {
      "text/plain": [
       "str"
      ]
     },
     "execution_count": 14,
     "metadata": {},
     "output_type": "execute_result"
    }
   ],
   "source": [
    "type('mania')"
   ]
  },
  {
   "cell_type": "code",
   "execution_count": 13,
   "id": "36ba0a79-2ee1-4c05-9d3d-fa9d765cf371",
   "metadata": {},
   "outputs": [
    {
     "data": {
      "text/plain": [
       "str"
      ]
     },
     "execution_count": 13,
     "metadata": {},
     "output_type": "execute_result"
    }
   ],
   "source": [
    "type(z)"
   ]
  },
  {
   "cell_type": "code",
   "execution_count": 12,
   "id": "23abc7db-847c-4e1e-bc0b-b0c6b552c992",
   "metadata": {},
   "outputs": [],
   "source": [
    "z=\"brazil\""
   ]
  },
  {
   "cell_type": "code",
   "execution_count": 11,
   "id": "0539f653-9fcb-41a4-9006-3b7b40c30dda",
   "metadata": {},
   "outputs": [
    {
     "data": {
      "text/plain": [
       "float"
      ]
     },
     "execution_count": 11,
     "metadata": {},
     "output_type": "execute_result"
    }
   ],
   "source": [
    "type(y)"
   ]
  },
  {
   "cell_type": "markdown",
   "id": "d889c1ad-434e-447e-8279-556bce5ced2a",
   "metadata": {},
   "source": [
    "#01. Importing Libraries"
   ]
  },
  {
   "cell_type": "code",
   "execution_count": 10,
   "id": "184d288e-7897-449d-be46-5386485d113f",
   "metadata": {},
   "outputs": [],
   "source": [
    "y = 5.678"
   ]
  },
  {
   "cell_type": "code",
   "execution_count": 9,
   "id": "24dadab1-5d5e-4d4c-b213-50df8e20bc6d",
   "metadata": {},
   "outputs": [
    {
     "data": {
      "text/plain": [
       "int"
      ]
     },
     "execution_count": 9,
     "metadata": {},
     "output_type": "execute_result"
    }
   ],
   "source": [
    "type(x)"
   ]
  },
  {
   "cell_type": "raw",
   "id": "788d0fc4-203e-42c6-8e4f-385c511ac060",
   "metadata": {},
   "source": [
    "print(x)"
   ]
  },
  {
   "cell_type": "code",
   "execution_count": 8,
   "id": "06be69da-ebfe-42bd-be6a-d16de4b97d11",
   "metadata": {},
   "outputs": [
    {
     "data": {
      "text/plain": [
       "2"
      ]
     },
     "execution_count": 8,
     "metadata": {},
     "output_type": "execute_result"
    }
   ],
   "source": [
    "x"
   ]
  },
  {
   "cell_type": "code",
   "execution_count": 7,
   "id": "e8f0c286-f4c5-4e15-8c45-4e40bcb2b1bb",
   "metadata": {},
   "outputs": [],
   "source": [
    "x = 2"
   ]
  },
  {
   "cell_type": "code",
   "execution_count": 5,
   "id": "0c423288-1623-4b6e-8c85-3cfe00654d96",
   "metadata": {},
   "outputs": [],
   "source": [
    "# Import libraries\n",
    "import pandas as pd\n",
    "import numpy as np\n",
    "import os"
   ]
  },
  {
   "cell_type": "code",
   "execution_count": 28,
   "id": "a8adbb8e-a77d-4bd8-9a8c-b4589fe6dfb6",
   "metadata": {},
   "outputs": [],
   "source": [
    "n = 'potato'"
   ]
  },
  {
   "cell_type": "code",
   "execution_count": 29,
   "id": "2331d266-d087-4bf7-95aa-bdbfbf4b4e43",
   "metadata": {},
   "outputs": [
    {
     "data": {
      "text/plain": [
       "'potatopotatopotatopotatopotatopotatopotatopotatopotatopotatopotatopotato'"
      ]
     },
     "execution_count": 29,
     "metadata": {},
     "output_type": "execute_result"
    }
   ],
   "source": [
    "n * 12"
   ]
  },
  {
   "cell_type": "code",
   "execution_count": 30,
   "id": "781faa4a-40f1-47fb-951d-a7b84f7fa616",
   "metadata": {},
   "outputs": [
    {
     "data": {
      "text/plain": [
       "False"
      ]
     },
     "execution_count": 30,
     "metadata": {},
     "output_type": "execute_result"
    }
   ],
   "source": [
    "x == y"
   ]
  },
  {
   "cell_type": "code",
   "execution_count": 31,
   "id": "bc1d5fe5-7ded-4165-b000-050787ec1523",
   "metadata": {},
   "outputs": [
    {
     "data": {
      "text/plain": [
       "100"
      ]
     },
     "execution_count": 31,
     "metadata": {},
     "output_type": "execute_result"
    }
   ],
   "source": [
    "150 - 50"
   ]
  },
  {
   "cell_type": "code",
   "execution_count": 33,
   "id": "979c9d4f-1080-4f45-a952-69cbd2922997",
   "metadata": {},
   "outputs": [],
   "source": [
    "b = 50"
   ]
  },
  {
   "cell_type": "code",
   "execution_count": 34,
   "id": "972abe01-5a0d-49c0-944a-ff2a04ee4d99",
   "metadata": {},
   "outputs": [
    {
     "data": {
      "text/plain": [
       "100"
      ]
     },
     "execution_count": 34,
     "metadata": {},
     "output_type": "execute_result"
    }
   ],
   "source": [
    "b * 2"
   ]
  },
  {
   "cell_type": "code",
   "execution_count": 35,
   "id": "7656a77b-07ca-426c-8480-0158a2bea53c",
   "metadata": {},
   "outputs": [
    {
     "data": {
      "text/plain": [
       "100"
      ]
     },
     "execution_count": 35,
     "metadata": {},
     "output_type": "execute_result"
    }
   ],
   "source": [
    "50 + b"
   ]
  },
  {
   "cell_type": "code",
   "execution_count": 36,
   "id": "b9fe9881-f121-4289-996e-0636d58c9d4e",
   "metadata": {},
   "outputs": [],
   "source": [
    "e = 3,9"
   ]
  },
  {
   "cell_type": "code",
   "execution_count": 37,
   "id": "9f9d167a-6cf3-42b4-ad9d-4cc4eb0ba71a",
   "metadata": {},
   "outputs": [],
   "source": [
    "f = 4,2"
   ]
  },
  {
   "cell_type": "code",
   "execution_count": 44,
   "id": "decd43fc-b2e0-4160-bbd6-5e0b47387b06",
   "metadata": {},
   "outputs": [
    {
     "data": {
      "text/plain": [
       "(3, 2.25, 2)"
      ]
     },
     "execution_count": 44,
     "metadata": {},
     "output_type": "execute_result"
    }
   ],
   "source": [
    "3,9 / 4,2"
   ]
  },
  {
   "cell_type": "code",
   "execution_count": 46,
   "id": "f7d9d91a-d220-4399-a60b-5c1f6aa42c2f",
   "metadata": {},
   "outputs": [],
   "source": [
    "g = 'Bonjour, '"
   ]
  },
  {
   "cell_type": "code",
   "execution_count": 47,
   "id": "eeee6bff-5057-4c20-aa0c-47365d4cfde6",
   "metadata": {},
   "outputs": [],
   "source": [
    "h = 'monsieur.'"
   ]
  },
  {
   "cell_type": "code",
   "execution_count": 48,
   "id": "4afd47aa-8e7b-42ca-bc8d-871ba0129e4c",
   "metadata": {},
   "outputs": [
    {
     "data": {
      "text/plain": [
       "'Bonjour, monsieur.'"
      ]
     },
     "execution_count": 48,
     "metadata": {},
     "output_type": "execute_result"
    }
   ],
   "source": [
    "g + h"
   ]
  },
  {
   "cell_type": "code",
   "execution_count": 49,
   "id": "5df88fcd-77b6-4aa2-ab66-eceaa3c33483",
   "metadata": {},
   "outputs": [],
   "source": [
    "i = 'salut, '"
   ]
  },
  {
   "cell_type": "code",
   "execution_count": 50,
   "id": "4b1df157-100c-4cab-97e0-989f0a88b0cd",
   "metadata": {},
   "outputs": [],
   "source": [
    "j = 'ca va?'"
   ]
  },
  {
   "cell_type": "code",
   "execution_count": 51,
   "id": "ceb429c5-1e0d-4668-abff-dab92e0ba3b1",
   "metadata": {},
   "outputs": [
    {
     "data": {
      "text/plain": [
       "'salut, ca va?'"
      ]
     },
     "execution_count": 51,
     "metadata": {},
     "output_type": "execute_result"
    }
   ],
   "source": [
    "i + j"
   ]
  },
  {
   "cell_type": "code",
   "execution_count": 53,
   "id": "711f527b-42eb-444c-a6b3-7d7b76d30bd5",
   "metadata": {},
   "outputs": [],
   "source": [
    "k = 'snowball'"
   ]
  },
  {
   "cell_type": "code",
   "execution_count": 54,
   "id": "0e984c88-376a-4360-b7c6-199cb01ae41f",
   "metadata": {},
   "outputs": [
    {
     "data": {
      "text/plain": [
       "'snowballsnowballsnowballsnowballsnowballsnowballsnowballsnowballsnowballsnowballsnowballsnowballsnowballsnowballsnowballsnowballsnowballsnowballsnowballsnowballsnowballsnowballsnowballsnowballsnowballsnowballsnowballsnowballsnowballsnowballsnowballsnowballsnowballsnowballsnowballsnowballsnowballsnowballsnowballsnowballsnowballsnowballsnowballsnowballsnowballsnowballsnowballsnowballsnowballsnowballsnowballsnowballsnowballsnowballsnowballsnowballsnowballsnowballsnowballsnowballsnowballsnowballsnowballsnowballsnowballsnowballsnowballsnowballsnowballsnowballsnowballsnowballsnowballsnowballsnowballsnowballsnowballsnowballsnowballsnowballsnowballsnowballsnowballsnowballsnowballsnowballsnowballsnowballsnowballsnowballsnowballsnowballsnowballsnowballsnowballsnowballsnowballsnowballsnowballsnowball'"
      ]
     },
     "execution_count": 54,
     "metadata": {},
     "output_type": "execute_result"
    }
   ],
   "source": [
    "k * 100"
   ]
  }
 ],
 "metadata": {
  "kernelspec": {
   "display_name": "Python 3 (ipykernel)",
   "language": "python",
   "name": "python3"
  },
  "language_info": {
   "codemirror_mode": {
    "name": "ipython",
    "version": 3
   },
   "file_extension": ".py",
   "mimetype": "text/x-python",
   "name": "python",
   "nbconvert_exporter": "python",
   "pygments_lexer": "ipython3",
   "version": "3.11.7"
  }
 },
 "nbformat": 4,
 "nbformat_minor": 5
}
