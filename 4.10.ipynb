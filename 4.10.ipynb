{
 "cells": [
  {
   "cell_type": "markdown",
   "id": "5a582515",
   "metadata": {},
   "source": [
    "# Import the data set merged in 4.9"
   ]
  },
  {
   "cell_type": "code",
   "execution_count": 1,
   "id": "2fc6398f",
   "metadata": {},
   "outputs": [],
   "source": [
    "# Import Libraries\n",
    "import pandas as pd\n",
    "import numpy as np\n",
    "import os"
   ]
  },
  {
   "cell_type": "code",
   "execution_count": 2,
   "id": "004f3d95",
   "metadata": {},
   "outputs": [],
   "source": [
    "# Set path\n",
    "path = r'C:\\Users\\lauri\\Desktop\\Careerfoundry\\Python\\Instacart Basket Analysis'"
   ]
  },
  {
   "cell_type": "code",
   "execution_count": 3,
   "id": "c5f672fa",
   "metadata": {},
   "outputs": [],
   "source": [
    "# Import data\n",
    "ords_prods_customers = pd.read_pickle(os.path.join(path, '02 Data', 'Prepared Data', 'orders_products_customers_merged.pkl'))"
   ]
  },
  {
   "cell_type": "markdown",
   "id": "d959d23f",
   "metadata": {},
   "source": [
    "# Security implications"
   ]
  },
  {
   "cell_type": "code",
   "execution_count": 4,
   "id": "7b95b806",
   "metadata": {},
   "outputs": [],
   "source": [
    "pd.options.display.max_columns = None"
   ]
  },
  {
   "cell_type": "code",
   "execution_count": 4,
   "id": "33b4abfc",
   "metadata": {},
   "outputs": [
    {
     "data": {
      "text/html": [
       "<div>\n",
       "<style scoped>\n",
       "    .dataframe tbody tr th:only-of-type {\n",
       "        vertical-align: middle;\n",
       "    }\n",
       "\n",
       "    .dataframe tbody tr th {\n",
       "        vertical-align: top;\n",
       "    }\n",
       "\n",
       "    .dataframe thead th {\n",
       "        text-align: right;\n",
       "    }\n",
       "</style>\n",
       "<table border=\"1\" class=\"dataframe\">\n",
       "  <thead>\n",
       "    <tr style=\"text-align: right;\">\n",
       "      <th></th>\n",
       "      <th>product_id</th>\n",
       "      <th>product_name</th>\n",
       "      <th>aisle_id</th>\n",
       "      <th>department_id</th>\n",
       "      <th>prices</th>\n",
       "      <th>order_id</th>\n",
       "      <th>user_id</th>\n",
       "      <th>eval_set</th>\n",
       "      <th>order_sequence</th>\n",
       "      <th>orders_day_of_week</th>\n",
       "      <th>...</th>\n",
       "      <th>first_name</th>\n",
       "      <th>surname</th>\n",
       "      <th>gender</th>\n",
       "      <th>state</th>\n",
       "      <th>age</th>\n",
       "      <th>date_joined</th>\n",
       "      <th>n_dependants</th>\n",
       "      <th>marital_status</th>\n",
       "      <th>income</th>\n",
       "      <th>_merge</th>\n",
       "    </tr>\n",
       "  </thead>\n",
       "  <tbody>\n",
       "    <tr>\n",
       "      <th>0</th>\n",
       "      <td>1</td>\n",
       "      <td>Chocolate Sandwich Cookies</td>\n",
       "      <td>61</td>\n",
       "      <td>19</td>\n",
       "      <td>5.8</td>\n",
       "      <td>2717275</td>\n",
       "      <td>5</td>\n",
       "      <td>prior</td>\n",
       "      <td>1</td>\n",
       "      <td>3</td>\n",
       "      <td>...</td>\n",
       "      <td>Janet</td>\n",
       "      <td>Lester</td>\n",
       "      <td>Female</td>\n",
       "      <td>California</td>\n",
       "      <td>75</td>\n",
       "      <td>10/8/2018</td>\n",
       "      <td>0</td>\n",
       "      <td>divorced/widowed</td>\n",
       "      <td>115242</td>\n",
       "      <td>both</td>\n",
       "    </tr>\n",
       "    <tr>\n",
       "      <th>1</th>\n",
       "      <td>1</td>\n",
       "      <td>Chocolate Sandwich Cookies</td>\n",
       "      <td>61</td>\n",
       "      <td>19</td>\n",
       "      <td>5.8</td>\n",
       "      <td>1909121</td>\n",
       "      <td>5</td>\n",
       "      <td>prior</td>\n",
       "      <td>2</td>\n",
       "      <td>0</td>\n",
       "      <td>...</td>\n",
       "      <td>Janet</td>\n",
       "      <td>Lester</td>\n",
       "      <td>Female</td>\n",
       "      <td>California</td>\n",
       "      <td>75</td>\n",
       "      <td>10/8/2018</td>\n",
       "      <td>0</td>\n",
       "      <td>divorced/widowed</td>\n",
       "      <td>115242</td>\n",
       "      <td>both</td>\n",
       "    </tr>\n",
       "    <tr>\n",
       "      <th>2</th>\n",
       "      <td>1</td>\n",
       "      <td>Chocolate Sandwich Cookies</td>\n",
       "      <td>61</td>\n",
       "      <td>19</td>\n",
       "      <td>5.8</td>\n",
       "      <td>2267326</td>\n",
       "      <td>5</td>\n",
       "      <td>prior</td>\n",
       "      <td>3</td>\n",
       "      <td>3</td>\n",
       "      <td>...</td>\n",
       "      <td>Janet</td>\n",
       "      <td>Lester</td>\n",
       "      <td>Female</td>\n",
       "      <td>California</td>\n",
       "      <td>75</td>\n",
       "      <td>10/8/2018</td>\n",
       "      <td>0</td>\n",
       "      <td>divorced/widowed</td>\n",
       "      <td>115242</td>\n",
       "      <td>both</td>\n",
       "    </tr>\n",
       "    <tr>\n",
       "      <th>3</th>\n",
       "      <td>1</td>\n",
       "      <td>Chocolate Sandwich Cookies</td>\n",
       "      <td>61</td>\n",
       "      <td>19</td>\n",
       "      <td>5.8</td>\n",
       "      <td>157374</td>\n",
       "      <td>5</td>\n",
       "      <td>prior</td>\n",
       "      <td>4</td>\n",
       "      <td>1</td>\n",
       "      <td>...</td>\n",
       "      <td>Janet</td>\n",
       "      <td>Lester</td>\n",
       "      <td>Female</td>\n",
       "      <td>California</td>\n",
       "      <td>75</td>\n",
       "      <td>10/8/2018</td>\n",
       "      <td>0</td>\n",
       "      <td>divorced/widowed</td>\n",
       "      <td>115242</td>\n",
       "      <td>both</td>\n",
       "    </tr>\n",
       "    <tr>\n",
       "      <th>4</th>\n",
       "      <td>1</td>\n",
       "      <td>Chocolate Sandwich Cookies</td>\n",
       "      <td>61</td>\n",
       "      <td>19</td>\n",
       "      <td>5.8</td>\n",
       "      <td>2570360</td>\n",
       "      <td>8</td>\n",
       "      <td>prior</td>\n",
       "      <td>3</td>\n",
       "      <td>5</td>\n",
       "      <td>...</td>\n",
       "      <td>Anna</td>\n",
       "      <td>Allison</td>\n",
       "      <td>Female</td>\n",
       "      <td>Delaware</td>\n",
       "      <td>32</td>\n",
       "      <td>1/5/2018</td>\n",
       "      <td>1</td>\n",
       "      <td>married</td>\n",
       "      <td>88603</td>\n",
       "      <td>both</td>\n",
       "    </tr>\n",
       "  </tbody>\n",
       "</table>\n",
       "<p>5 rows × 34 columns</p>\n",
       "</div>"
      ],
      "text/plain": [
       "   product_id                product_name  aisle_id  department_id  prices  \\\n",
       "0           1  Chocolate Sandwich Cookies        61             19     5.8   \n",
       "1           1  Chocolate Sandwich Cookies        61             19     5.8   \n",
       "2           1  Chocolate Sandwich Cookies        61             19     5.8   \n",
       "3           1  Chocolate Sandwich Cookies        61             19     5.8   \n",
       "4           1  Chocolate Sandwich Cookies        61             19     5.8   \n",
       "\n",
       "  order_id user_id eval_set  order_sequence  orders_day_of_week  ...  \\\n",
       "0  2717275       5    prior               1                   3  ...   \n",
       "1  1909121       5    prior               2                   0  ...   \n",
       "2  2267326       5    prior               3                   3  ...   \n",
       "3   157374       5    prior               4                   1  ...   \n",
       "4  2570360       8    prior               3                   5  ...   \n",
       "\n",
       "   first_name  surname  gender       state age date_joined n_dependants  \\\n",
       "0       Janet   Lester  Female  California  75   10/8/2018            0   \n",
       "1       Janet   Lester  Female  California  75   10/8/2018            0   \n",
       "2       Janet   Lester  Female  California  75   10/8/2018            0   \n",
       "3       Janet   Lester  Female  California  75   10/8/2018            0   \n",
       "4        Anna  Allison  Female    Delaware  32    1/5/2018            1   \n",
       "\n",
       "     marital_status  income _merge  \n",
       "0  divorced/widowed  115242   both  \n",
       "1  divorced/widowed  115242   both  \n",
       "2  divorced/widowed  115242   both  \n",
       "3  divorced/widowed  115242   both  \n",
       "4           married   88603   both  \n",
       "\n",
       "[5 rows x 34 columns]"
      ]
     },
     "execution_count": 4,
     "metadata": {},
     "output_type": "execute_result"
    }
   ],
   "source": [
    "# Check data for reminder of contents\n",
    "ords_prods_customers.head()"
   ]
  },
  {
   "cell_type": "code",
   "execution_count": null,
   "id": "f035ded0-583b-46bf-80fb-d7a129b53518",
   "metadata": {},
   "outputs": [],
   "source": [
    "#name and surname were removed because of the PII status and it was not helping for the studies. I case it would happen in a professional context I would concert with a senior data analyst to know what would be the best move."
   ]
  },
  {
   "cell_type": "markdown",
   "id": "ce2b70d8",
   "metadata": {},
   "source": [
    "## Create region column:"
   ]
  },
  {
   "cell_type": "code",
   "execution_count": 5,
   "id": "1652d200",
   "metadata": {},
   "outputs": [],
   "source": [
    "# First by making separate lists of states for each region:\n",
    "northeast_region = ['Maine', 'New Hampshire', 'Vermont', 'Massachusetts', 'Rhode Island', 'Connecticut', 'New York', 'Pennsylvania', 'New Jersey']"
   ]
  },
  {
   "cell_type": "code",
   "execution_count": 6,
   "id": "ccd9d3b4",
   "metadata": {},
   "outputs": [],
   "source": [
    "midwest_region = ['Wisconsin', 'Michigan', 'Illinois', 'Indiana', 'Ohio', 'North Dakota', 'South Dakota', 'Nebraska', 'Kansas', 'Minnesota', 'Iowa', 'Missouri']"
   ]
  },
  {
   "cell_type": "code",
   "execution_count": 7,
   "id": "9b68c19e",
   "metadata": {},
   "outputs": [],
   "source": [
    "south_region = ['Delaware', 'Maryland', 'District of Columbia', 'Virginia', 'West Virginia', 'North Carolina', 'South Carolina', 'Georgia', 'Florida', 'Kentucky', 'Tennessee', 'Mississippi', 'Alabama', 'Oklahoma', 'Texas', 'Arkansas', 'Louisiana']"
   ]
  },
  {
   "cell_type": "code",
   "execution_count": 8,
   "id": "00159e3c",
   "metadata": {},
   "outputs": [],
   "source": [
    "west_region = ['Idaho', 'Montana', 'Wyoming', 'Nevada', 'Utah', 'Colorado', 'Arizona', 'New Mexico', 'Alaska', 'Washington', 'Oregon', 'California', 'Hawaii']"
   ]
  },
  {
   "cell_type": "code",
   "execution_count": 11,
   "id": "5a1c5f0b",
   "metadata": {},
   "outputs": [],
   "source": [
    "# Create region column by assigning regions based on 'state' in each row:\n",
    "ords_prods_customers.loc[ords_prods_customers['state'].isin(northeast_region), 'region'] = 'Northeast'"
   ]
  },
  {
   "cell_type": "code",
   "execution_count": 12,
   "id": "72dcbeee",
   "metadata": {},
   "outputs": [],
   "source": [
    "ords_prods_customers.loc[ords_prods_customers['state'].isin(midwest_region), 'region'] = 'Midwest'"
   ]
  },
  {
   "cell_type": "code",
   "execution_count": 13,
   "id": "de195832",
   "metadata": {},
   "outputs": [],
   "source": [
    "ords_prods_customers.loc[ords_prods_customers['state'].isin(south_region), 'region'] = 'South'"
   ]
  },
  {
   "cell_type": "code",
   "execution_count": 14,
   "id": "f94afc3e",
   "metadata": {},
   "outputs": [],
   "source": [
    "ords_prods_customers.loc[ords_prods_customers['state'].isin(west_region), 'region'] = 'West'"
   ]
  },
  {
   "cell_type": "code",
   "execution_count": 15,
   "id": "07741113",
   "metadata": {},
   "outputs": [
    {
     "data": {
      "text/plain": [
       "region\n",
       "South        5480613\n",
       "West         4219878\n",
       "Midwest      3862126\n",
       "Northeast    2908986\n",
       "Name: count, dtype: int64"
      ]
     },
     "execution_count": 15,
     "metadata": {},
     "output_type": "execute_result"
    }
   ],
   "source": [
    "# Check data\n",
    "ords_prods_customers['region'].value_counts(dropna = False)"
   ]
  },
  {
   "cell_type": "markdown",
   "id": "2621d9d3",
   "metadata": {},
   "source": [
    "## Compare spending habits in different U.S. regions:"
   ]
  },
  {
   "cell_type": "code",
   "execution_count": 16,
   "id": "ef3ca323",
   "metadata": {},
   "outputs": [
    {
     "data": {
      "text/html": [
       "<div>\n",
       "<style scoped>\n",
       "    .dataframe tbody tr th:only-of-type {\n",
       "        vertical-align: middle;\n",
       "    }\n",
       "\n",
       "    .dataframe tbody tr th {\n",
       "        vertical-align: top;\n",
       "    }\n",
       "\n",
       "    .dataframe thead th {\n",
       "        text-align: right;\n",
       "    }\n",
       "</style>\n",
       "<table border=\"1\" class=\"dataframe\">\n",
       "  <thead>\n",
       "    <tr style=\"text-align: right;\">\n",
       "      <th>spending_flag</th>\n",
       "      <th>High spender</th>\n",
       "      <th>Low spender</th>\n",
       "    </tr>\n",
       "    <tr>\n",
       "      <th>region</th>\n",
       "      <th></th>\n",
       "      <th></th>\n",
       "    </tr>\n",
       "  </thead>\n",
       "  <tbody>\n",
       "    <tr>\n",
       "      <th>Midwest</th>\n",
       "      <td>29265</td>\n",
       "      <td>7566800</td>\n",
       "    </tr>\n",
       "    <tr>\n",
       "      <th>Northeast</th>\n",
       "      <td>18639</td>\n",
       "      <td>5703253</td>\n",
       "    </tr>\n",
       "    <tr>\n",
       "      <th>South</th>\n",
       "      <td>40577</td>\n",
       "      <td>10749519</td>\n",
       "    </tr>\n",
       "    <tr>\n",
       "      <th>West</th>\n",
       "      <td>31238</td>\n",
       "      <td>8260441</td>\n",
       "    </tr>\n",
       "  </tbody>\n",
       "</table>\n",
       "</div>"
      ],
      "text/plain": [
       "spending_flag  High spender  Low spender\n",
       "region                                  \n",
       "Midwest               29265      7566800\n",
       "Northeast             18639      5703253\n",
       "South                 40577     10749519\n",
       "West                  31238      8260441"
      ]
     },
     "execution_count": 16,
     "metadata": {},
     "output_type": "execute_result"
    }
   ],
   "source": [
    "# Could save to clipboard and open in Excel, but it should be a small table that can be viewed here\n",
    "region_spending_crosstab"
   ]
  },
  {
   "cell_type": "markdown",
   "id": "77c4f96c",
   "metadata": {},
   "source": [
    "When comparing regions, the proportions of customers with different spending habits are very similar. The Midwest had the highest proportion of 'High spender' customers at 0.385%, while the Northeast had the lowest at 0.326%."
   ]
  },
  {
   "cell_type": "markdown",
   "id": "1193b8b4",
   "metadata": {},
   "source": [
    "# 3 Create an exclusion flag for low-activity customers and exclude them from the data"
   ]
  },
  {
   "cell_type": "code",
   "execution_count": 17,
   "id": "51704413",
   "metadata": {},
   "outputs": [],
   "source": [
    "# Exclude customers where max_order is less than 5 \n",
    "ords_prods_customers.loc[ords_prods_customers['max_order'] < 5, 'exclusion_flag'] = 'Exclude'"
   ]
  },
  {
   "cell_type": "code",
   "execution_count": 18,
   "id": "bd9b76b7",
   "metadata": {},
   "outputs": [],
   "source": [
    "# Keep customers where max_order is greater than or equal to 5\n",
    "ords_prods_customers.loc[ords_prods_customers['max_order'] >= 5, 'exclusion_flag'] = 'Keep'"
   ]
  },
  {
   "cell_type": "code",
   "execution_count": 19,
   "id": "ded06239",
   "metadata": {},
   "outputs": [
    {
     "data": {
      "text/html": [
       "<div>\n",
       "<style scoped>\n",
       "    .dataframe tbody tr th:only-of-type {\n",
       "        vertical-align: middle;\n",
       "    }\n",
       "\n",
       "    .dataframe tbody tr th {\n",
       "        vertical-align: top;\n",
       "    }\n",
       "\n",
       "    .dataframe thead th {\n",
       "        text-align: right;\n",
       "    }\n",
       "</style>\n",
       "<table border=\"1\" class=\"dataframe\">\n",
       "  <thead>\n",
       "    <tr style=\"text-align: right;\">\n",
       "      <th></th>\n",
       "      <th>product_id</th>\n",
       "      <th>product_name</th>\n",
       "      <th>aisle_id</th>\n",
       "      <th>department_id</th>\n",
       "      <th>prices</th>\n",
       "      <th>order_id</th>\n",
       "      <th>user_id</th>\n",
       "      <th>eval_set</th>\n",
       "      <th>order_sequence</th>\n",
       "      <th>orders_day_of_week</th>\n",
       "      <th>...</th>\n",
       "      <th>gender</th>\n",
       "      <th>state</th>\n",
       "      <th>age</th>\n",
       "      <th>date_joined</th>\n",
       "      <th>n_dependants</th>\n",
       "      <th>marital_status</th>\n",
       "      <th>income</th>\n",
       "      <th>_merge</th>\n",
       "      <th>region</th>\n",
       "      <th>exclusion_flag</th>\n",
       "    </tr>\n",
       "  </thead>\n",
       "  <tbody>\n",
       "    <tr>\n",
       "      <th>0</th>\n",
       "      <td>1</td>\n",
       "      <td>Chocolate Sandwich Cookies</td>\n",
       "      <td>61</td>\n",
       "      <td>19</td>\n",
       "      <td>5.8</td>\n",
       "      <td>2717275</td>\n",
       "      <td>5</td>\n",
       "      <td>prior</td>\n",
       "      <td>1</td>\n",
       "      <td>3</td>\n",
       "      <td>...</td>\n",
       "      <td>Female</td>\n",
       "      <td>California</td>\n",
       "      <td>75</td>\n",
       "      <td>10/8/2018</td>\n",
       "      <td>0</td>\n",
       "      <td>divorced/widowed</td>\n",
       "      <td>115242</td>\n",
       "      <td>both</td>\n",
       "      <td>West</td>\n",
       "      <td>Exclude</td>\n",
       "    </tr>\n",
       "    <tr>\n",
       "      <th>1</th>\n",
       "      <td>1</td>\n",
       "      <td>Chocolate Sandwich Cookies</td>\n",
       "      <td>61</td>\n",
       "      <td>19</td>\n",
       "      <td>5.8</td>\n",
       "      <td>1909121</td>\n",
       "      <td>5</td>\n",
       "      <td>prior</td>\n",
       "      <td>2</td>\n",
       "      <td>0</td>\n",
       "      <td>...</td>\n",
       "      <td>Female</td>\n",
       "      <td>California</td>\n",
       "      <td>75</td>\n",
       "      <td>10/8/2018</td>\n",
       "      <td>0</td>\n",
       "      <td>divorced/widowed</td>\n",
       "      <td>115242</td>\n",
       "      <td>both</td>\n",
       "      <td>West</td>\n",
       "      <td>Exclude</td>\n",
       "    </tr>\n",
       "    <tr>\n",
       "      <th>2</th>\n",
       "      <td>1</td>\n",
       "      <td>Chocolate Sandwich Cookies</td>\n",
       "      <td>61</td>\n",
       "      <td>19</td>\n",
       "      <td>5.8</td>\n",
       "      <td>2267326</td>\n",
       "      <td>5</td>\n",
       "      <td>prior</td>\n",
       "      <td>3</td>\n",
       "      <td>3</td>\n",
       "      <td>...</td>\n",
       "      <td>Female</td>\n",
       "      <td>California</td>\n",
       "      <td>75</td>\n",
       "      <td>10/8/2018</td>\n",
       "      <td>0</td>\n",
       "      <td>divorced/widowed</td>\n",
       "      <td>115242</td>\n",
       "      <td>both</td>\n",
       "      <td>West</td>\n",
       "      <td>Exclude</td>\n",
       "    </tr>\n",
       "    <tr>\n",
       "      <th>3</th>\n",
       "      <td>1</td>\n",
       "      <td>Chocolate Sandwich Cookies</td>\n",
       "      <td>61</td>\n",
       "      <td>19</td>\n",
       "      <td>5.8</td>\n",
       "      <td>157374</td>\n",
       "      <td>5</td>\n",
       "      <td>prior</td>\n",
       "      <td>4</td>\n",
       "      <td>1</td>\n",
       "      <td>...</td>\n",
       "      <td>Female</td>\n",
       "      <td>California</td>\n",
       "      <td>75</td>\n",
       "      <td>10/8/2018</td>\n",
       "      <td>0</td>\n",
       "      <td>divorced/widowed</td>\n",
       "      <td>115242</td>\n",
       "      <td>both</td>\n",
       "      <td>West</td>\n",
       "      <td>Exclude</td>\n",
       "    </tr>\n",
       "    <tr>\n",
       "      <th>4</th>\n",
       "      <td>1</td>\n",
       "      <td>Chocolate Sandwich Cookies</td>\n",
       "      <td>61</td>\n",
       "      <td>19</td>\n",
       "      <td>5.8</td>\n",
       "      <td>2570360</td>\n",
       "      <td>8</td>\n",
       "      <td>prior</td>\n",
       "      <td>3</td>\n",
       "      <td>5</td>\n",
       "      <td>...</td>\n",
       "      <td>Female</td>\n",
       "      <td>Delaware</td>\n",
       "      <td>32</td>\n",
       "      <td>1/5/2018</td>\n",
       "      <td>1</td>\n",
       "      <td>married</td>\n",
       "      <td>88603</td>\n",
       "      <td>both</td>\n",
       "      <td>South</td>\n",
       "      <td>Exclude</td>\n",
       "    </tr>\n",
       "  </tbody>\n",
       "</table>\n",
       "<p>5 rows × 36 columns</p>\n",
       "</div>"
      ],
      "text/plain": [
       "   product_id                product_name  aisle_id  department_id  prices  \\\n",
       "0           1  Chocolate Sandwich Cookies        61             19     5.8   \n",
       "1           1  Chocolate Sandwich Cookies        61             19     5.8   \n",
       "2           1  Chocolate Sandwich Cookies        61             19     5.8   \n",
       "3           1  Chocolate Sandwich Cookies        61             19     5.8   \n",
       "4           1  Chocolate Sandwich Cookies        61             19     5.8   \n",
       "\n",
       "  order_id user_id eval_set  order_sequence  orders_day_of_week  ...  gender  \\\n",
       "0  2717275       5    prior               1                   3  ...  Female   \n",
       "1  1909121       5    prior               2                   0  ...  Female   \n",
       "2  2267326       5    prior               3                   3  ...  Female   \n",
       "3   157374       5    prior               4                   1  ...  Female   \n",
       "4  2570360       8    prior               3                   5  ...  Female   \n",
       "\n",
       "        state  age  date_joined n_dependants    marital_status  income _merge  \\\n",
       "0  California   75    10/8/2018            0  divorced/widowed  115242   both   \n",
       "1  California   75    10/8/2018            0  divorced/widowed  115242   both   \n",
       "2  California   75    10/8/2018            0  divorced/widowed  115242   both   \n",
       "3  California   75    10/8/2018            0  divorced/widowed  115242   both   \n",
       "4    Delaware   32     1/5/2018            1           married   88603   both   \n",
       "\n",
       "   region exclusion_flag  \n",
       "0    West        Exclude  \n",
       "1    West        Exclude  \n",
       "2    West        Exclude  \n",
       "3    West        Exclude  \n",
       "4   South        Exclude  \n",
       "\n",
       "[5 rows x 36 columns]"
      ]
     },
     "execution_count": 19,
     "metadata": {},
     "output_type": "execute_result"
    }
   ],
   "source": [
    "# Check table\n",
    "ords_prods_customers.head()"
   ]
  },
  {
   "cell_type": "code",
   "execution_count": 20,
   "id": "c442bfd5",
   "metadata": {},
   "outputs": [
    {
     "data": {
      "text/plain": [
       "exclusion_flag\n",
       "Keep       15738830\n",
       "Exclude      732773\n",
       "Name: count, dtype: int64"
      ]
     },
     "execution_count": 20,
     "metadata": {},
     "output_type": "execute_result"
    }
   ],
   "source": [
    "# Check frequencies\n",
    "ords_prods_customers['exclusion_flag'].value_counts(dropna = False)"
   ]
  },
  {
   "cell_type": "code",
   "execution_count": 21,
   "id": "bad1802d",
   "metadata": {},
   "outputs": [],
   "source": [
    "# Check exclusion flag using crosstab\n",
    "exclusion_flag_check = pd.crosstab(ords_prods_customers['exclusion_flag'], ords_prods_customers['max_order'], dropna = False)"
   ]
  },
  {
   "cell_type": "code",
   "execution_count": 22,
   "id": "3051f064",
   "metadata": {},
   "outputs": [],
   "source": [
    "exclusion_flag_check.to_clipboard()"
   ]
  },
  {
   "cell_type": "code",
   "execution_count": 23,
   "id": "b8b2aa05",
   "metadata": {},
   "outputs": [],
   "source": [
    "# Create sample without 'exclude' rows. This can be called ords_prods_kept since it includes all the rows that were kept\n",
    "ords_prods_kept = ords_prods_customers[ords_prods_customers['exclusion_flag'] == 'Keep']"
   ]
  },
  {
   "cell_type": "code",
   "execution_count": 24,
   "id": "c1fc3b76",
   "metadata": {},
   "outputs": [
    {
     "data": {
      "text/plain": [
       "(15738830, 36)"
      ]
     },
     "execution_count": 24,
     "metadata": {},
     "output_type": "execute_result"
    }
   ],
   "source": [
    "# Check sample\n",
    "ords_prods_kept.shape"
   ]
  },
  {
   "cell_type": "markdown",
   "id": "02d74cda",
   "metadata": {},
   "source": [
    "This sample includes only the relevant data"
   ]
  },
  {
   "cell_type": "code",
   "execution_count": 25,
   "id": "5a6a9030",
   "metadata": {},
   "outputs": [
    {
     "ename": "OSError",
     "evalue": "[Errno 28] No space left on device",
     "output_type": "error",
     "traceback": [
      "\u001b[1;31m---------------------------------------------------------------------------\u001b[0m",
      "\u001b[1;31mOSError\u001b[0m                                   Traceback (most recent call last)",
      "Cell \u001b[1;32mIn[25], line 2\u001b[0m\n\u001b[0;32m      1\u001b[0m \u001b[38;5;66;03m# Export Sample\u001b[39;00m\n\u001b[1;32m----> 2\u001b[0m ords_prods_kept\u001b[38;5;241m.\u001b[39mto_pickle(os\u001b[38;5;241m.\u001b[39mpath\u001b[38;5;241m.\u001b[39mjoin(path, \u001b[38;5;124m'\u001b[39m\u001b[38;5;124m02 Data\u001b[39m\u001b[38;5;124m'\u001b[39m, \u001b[38;5;124m'\u001b[39m\u001b[38;5;124mPrepared data\u001b[39m\u001b[38;5;124m'\u001b[39m, \u001b[38;5;124m'\u001b[39m\u001b[38;5;124morders_products_kept_sample.pkl\u001b[39m\u001b[38;5;124m'\u001b[39m))\n",
      "File \u001b[1;32m~\\anaconda3\\Lib\\site-packages\\pandas\\util\\_decorators.py:333\u001b[0m, in \u001b[0;36mdeprecate_nonkeyword_arguments.<locals>.decorate.<locals>.wrapper\u001b[1;34m(*args, **kwargs)\u001b[0m\n\u001b[0;32m    327\u001b[0m \u001b[38;5;28;01mif\u001b[39;00m \u001b[38;5;28mlen\u001b[39m(args) \u001b[38;5;241m>\u001b[39m num_allow_args:\n\u001b[0;32m    328\u001b[0m     warnings\u001b[38;5;241m.\u001b[39mwarn(\n\u001b[0;32m    329\u001b[0m         msg\u001b[38;5;241m.\u001b[39mformat(arguments\u001b[38;5;241m=\u001b[39m_format_argument_list(allow_args)),\n\u001b[0;32m    330\u001b[0m         \u001b[38;5;167;01mFutureWarning\u001b[39;00m,\n\u001b[0;32m    331\u001b[0m         stacklevel\u001b[38;5;241m=\u001b[39mfind_stack_level(),\n\u001b[0;32m    332\u001b[0m     )\n\u001b[1;32m--> 333\u001b[0m \u001b[38;5;28;01mreturn\u001b[39;00m func(\u001b[38;5;241m*\u001b[39margs, \u001b[38;5;241m*\u001b[39m\u001b[38;5;241m*\u001b[39mkwargs)\n",
      "File \u001b[1;32m~\\anaconda3\\Lib\\site-packages\\pandas\\core\\generic.py:3162\u001b[0m, in \u001b[0;36mNDFrame.to_pickle\u001b[1;34m(self, path, compression, protocol, storage_options)\u001b[0m\n\u001b[0;32m   3112\u001b[0m \u001b[38;5;250m\u001b[39m\u001b[38;5;124;03m\"\"\"\u001b[39;00m\n\u001b[0;32m   3113\u001b[0m \u001b[38;5;124;03mPickle (serialize) object to file.\u001b[39;00m\n\u001b[0;32m   3114\u001b[0m \n\u001b[1;32m   (...)\u001b[0m\n\u001b[0;32m   3158\u001b[0m \u001b[38;5;124;03m4    4    9\u001b[39;00m\n\u001b[0;32m   3159\u001b[0m \u001b[38;5;124;03m\"\"\"\u001b[39;00m  \u001b[38;5;66;03m# noqa: E501\u001b[39;00m\n\u001b[0;32m   3160\u001b[0m \u001b[38;5;28;01mfrom\u001b[39;00m \u001b[38;5;21;01mpandas\u001b[39;00m\u001b[38;5;21;01m.\u001b[39;00m\u001b[38;5;21;01mio\u001b[39;00m\u001b[38;5;21;01m.\u001b[39;00m\u001b[38;5;21;01mpickle\u001b[39;00m \u001b[38;5;28;01mimport\u001b[39;00m to_pickle\n\u001b[1;32m-> 3162\u001b[0m to_pickle(\n\u001b[0;32m   3163\u001b[0m     \u001b[38;5;28mself\u001b[39m,\n\u001b[0;32m   3164\u001b[0m     path,\n\u001b[0;32m   3165\u001b[0m     compression\u001b[38;5;241m=\u001b[39mcompression,\n\u001b[0;32m   3166\u001b[0m     protocol\u001b[38;5;241m=\u001b[39mprotocol,\n\u001b[0;32m   3167\u001b[0m     storage_options\u001b[38;5;241m=\u001b[39mstorage_options,\n\u001b[0;32m   3168\u001b[0m )\n",
      "File \u001b[1;32m~\\anaconda3\\Lib\\site-packages\\pandas\\io\\pickle.py:111\u001b[0m, in \u001b[0;36mto_pickle\u001b[1;34m(obj, filepath_or_buffer, compression, protocol, storage_options)\u001b[0m\n\u001b[0;32m    101\u001b[0m     protocol \u001b[38;5;241m=\u001b[39m pickle\u001b[38;5;241m.\u001b[39mHIGHEST_PROTOCOL\n\u001b[0;32m    103\u001b[0m \u001b[38;5;28;01mwith\u001b[39;00m get_handle(\n\u001b[0;32m    104\u001b[0m     filepath_or_buffer,\n\u001b[0;32m    105\u001b[0m     \u001b[38;5;124m\"\u001b[39m\u001b[38;5;124mwb\u001b[39m\u001b[38;5;124m\"\u001b[39m,\n\u001b[1;32m   (...)\u001b[0m\n\u001b[0;32m    109\u001b[0m ) \u001b[38;5;28;01mas\u001b[39;00m handles:\n\u001b[0;32m    110\u001b[0m     \u001b[38;5;66;03m# letting pickle write directly to the buffer is more memory-efficient\u001b[39;00m\n\u001b[1;32m--> 111\u001b[0m     pickle\u001b[38;5;241m.\u001b[39mdump(obj, handles\u001b[38;5;241m.\u001b[39mhandle, protocol\u001b[38;5;241m=\u001b[39mprotocol)\n",
      "\u001b[1;31mOSError\u001b[0m: [Errno 28] No space left on device"
     ]
    }
   ],
   "source": [
    "# Export Sample\n",
    "ords_prods_kept.to_pickle(os.path.join(path, '02 Data', 'Prepared data', 'orders_products_kept_sample.pkl'))"
   ]
  },
  {
   "cell_type": "markdown",
   "id": "8685e051",
   "metadata": {},
   "source": [
    "# Create profiling variables"
   ]
  },
  {
   "cell_type": "markdown",
   "id": "0772e2d6",
   "metadata": {},
   "source": [
    "Variables for age, income and number of dependents:"
   ]
  },
  {
   "cell_type": "markdown",
   "id": "87635e49",
   "metadata": {},
   "source": [
    "## Age"
   ]
  },
  {
   "cell_type": "code",
   "execution_count": 26,
   "id": "52fe3683",
   "metadata": {},
   "outputs": [
    {
     "name": "stderr",
     "output_type": "stream",
     "text": [
      "C:\\Users\\lauri\\AppData\\Local\\Temp\\ipykernel_8396\\495309592.py:1: SettingWithCopyWarning: \n",
      "A value is trying to be set on a copy of a slice from a DataFrame.\n",
      "Try using .loc[row_indexer,col_indexer] = value instead\n",
      "\n",
      "See the caveats in the documentation: https://pandas.pydata.org/pandas-docs/stable/user_guide/indexing.html#returning-a-view-versus-a-copy\n",
      "  ords_prods_kept.loc[ords_prods_kept['age'] <= 25, 'age_group'] = 'Young Adult'\n"
     ]
    }
   ],
   "source": [
    "ords_prods_kept.loc[ords_prods_kept['age'] <= 25, 'age_group'] = 'Young Adult'"
   ]
  },
  {
   "cell_type": "code",
   "execution_count": 27,
   "id": "77b3cd22",
   "metadata": {},
   "outputs": [],
   "source": [
    "ords_prods_kept.loc[(ords_prods_kept['age'] > 25) & \n",
    "                    (ords_prods_kept['age'] < 45), 'age_group'] = 'Adult'"
   ]
  },
  {
   "cell_type": "code",
   "execution_count": 28,
   "id": "3a7b4ef7",
   "metadata": {},
   "outputs": [],
   "source": [
    "ords_prods_kept.loc[(ords_prods_kept['age'] >= 45) & \n",
    "                    (ords_prods_kept['age'] < 65), 'age_group'] = 'Older adult'"
   ]
  },
  {
   "cell_type": "code",
   "execution_count": 29,
   "id": "1d7155c0",
   "metadata": {},
   "outputs": [],
   "source": [
    "ords_prods_kept.loc[ords_prods_kept['age'] >= 65, 'age_group'] = 'Senior'"
   ]
  },
  {
   "cell_type": "code",
   "execution_count": 30,
   "id": "ba588c04",
   "metadata": {},
   "outputs": [
    {
     "data": {
      "text/plain": [
       "age_group\n",
       "Older adult    4930465\n",
       "Adult          4679918\n",
       "Senior         4168619\n",
       "Young Adult    1959828\n",
       "Name: count, dtype: int64"
      ]
     },
     "execution_count": 30,
     "metadata": {},
     "output_type": "execute_result"
    }
   ],
   "source": [
    "# Check frequency of age_group and ensure no NaNs\n",
    "ords_prods_kept['age_group'].value_counts(dropna = False)"
   ]
  },
  {
   "cell_type": "markdown",
   "id": "df951840",
   "metadata": {},
   "source": [
    "## Income"
   ]
  },
  {
   "cell_type": "code",
   "execution_count": 31,
   "id": "a134a9e6",
   "metadata": {},
   "outputs": [
    {
     "name": "stderr",
     "output_type": "stream",
     "text": [
      "C:\\Users\\lauri\\AppData\\Local\\Temp\\ipykernel_8396\\734260284.py:1: SettingWithCopyWarning: \n",
      "A value is trying to be set on a copy of a slice from a DataFrame.\n",
      "Try using .loc[row_indexer,col_indexer] = value instead\n",
      "\n",
      "See the caveats in the documentation: https://pandas.pydata.org/pandas-docs/stable/user_guide/indexing.html#returning-a-view-versus-a-copy\n",
      "  ords_prods_kept.loc[ords_prods_kept['income'] <= 50000, 'income_group'] = 'Low'\n"
     ]
    }
   ],
   "source": [
    "ords_prods_kept.loc[ords_prods_kept['income'] <= 50000, 'income_group'] = 'Low'"
   ]
  },
  {
   "cell_type": "code",
   "execution_count": 33,
   "id": "6c80133c",
   "metadata": {},
   "outputs": [],
   "source": [
    "ords_prods_kept.loc[(ords_prods_kept['income'] > 50000) & \n",
    "                    (ords_prods_kept['income'] <= 100000), 'income_group'] = 'Middle'"
   ]
  },
  {
   "cell_type": "code",
   "execution_count": 34,
   "id": "b2cd852f",
   "metadata": {},
   "outputs": [],
   "source": [
    "ords_prods_kept.loc[ords_prods_kept['income'] > 100000, 'income_group'] = 'High'"
   ]
  },
  {
   "cell_type": "code",
   "execution_count": 35,
   "id": "ef750cf1",
   "metadata": {},
   "outputs": [
    {
     "data": {
      "text/plain": [
       "income_group\n",
       "High      7223017\n",
       "Middle    6803990\n",
       "Low       1711823\n",
       "Name: count, dtype: int64"
      ]
     },
     "execution_count": 35,
     "metadata": {},
     "output_type": "execute_result"
    }
   ],
   "source": [
    "# Check frequency of income_group and ensure no NaNs\n",
    "ords_prods_kept['income_group'].value_counts(dropna = False)"
   ]
  },
  {
   "cell_type": "markdown",
   "id": "30d2012d",
   "metadata": {},
   "source": [
    "## Number of Dependants"
   ]
  },
  {
   "cell_type": "code",
   "execution_count": 36,
   "id": "8ee86fbe",
   "metadata": {},
   "outputs": [
    {
     "name": "stderr",
     "output_type": "stream",
     "text": [
      "C:\\Users\\lauri\\AppData\\Local\\Temp\\ipykernel_8396\\1113074742.py:1: SettingWithCopyWarning: \n",
      "A value is trying to be set on a copy of a slice from a DataFrame.\n",
      "Try using .loc[row_indexer,col_indexer] = value instead\n",
      "\n",
      "See the caveats in the documentation: https://pandas.pydata.org/pandas-docs/stable/user_guide/indexing.html#returning-a-view-versus-a-copy\n",
      "  ords_prods_kept.loc[ords_prods_kept['n_dependants'] == 0, 'dependants_flag'] = 'No Dependants'\n"
     ]
    }
   ],
   "source": [
    "ords_prods_kept.loc[ords_prods_kept['n_dependants'] == 0, 'dependants_flag'] = 'No Dependants'"
   ]
  },
  {
   "cell_type": "code",
   "execution_count": 37,
   "id": "09218417",
   "metadata": {},
   "outputs": [],
   "source": [
    "ords_prods_kept.loc[ords_prods_kept['n_dependants'] > 0, 'dependants_flag'] = 'Has Dependants'"
   ]
  },
  {
   "cell_type": "code",
   "execution_count": 38,
   "id": "d4013a61",
   "metadata": {},
   "outputs": [
    {
     "data": {
      "text/plain": [
       "dependants_flag\n",
       "Has Dependants    11805383\n",
       "No Dependants      3933447\n",
       "Name: count, dtype: int64"
      ]
     },
     "execution_count": 38,
     "metadata": {},
     "output_type": "execute_result"
    }
   ],
   "source": [
    "# Check data\n",
    "ords_prods_kept['dependants_flag'].value_counts(dropna = False)"
   ]
  },
  {
   "cell_type": "markdown",
   "id": "cc130fac",
   "metadata": {},
   "source": [
    "# Visualisations to show distributions of profiles"
   ]
  },
  {
   "cell_type": "markdown",
   "id": "be9f41a0",
   "metadata": {},
   "source": [
    "Subset of unique user ids with only the relevant columns will be create"
   ]
  },
  {
   "cell_type": "code",
   "execution_count": 39,
   "id": "66e9cc26",
   "metadata": {},
   "outputs": [],
   "source": [
    "# Start creating unique user_id sample \n",
    "user_sample = ords_prods_kept[['user_id', 'age_group', 'income_group', 'dependants_flag', 'region', 'frequency_flag']]"
   ]
  },
  {
   "cell_type": "code",
   "execution_count": 42,
   "id": "d903ef06",
   "metadata": {},
   "outputs": [],
   "source": [
    "# Remove duplicate rows in the user_sample to obtain a sample of all unique customers\n",
    "user_sample = user_sample.drop_duplicates()"
   ]
  },
  {
   "cell_type": "code",
   "execution_count": 43,
   "id": "29c3c5c7",
   "metadata": {},
   "outputs": [
    {
     "data": {
      "text/html": [
       "<div>\n",
       "<style scoped>\n",
       "    .dataframe tbody tr th:only-of-type {\n",
       "        vertical-align: middle;\n",
       "    }\n",
       "\n",
       "    .dataframe tbody tr th {\n",
       "        vertical-align: top;\n",
       "    }\n",
       "\n",
       "    .dataframe thead th {\n",
       "        text-align: right;\n",
       "    }\n",
       "</style>\n",
       "<table border=\"1\" class=\"dataframe\">\n",
       "  <thead>\n",
       "    <tr style=\"text-align: right;\">\n",
       "      <th></th>\n",
       "      <th>user_id</th>\n",
       "      <th>age_group</th>\n",
       "      <th>income_group</th>\n",
       "      <th>dependants_flag</th>\n",
       "      <th>region</th>\n",
       "      <th>frequency_flag</th>\n",
       "    </tr>\n",
       "  </thead>\n",
       "  <tbody>\n",
       "    <tr>\n",
       "      <th>5</th>\n",
       "      <td>10</td>\n",
       "      <td>Adult</td>\n",
       "      <td>Middle</td>\n",
       "      <td>Has Dependants</td>\n",
       "      <td>South</td>\n",
       "      <td>Non_frequent_customer</td>\n",
       "    </tr>\n",
       "    <tr>\n",
       "      <th>7</th>\n",
       "      <td>14</td>\n",
       "      <td>Senior</td>\n",
       "      <td>Middle</td>\n",
       "      <td>Has Dependants</td>\n",
       "      <td>Midwest</td>\n",
       "      <td>Non_frequent_customer</td>\n",
       "    </tr>\n",
       "    <tr>\n",
       "      <th>8</th>\n",
       "      <td>27</td>\n",
       "      <td>Senior</td>\n",
       "      <td>High</td>\n",
       "      <td>No Dependants</td>\n",
       "      <td>Northeast</td>\n",
       "      <td>Frequent Customer</td>\n",
       "    </tr>\n",
       "    <tr>\n",
       "      <th>9</th>\n",
       "      <td>37</td>\n",
       "      <td>Senior</td>\n",
       "      <td>High</td>\n",
       "      <td>Has Dependants</td>\n",
       "      <td>South</td>\n",
       "      <td>Frequent Customer</td>\n",
       "    </tr>\n",
       "    <tr>\n",
       "      <th>12</th>\n",
       "      <td>38</td>\n",
       "      <td>Older adult</td>\n",
       "      <td>High</td>\n",
       "      <td>No Dependants</td>\n",
       "      <td>Midwest</td>\n",
       "      <td>Non_frequent_customer</td>\n",
       "    </tr>\n",
       "    <tr>\n",
       "      <th>...</th>\n",
       "      <td>...</td>\n",
       "      <td>...</td>\n",
       "      <td>...</td>\n",
       "      <td>...</td>\n",
       "      <td>...</td>\n",
       "      <td>...</td>\n",
       "    </tr>\n",
       "    <tr>\n",
       "      <th>16377232</th>\n",
       "      <td>204400</td>\n",
       "      <td>Older adult</td>\n",
       "      <td>Middle</td>\n",
       "      <td>Has Dependants</td>\n",
       "      <td>South</td>\n",
       "      <td>Regular customer</td>\n",
       "    </tr>\n",
       "    <tr>\n",
       "      <th>16390776</th>\n",
       "      <td>28257</td>\n",
       "      <td>Older adult</td>\n",
       "      <td>Low</td>\n",
       "      <td>Has Dependants</td>\n",
       "      <td>West</td>\n",
       "      <td>Regular customer</td>\n",
       "    </tr>\n",
       "    <tr>\n",
       "      <th>16402329</th>\n",
       "      <td>53377</td>\n",
       "      <td>Older adult</td>\n",
       "      <td>Middle</td>\n",
       "      <td>Has Dependants</td>\n",
       "      <td>South</td>\n",
       "      <td>Non_frequent_customer</td>\n",
       "    </tr>\n",
       "    <tr>\n",
       "      <th>16406450</th>\n",
       "      <td>62511</td>\n",
       "      <td>Older adult</td>\n",
       "      <td>Low</td>\n",
       "      <td>Has Dependants</td>\n",
       "      <td>Midwest</td>\n",
       "      <td>Frequent Customer</td>\n",
       "    </tr>\n",
       "    <tr>\n",
       "      <th>16457803</th>\n",
       "      <td>177064</td>\n",
       "      <td>Adult</td>\n",
       "      <td>Low</td>\n",
       "      <td>Has Dependants</td>\n",
       "      <td>South</td>\n",
       "      <td>Frequent Customer</td>\n",
       "    </tr>\n",
       "  </tbody>\n",
       "</table>\n",
       "<p>160919 rows × 6 columns</p>\n",
       "</div>"
      ],
      "text/plain": [
       "         user_id    age_group income_group dependants_flag     region  \\\n",
       "5             10        Adult       Middle  Has Dependants      South   \n",
       "7             14       Senior       Middle  Has Dependants    Midwest   \n",
       "8             27       Senior         High   No Dependants  Northeast   \n",
       "9             37       Senior         High  Has Dependants      South   \n",
       "12            38  Older adult         High   No Dependants    Midwest   \n",
       "...          ...          ...          ...             ...        ...   \n",
       "16377232  204400  Older adult       Middle  Has Dependants      South   \n",
       "16390776   28257  Older adult          Low  Has Dependants       West   \n",
       "16402329   53377  Older adult       Middle  Has Dependants      South   \n",
       "16406450   62511  Older adult          Low  Has Dependants    Midwest   \n",
       "16457803  177064        Adult          Low  Has Dependants      South   \n",
       "\n",
       "                 frequency_flag  \n",
       "5         Non_frequent_customer  \n",
       "7         Non_frequent_customer  \n",
       "8             Frequent Customer  \n",
       "9             Frequent Customer  \n",
       "12        Non_frequent_customer  \n",
       "...                         ...  \n",
       "16377232       Regular customer  \n",
       "16390776       Regular customer  \n",
       "16402329  Non_frequent_customer  \n",
       "16406450      Frequent Customer  \n",
       "16457803      Frequent Customer  \n",
       "\n",
       "[160919 rows x 6 columns]"
      ]
     },
     "execution_count": 43,
     "metadata": {},
     "output_type": "execute_result"
    }
   ],
   "source": [
    "# Check data\n",
    "user_sample"
   ]
  },
  {
   "cell_type": "markdown",
   "id": "d461398c",
   "metadata": {},
   "source": [
    "## Age Groups"
   ]
  },
  {
   "cell_type": "code",
   "execution_count": 44,
   "id": "bf57210a",
   "metadata": {},
   "outputs": [],
   "source": [
    "# Import visualisation libraries\n",
    "import matplotlib.pyplot as plt\n",
    "import seaborn as sns\n",
    "import scipy"
   ]
  },
  {
   "cell_type": "code",
   "execution_count": 45,
   "id": "05a6d729",
   "metadata": {},
   "outputs": [],
   "source": [
    "# First, create a table of age_group counts\n",
    "age_group_counts = user_sample['age_group'].value_counts()"
   ]
  },
  {
   "cell_type": "code",
   "execution_count": 46,
   "id": "f9826279",
   "metadata": {},
   "outputs": [
    {
     "ename": "FileNotFoundError",
     "evalue": "[Errno 2] No such file or directory: 'C:\\\\Users\\\\lauri\\\\Desktop\\\\Careerfoundry\\\\Python\\\\Instacart Basket Analysis\\\\04 Analysis\\\\Visualisations\\\\customers_age_groups_pie.png'",
     "output_type": "error",
     "traceback": [
      "\u001b[1;31m---------------------------------------------------------------------------\u001b[0m",
      "\u001b[1;31mFileNotFoundError\u001b[0m                         Traceback (most recent call last)",
      "Cell \u001b[1;32mIn[46], line 9\u001b[0m\n\u001b[0;32m      3\u001b[0m plt\u001b[38;5;241m.\u001b[39mpie(age_group_counts, \n\u001b[0;32m      4\u001b[0m         labels \u001b[38;5;241m=\u001b[39m age_group_counts\u001b[38;5;241m.\u001b[39mindex, \n\u001b[0;32m      5\u001b[0m         autopct\u001b[38;5;241m=\u001b[39m\u001b[38;5;124m'\u001b[39m\u001b[38;5;132;01m%.1f\u001b[39;00m\u001b[38;5;132;01m%%\u001b[39;00m\u001b[38;5;124m'\u001b[39m, \u001b[38;5;66;03m# Show percentage to 1 d.p\u001b[39;00m\n\u001b[0;32m      6\u001b[0m         colors \u001b[38;5;241m=\u001b[39m [\u001b[38;5;124m'\u001b[39m\u001b[38;5;124m#FD8A8A\u001b[39m\u001b[38;5;124m'\u001b[39m, \u001b[38;5;124m'\u001b[39m\u001b[38;5;124m#F1F7B5\u001b[39m\u001b[38;5;124m'\u001b[39m, \u001b[38;5;124m'\u001b[39m\u001b[38;5;124m#A8D1D1\u001b[39m\u001b[38;5;124m'\u001b[39m, \u001b[38;5;124m'\u001b[39m\u001b[38;5;124m#9EA1D4\u001b[39m\u001b[38;5;124m'\u001b[39m], \u001b[38;5;66;03m# colour palette\u001b[39;00m\n\u001b[0;32m      7\u001b[0m         wedgeprops \u001b[38;5;241m=\u001b[39m {\u001b[38;5;124m'\u001b[39m\u001b[38;5;124medgecolor\u001b[39m\u001b[38;5;124m'\u001b[39m : \u001b[38;5;124m'\u001b[39m\u001b[38;5;124mblack\u001b[39m\u001b[38;5;124m'\u001b[39m}) \u001b[38;5;66;03m# boarders\u001b[39;00m\n\u001b[0;32m      8\u001b[0m plt\u001b[38;5;241m.\u001b[39mtitle(\u001b[38;5;124m'\u001b[39m\u001b[38;5;124mInstacart Distribution of Customers by Age Group\u001b[39m\u001b[38;5;124m'\u001b[39m) \u001b[38;5;66;03m# title\u001b[39;00m\n\u001b[1;32m----> 9\u001b[0m plt\u001b[38;5;241m.\u001b[39msavefig(os\u001b[38;5;241m.\u001b[39mpath\u001b[38;5;241m.\u001b[39mjoin(path, \u001b[38;5;124m'\u001b[39m\u001b[38;5;124m04 Analysis\u001b[39m\u001b[38;5;124m'\u001b[39m, \u001b[38;5;124m'\u001b[39m\u001b[38;5;124mVisualisations\u001b[39m\u001b[38;5;124m'\u001b[39m, \u001b[38;5;124m'\u001b[39m\u001b[38;5;124mcustomers_age_groups_pie.png\u001b[39m\u001b[38;5;124m'\u001b[39m), bbox_inches \u001b[38;5;241m=\u001b[39m \u001b[38;5;124m'\u001b[39m\u001b[38;5;124mtight\u001b[39m\u001b[38;5;124m'\u001b[39m) \u001b[38;5;66;03m# Save\u001b[39;00m\n\u001b[0;32m     10\u001b[0m plt\u001b[38;5;241m.\u001b[39mshow()\n",
      "File \u001b[1;32m~\\anaconda3\\Lib\\site-packages\\matplotlib\\pyplot.py:1134\u001b[0m, in \u001b[0;36msavefig\u001b[1;34m(*args, **kwargs)\u001b[0m\n\u001b[0;32m   1131\u001b[0m fig \u001b[38;5;241m=\u001b[39m gcf()\n\u001b[0;32m   1132\u001b[0m \u001b[38;5;66;03m# savefig default implementation has no return, so mypy is unhappy\u001b[39;00m\n\u001b[0;32m   1133\u001b[0m \u001b[38;5;66;03m# presumably this is here because subclasses can return?\u001b[39;00m\n\u001b[1;32m-> 1134\u001b[0m res \u001b[38;5;241m=\u001b[39m fig\u001b[38;5;241m.\u001b[39msavefig(\u001b[38;5;241m*\u001b[39margs, \u001b[38;5;241m*\u001b[39m\u001b[38;5;241m*\u001b[39mkwargs)  \u001b[38;5;66;03m# type: ignore[func-returns-value]\u001b[39;00m\n\u001b[0;32m   1135\u001b[0m fig\u001b[38;5;241m.\u001b[39mcanvas\u001b[38;5;241m.\u001b[39mdraw_idle()  \u001b[38;5;66;03m# Need this if 'transparent=True', to reset colors.\u001b[39;00m\n\u001b[0;32m   1136\u001b[0m \u001b[38;5;28;01mreturn\u001b[39;00m res\n",
      "File \u001b[1;32m~\\anaconda3\\Lib\\site-packages\\matplotlib\\figure.py:3390\u001b[0m, in \u001b[0;36mFigure.savefig\u001b[1;34m(self, fname, transparent, **kwargs)\u001b[0m\n\u001b[0;32m   3388\u001b[0m     \u001b[38;5;28;01mfor\u001b[39;00m ax \u001b[38;5;129;01min\u001b[39;00m \u001b[38;5;28mself\u001b[39m\u001b[38;5;241m.\u001b[39maxes:\n\u001b[0;32m   3389\u001b[0m         _recursively_make_axes_transparent(stack, ax)\n\u001b[1;32m-> 3390\u001b[0m \u001b[38;5;28mself\u001b[39m\u001b[38;5;241m.\u001b[39mcanvas\u001b[38;5;241m.\u001b[39mprint_figure(fname, \u001b[38;5;241m*\u001b[39m\u001b[38;5;241m*\u001b[39mkwargs)\n",
      "File \u001b[1;32m~\\anaconda3\\Lib\\site-packages\\matplotlib\\backend_bases.py:2193\u001b[0m, in \u001b[0;36mFigureCanvasBase.print_figure\u001b[1;34m(self, filename, dpi, facecolor, edgecolor, orientation, format, bbox_inches, pad_inches, bbox_extra_artists, backend, **kwargs)\u001b[0m\n\u001b[0;32m   2189\u001b[0m \u001b[38;5;28;01mtry\u001b[39;00m:\n\u001b[0;32m   2190\u001b[0m     \u001b[38;5;66;03m# _get_renderer may change the figure dpi (as vector formats\u001b[39;00m\n\u001b[0;32m   2191\u001b[0m     \u001b[38;5;66;03m# force the figure dpi to 72), so we need to set it again here.\u001b[39;00m\n\u001b[0;32m   2192\u001b[0m     \u001b[38;5;28;01mwith\u001b[39;00m cbook\u001b[38;5;241m.\u001b[39m_setattr_cm(\u001b[38;5;28mself\u001b[39m\u001b[38;5;241m.\u001b[39mfigure, dpi\u001b[38;5;241m=\u001b[39mdpi):\n\u001b[1;32m-> 2193\u001b[0m         result \u001b[38;5;241m=\u001b[39m print_method(\n\u001b[0;32m   2194\u001b[0m             filename,\n\u001b[0;32m   2195\u001b[0m             facecolor\u001b[38;5;241m=\u001b[39mfacecolor,\n\u001b[0;32m   2196\u001b[0m             edgecolor\u001b[38;5;241m=\u001b[39medgecolor,\n\u001b[0;32m   2197\u001b[0m             orientation\u001b[38;5;241m=\u001b[39morientation,\n\u001b[0;32m   2198\u001b[0m             bbox_inches_restore\u001b[38;5;241m=\u001b[39m_bbox_inches_restore,\n\u001b[0;32m   2199\u001b[0m             \u001b[38;5;241m*\u001b[39m\u001b[38;5;241m*\u001b[39mkwargs)\n\u001b[0;32m   2200\u001b[0m \u001b[38;5;28;01mfinally\u001b[39;00m:\n\u001b[0;32m   2201\u001b[0m     \u001b[38;5;28;01mif\u001b[39;00m bbox_inches \u001b[38;5;129;01mand\u001b[39;00m restore_bbox:\n",
      "File \u001b[1;32m~\\anaconda3\\Lib\\site-packages\\matplotlib\\backend_bases.py:2043\u001b[0m, in \u001b[0;36mFigureCanvasBase._switch_canvas_and_return_print_method.<locals>.<lambda>\u001b[1;34m(*args, **kwargs)\u001b[0m\n\u001b[0;32m   2039\u001b[0m     optional_kws \u001b[38;5;241m=\u001b[39m {  \u001b[38;5;66;03m# Passed by print_figure for other renderers.\u001b[39;00m\n\u001b[0;32m   2040\u001b[0m         \u001b[38;5;124m\"\u001b[39m\u001b[38;5;124mdpi\u001b[39m\u001b[38;5;124m\"\u001b[39m, \u001b[38;5;124m\"\u001b[39m\u001b[38;5;124mfacecolor\u001b[39m\u001b[38;5;124m\"\u001b[39m, \u001b[38;5;124m\"\u001b[39m\u001b[38;5;124medgecolor\u001b[39m\u001b[38;5;124m\"\u001b[39m, \u001b[38;5;124m\"\u001b[39m\u001b[38;5;124morientation\u001b[39m\u001b[38;5;124m\"\u001b[39m,\n\u001b[0;32m   2041\u001b[0m         \u001b[38;5;124m\"\u001b[39m\u001b[38;5;124mbbox_inches_restore\u001b[39m\u001b[38;5;124m\"\u001b[39m}\n\u001b[0;32m   2042\u001b[0m     skip \u001b[38;5;241m=\u001b[39m optional_kws \u001b[38;5;241m-\u001b[39m {\u001b[38;5;241m*\u001b[39minspect\u001b[38;5;241m.\u001b[39msignature(meth)\u001b[38;5;241m.\u001b[39mparameters}\n\u001b[1;32m-> 2043\u001b[0m     print_method \u001b[38;5;241m=\u001b[39m functools\u001b[38;5;241m.\u001b[39mwraps(meth)(\u001b[38;5;28;01mlambda\u001b[39;00m \u001b[38;5;241m*\u001b[39margs, \u001b[38;5;241m*\u001b[39m\u001b[38;5;241m*\u001b[39mkwargs: meth(\n\u001b[0;32m   2044\u001b[0m         \u001b[38;5;241m*\u001b[39margs, \u001b[38;5;241m*\u001b[39m\u001b[38;5;241m*\u001b[39m{k: v \u001b[38;5;28;01mfor\u001b[39;00m k, v \u001b[38;5;129;01min\u001b[39;00m kwargs\u001b[38;5;241m.\u001b[39mitems() \u001b[38;5;28;01mif\u001b[39;00m k \u001b[38;5;129;01mnot\u001b[39;00m \u001b[38;5;129;01min\u001b[39;00m skip}))\n\u001b[0;32m   2045\u001b[0m \u001b[38;5;28;01melse\u001b[39;00m:  \u001b[38;5;66;03m# Let third-parties do as they see fit.\u001b[39;00m\n\u001b[0;32m   2046\u001b[0m     print_method \u001b[38;5;241m=\u001b[39m meth\n",
      "File \u001b[1;32m~\\anaconda3\\Lib\\site-packages\\matplotlib\\backends\\backend_agg.py:497\u001b[0m, in \u001b[0;36mFigureCanvasAgg.print_png\u001b[1;34m(self, filename_or_obj, metadata, pil_kwargs)\u001b[0m\n\u001b[0;32m    450\u001b[0m \u001b[38;5;28;01mdef\u001b[39;00m \u001b[38;5;21mprint_png\u001b[39m(\u001b[38;5;28mself\u001b[39m, filename_or_obj, \u001b[38;5;241m*\u001b[39m, metadata\u001b[38;5;241m=\u001b[39m\u001b[38;5;28;01mNone\u001b[39;00m, pil_kwargs\u001b[38;5;241m=\u001b[39m\u001b[38;5;28;01mNone\u001b[39;00m):\n\u001b[0;32m    451\u001b[0m \u001b[38;5;250m    \u001b[39m\u001b[38;5;124;03m\"\"\"\u001b[39;00m\n\u001b[0;32m    452\u001b[0m \u001b[38;5;124;03m    Write the figure to a PNG file.\u001b[39;00m\n\u001b[0;32m    453\u001b[0m \n\u001b[1;32m   (...)\u001b[0m\n\u001b[0;32m    495\u001b[0m \u001b[38;5;124;03m        *metadata*, including the default 'Software' key.\u001b[39;00m\n\u001b[0;32m    496\u001b[0m \u001b[38;5;124;03m    \"\"\"\u001b[39;00m\n\u001b[1;32m--> 497\u001b[0m     \u001b[38;5;28mself\u001b[39m\u001b[38;5;241m.\u001b[39m_print_pil(filename_or_obj, \u001b[38;5;124m\"\u001b[39m\u001b[38;5;124mpng\u001b[39m\u001b[38;5;124m\"\u001b[39m, pil_kwargs, metadata)\n",
      "File \u001b[1;32m~\\anaconda3\\Lib\\site-packages\\matplotlib\\backends\\backend_agg.py:446\u001b[0m, in \u001b[0;36mFigureCanvasAgg._print_pil\u001b[1;34m(self, filename_or_obj, fmt, pil_kwargs, metadata)\u001b[0m\n\u001b[0;32m    441\u001b[0m \u001b[38;5;250m\u001b[39m\u001b[38;5;124;03m\"\"\"\u001b[39;00m\n\u001b[0;32m    442\u001b[0m \u001b[38;5;124;03mDraw the canvas, then save it using `.image.imsave` (to which\u001b[39;00m\n\u001b[0;32m    443\u001b[0m \u001b[38;5;124;03m*pil_kwargs* and *metadata* are forwarded).\u001b[39;00m\n\u001b[0;32m    444\u001b[0m \u001b[38;5;124;03m\"\"\"\u001b[39;00m\n\u001b[0;32m    445\u001b[0m FigureCanvasAgg\u001b[38;5;241m.\u001b[39mdraw(\u001b[38;5;28mself\u001b[39m)\n\u001b[1;32m--> 446\u001b[0m mpl\u001b[38;5;241m.\u001b[39mimage\u001b[38;5;241m.\u001b[39mimsave(\n\u001b[0;32m    447\u001b[0m     filename_or_obj, \u001b[38;5;28mself\u001b[39m\u001b[38;5;241m.\u001b[39mbuffer_rgba(), \u001b[38;5;28mformat\u001b[39m\u001b[38;5;241m=\u001b[39mfmt, origin\u001b[38;5;241m=\u001b[39m\u001b[38;5;124m\"\u001b[39m\u001b[38;5;124mupper\u001b[39m\u001b[38;5;124m\"\u001b[39m,\n\u001b[0;32m    448\u001b[0m     dpi\u001b[38;5;241m=\u001b[39m\u001b[38;5;28mself\u001b[39m\u001b[38;5;241m.\u001b[39mfigure\u001b[38;5;241m.\u001b[39mdpi, metadata\u001b[38;5;241m=\u001b[39mmetadata, pil_kwargs\u001b[38;5;241m=\u001b[39mpil_kwargs)\n",
      "File \u001b[1;32m~\\anaconda3\\Lib\\site-packages\\matplotlib\\image.py:1656\u001b[0m, in \u001b[0;36mimsave\u001b[1;34m(fname, arr, vmin, vmax, cmap, format, origin, dpi, metadata, pil_kwargs)\u001b[0m\n\u001b[0;32m   1654\u001b[0m pil_kwargs\u001b[38;5;241m.\u001b[39msetdefault(\u001b[38;5;124m\"\u001b[39m\u001b[38;5;124mformat\u001b[39m\u001b[38;5;124m\"\u001b[39m, \u001b[38;5;28mformat\u001b[39m)\n\u001b[0;32m   1655\u001b[0m pil_kwargs\u001b[38;5;241m.\u001b[39msetdefault(\u001b[38;5;124m\"\u001b[39m\u001b[38;5;124mdpi\u001b[39m\u001b[38;5;124m\"\u001b[39m, (dpi, dpi))\n\u001b[1;32m-> 1656\u001b[0m image\u001b[38;5;241m.\u001b[39msave(fname, \u001b[38;5;241m*\u001b[39m\u001b[38;5;241m*\u001b[39mpil_kwargs)\n",
      "File \u001b[1;32m~\\anaconda3\\Lib\\site-packages\\PIL\\Image.py:2436\u001b[0m, in \u001b[0;36mImage.save\u001b[1;34m(self, fp, format, **params)\u001b[0m\n\u001b[0;32m   2434\u001b[0m         fp \u001b[38;5;241m=\u001b[39m builtins\u001b[38;5;241m.\u001b[39mopen(filename, \u001b[38;5;124m\"\u001b[39m\u001b[38;5;124mr+b\u001b[39m\u001b[38;5;124m\"\u001b[39m)\n\u001b[0;32m   2435\u001b[0m     \u001b[38;5;28;01melse\u001b[39;00m:\n\u001b[1;32m-> 2436\u001b[0m         fp \u001b[38;5;241m=\u001b[39m builtins\u001b[38;5;241m.\u001b[39mopen(filename, \u001b[38;5;124m\"\u001b[39m\u001b[38;5;124mw+b\u001b[39m\u001b[38;5;124m\"\u001b[39m)\n\u001b[0;32m   2438\u001b[0m \u001b[38;5;28;01mtry\u001b[39;00m:\n\u001b[0;32m   2439\u001b[0m     save_handler(\u001b[38;5;28mself\u001b[39m, fp, filename)\n",
      "\u001b[1;31mFileNotFoundError\u001b[0m: [Errno 2] No such file or directory: 'C:\\\\Users\\\\lauri\\\\Desktop\\\\Careerfoundry\\\\Python\\\\Instacart Basket Analysis\\\\04 Analysis\\\\Visualisations\\\\customers_age_groups_pie.png'"
     ]
    },
    {
     "data": {
      "image/png": "[encoded data removed]",
      "text/plain": [
       "<Figure size 600x600 with 1 Axes>"
      ]
     },
     "metadata": {},
     "output_type": "display_data"
    }
   ],
   "source": [
    "# Pie Chart\n",
    "plt.figure(figsize=(6, 6)) # Control size of chart\n",
    "plt.pie(age_group_counts, \n",
    "        labels = age_group_counts.index, \n",
    "        autopct='%.1f%%', # Show percentage to 1 d.p\n",
    "        colors = ['#FD8A8A', '#F1F7B5', '#A8D1D1', '#9EA1D4'], # colour palette\n",
    "        wedgeprops = {'edgecolor' : 'black'}) # boarders\n",
    "plt.title('Instacart Distribution of Customers by Age Group') # title\n",
    "plt.savefig(os.path.join(path, '04 Analysis', 'Visualisations', 'customers_age_groups_pie.png'), bbox_inches = 'tight') # Save\n",
    "plt.show()"
   ]
  },
  {
   "cell_type": "markdown",
   "id": "254fb4d5",
   "metadata": {},
   "source": [
    "## Income Groups"
   ]
  },
  {
   "cell_type": "code",
   "execution_count": 47,
   "id": "0271ea31",
   "metadata": {},
   "outputs": [],
   "source": [
    "# Follow same process for pie chart above\n",
    "## Create a table of income_group counts\n",
    "income_group_counts = user_sample['income_group'].value_counts()"
   ]
  },
  {
   "cell_type": "code",
   "execution_count": 48,
   "id": "cae08d84",
   "metadata": {},
   "outputs": [
    {
     "ename": "FileNotFoundError",
     "evalue": "[Errno 2] No such file or directory: 'C:\\\\Users\\\\lauri\\\\Desktop\\\\Careerfoundry\\\\Python\\\\Instacart Basket Analysis\\\\04 Analysis\\\\Visualisations\\\\customers_income_groups_pie.png'",
     "output_type": "error",
     "traceback": [
      "\u001b[1;31m---------------------------------------------------------------------------\u001b[0m",
      "\u001b[1;31mFileNotFoundError\u001b[0m                         Traceback (most recent call last)",
      "Cell \u001b[1;32mIn[48], line 9\u001b[0m\n\u001b[0;32m      3\u001b[0m plt\u001b[38;5;241m.\u001b[39mpie(income_group_counts, \n\u001b[0;32m      4\u001b[0m         labels \u001b[38;5;241m=\u001b[39m income_group_counts\u001b[38;5;241m.\u001b[39mindex, \n\u001b[0;32m      5\u001b[0m         autopct\u001b[38;5;241m=\u001b[39m\u001b[38;5;124m'\u001b[39m\u001b[38;5;132;01m%.1f\u001b[39;00m\u001b[38;5;132;01m%%\u001b[39;00m\u001b[38;5;124m'\u001b[39m,\n\u001b[0;32m      6\u001b[0m         colors \u001b[38;5;241m=\u001b[39m [\u001b[38;5;124m'\u001b[39m\u001b[38;5;124m#F1F7B5\u001b[39m\u001b[38;5;124m'\u001b[39m, \u001b[38;5;124m'\u001b[39m\u001b[38;5;124m#A8D1D1\u001b[39m\u001b[38;5;124m'\u001b[39m, \u001b[38;5;124m'\u001b[39m\u001b[38;5;124m#9EA1D4\u001b[39m\u001b[38;5;124m'\u001b[39m],\n\u001b[0;32m      7\u001b[0m         wedgeprops \u001b[38;5;241m=\u001b[39m {\u001b[38;5;124m'\u001b[39m\u001b[38;5;124medgecolor\u001b[39m\u001b[38;5;124m'\u001b[39m : \u001b[38;5;124m'\u001b[39m\u001b[38;5;124mblack\u001b[39m\u001b[38;5;124m'\u001b[39m})\n\u001b[0;32m      8\u001b[0m plt\u001b[38;5;241m.\u001b[39mtitle(\u001b[38;5;124m'\u001b[39m\u001b[38;5;124mInstacart Distribution of Customers by Income Group\u001b[39m\u001b[38;5;124m'\u001b[39m)\n\u001b[1;32m----> 9\u001b[0m plt\u001b[38;5;241m.\u001b[39msavefig(os\u001b[38;5;241m.\u001b[39mpath\u001b[38;5;241m.\u001b[39mjoin(path, \u001b[38;5;124m'\u001b[39m\u001b[38;5;124m04 Analysis\u001b[39m\u001b[38;5;124m'\u001b[39m, \u001b[38;5;124m'\u001b[39m\u001b[38;5;124mVisualisations\u001b[39m\u001b[38;5;124m'\u001b[39m, \u001b[38;5;124m'\u001b[39m\u001b[38;5;124mcustomers_income_groups_pie.png\u001b[39m\u001b[38;5;124m'\u001b[39m), bbox_inches \u001b[38;5;241m=\u001b[39m \u001b[38;5;124m'\u001b[39m\u001b[38;5;124mtight\u001b[39m\u001b[38;5;124m'\u001b[39m)\n\u001b[0;32m     10\u001b[0m plt\u001b[38;5;241m.\u001b[39mshow()\n",
      "File \u001b[1;32m~\\anaconda3\\Lib\\site-packages\\matplotlib\\pyplot.py:1134\u001b[0m, in \u001b[0;36msavefig\u001b[1;34m(*args, **kwargs)\u001b[0m\n\u001b[0;32m   1131\u001b[0m fig \u001b[38;5;241m=\u001b[39m gcf()\n\u001b[0;32m   1132\u001b[0m \u001b[38;5;66;03m# savefig default implementation has no return, so mypy is unhappy\u001b[39;00m\n\u001b[0;32m   1133\u001b[0m \u001b[38;5;66;03m# presumably this is here because subclasses can return?\u001b[39;00m\n\u001b[1;32m-> 1134\u001b[0m res \u001b[38;5;241m=\u001b[39m fig\u001b[38;5;241m.\u001b[39msavefig(\u001b[38;5;241m*\u001b[39margs, \u001b[38;5;241m*\u001b[39m\u001b[38;5;241m*\u001b[39mkwargs)  \u001b[38;5;66;03m# type: ignore[func-returns-value]\u001b[39;00m\n\u001b[0;32m   1135\u001b[0m fig\u001b[38;5;241m.\u001b[39mcanvas\u001b[38;5;241m.\u001b[39mdraw_idle()  \u001b[38;5;66;03m# Need this if 'transparent=True', to reset colors.\u001b[39;00m\n\u001b[0;32m   1136\u001b[0m \u001b[38;5;28;01mreturn\u001b[39;00m res\n",
      "File \u001b[1;32m~\\anaconda3\\Lib\\site-packages\\matplotlib\\figure.py:3390\u001b[0m, in \u001b[0;36mFigure.savefig\u001b[1;34m(self, fname, transparent, **kwargs)\u001b[0m\n\u001b[0;32m   3388\u001b[0m     \u001b[38;5;28;01mfor\u001b[39;00m ax \u001b[38;5;129;01min\u001b[39;00m \u001b[38;5;28mself\u001b[39m\u001b[38;5;241m.\u001b[39maxes:\n\u001b[0;32m   3389\u001b[0m         _recursively_make_axes_transparent(stack, ax)\n\u001b[1;32m-> 3390\u001b[0m \u001b[38;5;28mself\u001b[39m\u001b[38;5;241m.\u001b[39mcanvas\u001b[38;5;241m.\u001b[39mprint_figure(fname, \u001b[38;5;241m*\u001b[39m\u001b[38;5;241m*\u001b[39mkwargs)\n",
      "File \u001b[1;32m~\\anaconda3\\Lib\\site-packages\\matplotlib\\backend_bases.py:2193\u001b[0m, in \u001b[0;36mFigureCanvasBase.print_figure\u001b[1;34m(self, filename, dpi, facecolor, edgecolor, orientation, format, bbox_inches, pad_inches, bbox_extra_artists, backend, **kwargs)\u001b[0m\n\u001b[0;32m   2189\u001b[0m \u001b[38;5;28;01mtry\u001b[39;00m:\n\u001b[0;32m   2190\u001b[0m     \u001b[38;5;66;03m# _get_renderer may change the figure dpi (as vector formats\u001b[39;00m\n\u001b[0;32m   2191\u001b[0m     \u001b[38;5;66;03m# force the figure dpi to 72), so we need to set it again here.\u001b[39;00m\n\u001b[0;32m   2192\u001b[0m     \u001b[38;5;28;01mwith\u001b[39;00m cbook\u001b[38;5;241m.\u001b[39m_setattr_cm(\u001b[38;5;28mself\u001b[39m\u001b[38;5;241m.\u001b[39mfigure, dpi\u001b[38;5;241m=\u001b[39mdpi):\n\u001b[1;32m-> 2193\u001b[0m         result \u001b[38;5;241m=\u001b[39m print_method(\n\u001b[0;32m   2194\u001b[0m             filename,\n\u001b[0;32m   2195\u001b[0m             facecolor\u001b[38;5;241m=\u001b[39mfacecolor,\n\u001b[0;32m   2196\u001b[0m             edgecolor\u001b[38;5;241m=\u001b[39medgecolor,\n\u001b[0;32m   2197\u001b[0m             orientation\u001b[38;5;241m=\u001b[39morientation,\n\u001b[0;32m   2198\u001b[0m             bbox_inches_restore\u001b[38;5;241m=\u001b[39m_bbox_inches_restore,\n\u001b[0;32m   2199\u001b[0m             \u001b[38;5;241m*\u001b[39m\u001b[38;5;241m*\u001b[39mkwargs)\n\u001b[0;32m   2200\u001b[0m \u001b[38;5;28;01mfinally\u001b[39;00m:\n\u001b[0;32m   2201\u001b[0m     \u001b[38;5;28;01mif\u001b[39;00m bbox_inches \u001b[38;5;129;01mand\u001b[39;00m restore_bbox:\n",
      "File \u001b[1;32m~\\anaconda3\\Lib\\site-packages\\matplotlib\\backend_bases.py:2043\u001b[0m, in \u001b[0;36mFigureCanvasBase._switch_canvas_and_return_print_method.<locals>.<lambda>\u001b[1;34m(*args, **kwargs)\u001b[0m\n\u001b[0;32m   2039\u001b[0m     optional_kws \u001b[38;5;241m=\u001b[39m {  \u001b[38;5;66;03m# Passed by print_figure for other renderers.\u001b[39;00m\n\u001b[0;32m   2040\u001b[0m         \u001b[38;5;124m\"\u001b[39m\u001b[38;5;124mdpi\u001b[39m\u001b[38;5;124m\"\u001b[39m, \u001b[38;5;124m\"\u001b[39m\u001b[38;5;124mfacecolor\u001b[39m\u001b[38;5;124m\"\u001b[39m, \u001b[38;5;124m\"\u001b[39m\u001b[38;5;124medgecolor\u001b[39m\u001b[38;5;124m\"\u001b[39m, \u001b[38;5;124m\"\u001b[39m\u001b[38;5;124morientation\u001b[39m\u001b[38;5;124m\"\u001b[39m,\n\u001b[0;32m   2041\u001b[0m         \u001b[38;5;124m\"\u001b[39m\u001b[38;5;124mbbox_inches_restore\u001b[39m\u001b[38;5;124m\"\u001b[39m}\n\u001b[0;32m   2042\u001b[0m     skip \u001b[38;5;241m=\u001b[39m optional_kws \u001b[38;5;241m-\u001b[39m {\u001b[38;5;241m*\u001b[39minspect\u001b[38;5;241m.\u001b[39msignature(meth)\u001b[38;5;241m.\u001b[39mparameters}\n\u001b[1;32m-> 2043\u001b[0m     print_method \u001b[38;5;241m=\u001b[39m functools\u001b[38;5;241m.\u001b[39mwraps(meth)(\u001b[38;5;28;01mlambda\u001b[39;00m \u001b[38;5;241m*\u001b[39margs, \u001b[38;5;241m*\u001b[39m\u001b[38;5;241m*\u001b[39mkwargs: meth(\n\u001b[0;32m   2044\u001b[0m         \u001b[38;5;241m*\u001b[39margs, \u001b[38;5;241m*\u001b[39m\u001b[38;5;241m*\u001b[39m{k: v \u001b[38;5;28;01mfor\u001b[39;00m k, v \u001b[38;5;129;01min\u001b[39;00m kwargs\u001b[38;5;241m.\u001b[39mitems() \u001b[38;5;28;01mif\u001b[39;00m k \u001b[38;5;129;01mnot\u001b[39;00m \u001b[38;5;129;01min\u001b[39;00m skip}))\n\u001b[0;32m   2045\u001b[0m \u001b[38;5;28;01melse\u001b[39;00m:  \u001b[38;5;66;03m# Let third-parties do as they see fit.\u001b[39;00m\n\u001b[0;32m   2046\u001b[0m     print_method \u001b[38;5;241m=\u001b[39m meth\n",
      "File \u001b[1;32m~\\anaconda3\\Lib\\site-packages\\matplotlib\\backends\\backend_agg.py:497\u001b[0m, in \u001b[0;36mFigureCanvasAgg.print_png\u001b[1;34m(self, filename_or_obj, metadata, pil_kwargs)\u001b[0m\n\u001b[0;32m    450\u001b[0m \u001b[38;5;28;01mdef\u001b[39;00m \u001b[38;5;21mprint_png\u001b[39m(\u001b[38;5;28mself\u001b[39m, filename_or_obj, \u001b[38;5;241m*\u001b[39m, metadata\u001b[38;5;241m=\u001b[39m\u001b[38;5;28;01mNone\u001b[39;00m, pil_kwargs\u001b[38;5;241m=\u001b[39m\u001b[38;5;28;01mNone\u001b[39;00m):\n\u001b[0;32m    451\u001b[0m \u001b[38;5;250m    \u001b[39m\u001b[38;5;124;03m\"\"\"\u001b[39;00m\n\u001b[0;32m    452\u001b[0m \u001b[38;5;124;03m    Write the figure to a PNG file.\u001b[39;00m\n\u001b[0;32m    453\u001b[0m \n\u001b[1;32m   (...)\u001b[0m\n\u001b[0;32m    495\u001b[0m \u001b[38;5;124;03m        *metadata*, including the default 'Software' key.\u001b[39;00m\n\u001b[0;32m    496\u001b[0m \u001b[38;5;124;03m    \"\"\"\u001b[39;00m\n\u001b[1;32m--> 497\u001b[0m     \u001b[38;5;28mself\u001b[39m\u001b[38;5;241m.\u001b[39m_print_pil(filename_or_obj, \u001b[38;5;124m\"\u001b[39m\u001b[38;5;124mpng\u001b[39m\u001b[38;5;124m\"\u001b[39m, pil_kwargs, metadata)\n",
      "File \u001b[1;32m~\\anaconda3\\Lib\\site-packages\\matplotlib\\backends\\backend_agg.py:446\u001b[0m, in \u001b[0;36mFigureCanvasAgg._print_pil\u001b[1;34m(self, filename_or_obj, fmt, pil_kwargs, metadata)\u001b[0m\n\u001b[0;32m    441\u001b[0m \u001b[38;5;250m\u001b[39m\u001b[38;5;124;03m\"\"\"\u001b[39;00m\n\u001b[0;32m    442\u001b[0m \u001b[38;5;124;03mDraw the canvas, then save it using `.image.imsave` (to which\u001b[39;00m\n\u001b[0;32m    443\u001b[0m \u001b[38;5;124;03m*pil_kwargs* and *metadata* are forwarded).\u001b[39;00m\n\u001b[0;32m    444\u001b[0m \u001b[38;5;124;03m\"\"\"\u001b[39;00m\n\u001b[0;32m    445\u001b[0m FigureCanvasAgg\u001b[38;5;241m.\u001b[39mdraw(\u001b[38;5;28mself\u001b[39m)\n\u001b[1;32m--> 446\u001b[0m mpl\u001b[38;5;241m.\u001b[39mimage\u001b[38;5;241m.\u001b[39mimsave(\n\u001b[0;32m    447\u001b[0m     filename_or_obj, \u001b[38;5;28mself\u001b[39m\u001b[38;5;241m.\u001b[39mbuffer_rgba(), \u001b[38;5;28mformat\u001b[39m\u001b[38;5;241m=\u001b[39mfmt, origin\u001b[38;5;241m=\u001b[39m\u001b[38;5;124m\"\u001b[39m\u001b[38;5;124mupper\u001b[39m\u001b[38;5;124m\"\u001b[39m,\n\u001b[0;32m    448\u001b[0m     dpi\u001b[38;5;241m=\u001b[39m\u001b[38;5;28mself\u001b[39m\u001b[38;5;241m.\u001b[39mfigure\u001b[38;5;241m.\u001b[39mdpi, metadata\u001b[38;5;241m=\u001b[39mmetadata, pil_kwargs\u001b[38;5;241m=\u001b[39mpil_kwargs)\n",
      "File \u001b[1;32m~\\anaconda3\\Lib\\site-packages\\matplotlib\\image.py:1656\u001b[0m, in \u001b[0;36mimsave\u001b[1;34m(fname, arr, vmin, vmax, cmap, format, origin, dpi, metadata, pil_kwargs)\u001b[0m\n\u001b[0;32m   1654\u001b[0m pil_kwargs\u001b[38;5;241m.\u001b[39msetdefault(\u001b[38;5;124m\"\u001b[39m\u001b[38;5;124mformat\u001b[39m\u001b[38;5;124m\"\u001b[39m, \u001b[38;5;28mformat\u001b[39m)\n\u001b[0;32m   1655\u001b[0m pil_kwargs\u001b[38;5;241m.\u001b[39msetdefault(\u001b[38;5;124m\"\u001b[39m\u001b[38;5;124mdpi\u001b[39m\u001b[38;5;124m\"\u001b[39m, (dpi, dpi))\n\u001b[1;32m-> 1656\u001b[0m image\u001b[38;5;241m.\u001b[39msave(fname, \u001b[38;5;241m*\u001b[39m\u001b[38;5;241m*\u001b[39mpil_kwargs)\n",
      "File \u001b[1;32m~\\anaconda3\\Lib\\site-packages\\PIL\\Image.py:2436\u001b[0m, in \u001b[0;36mImage.save\u001b[1;34m(self, fp, format, **params)\u001b[0m\n\u001b[0;32m   2434\u001b[0m         fp \u001b[38;5;241m=\u001b[39m builtins\u001b[38;5;241m.\u001b[39mopen(filename, \u001b[38;5;124m\"\u001b[39m\u001b[38;5;124mr+b\u001b[39m\u001b[38;5;124m\"\u001b[39m)\n\u001b[0;32m   2435\u001b[0m     \u001b[38;5;28;01melse\u001b[39;00m:\n\u001b[1;32m-> 2436\u001b[0m         fp \u001b[38;5;241m=\u001b[39m builtins\u001b[38;5;241m.\u001b[39mopen(filename, \u001b[38;5;124m\"\u001b[39m\u001b[38;5;124mw+b\u001b[39m\u001b[38;5;124m\"\u001b[39m)\n\u001b[0;32m   2438\u001b[0m \u001b[38;5;28;01mtry\u001b[39;00m:\n\u001b[0;32m   2439\u001b[0m     save_handler(\u001b[38;5;28mself\u001b[39m, fp, filename)\n",
      "\u001b[1;31mFileNotFoundError\u001b[0m: [Errno 2] No such file or directory: 'C:\\\\Users\\\\lauri\\\\Desktop\\\\Careerfoundry\\\\Python\\\\Instacart Basket Analysis\\\\04 Analysis\\\\Visualisations\\\\customers_income_groups_pie.png'"
     ]
    },
    {
     "data": {
      "image/png": "[encoded data removed]",
      "text/plain": [
       "<Figure size 600x600 with 1 Axes>"
      ]
     },
     "metadata": {},
     "output_type": "display_data"
    }
   ],
   "source": [
    "# Pie chart\n",
    "plt.figure(figsize=(6, 6))\n",
    "plt.pie(income_group_counts, \n",
    "        labels = income_group_counts.index, \n",
    "        autopct='%.1f%%',\n",
    "        colors = ['#F1F7B5', '#A8D1D1', '#9EA1D4'],\n",
    "        wedgeprops = {'edgecolor' : 'black'})\n",
    "plt.title('Instacart Distribution of Customers by Income Group')\n",
    "plt.savefig(os.path.join(path, '04 Analysis', 'Visualisations', 'customers_income_groups_pie.png'), bbox_inches = 'tight')\n",
    "plt.show()"
   ]
  },
  {
   "cell_type": "markdown",
   "id": "d2dc2152",
   "metadata": {},
   "source": [
    "## Customers with Dependants"
   ]
  },
  {
   "cell_type": "code",
   "execution_count": 46,
   "id": "495a82d9",
   "metadata": {},
   "outputs": [],
   "source": [
    "# create a table of dependants_flag counts\n",
    "dependants_flag_counts = user_sample['dependants_flag'].value_counts()"
   ]
  },
  {
   "cell_type": "code",
   "execution_count": 47,
   "id": "294e39c5",
   "metadata": {},
   "outputs": [
    {
     "data": {
      "image/png": "[encoded data removed]",
      "text/plain": [
       "<Figure size 600x600 with 1 Axes>"
      ]
     },
     "metadata": {},
     "output_type": "display_data"
    }
   ],
   "source": [
    "# Pie chart\n",
    "plt.figure(figsize=(6, 6))\n",
    "plt.pie(dependants_flag_counts, \n",
    "        labels = dependants_flag_counts.index, \n",
    "        autopct='%.1f%%', \n",
    "        colors = ['#F1F7B5', '#9EA1D4'],\n",
    "        wedgeprops = {'edgecolor' : 'black'})\n",
    "plt.title('Instacart Customers with Dependants vs without Dependants')\n",
    "plt.savefig(os.path.join(path, '04 Analysis', 'Visualisations', 'customers_dependants_pie.png'), bbox_inches = 'tight')\n",
    "plt.show()"
   ]
  },
  {
   "cell_type": "markdown",
   "id": "aeb575c1",
   "metadata": {},
   "source": [
    "# Aggregate the max, mean, and min variables on a customer-profile"
   ]
  },
  {
   "cell_type": "code",
   "execution_count": 50,
   "id": "d23a7ea3",
   "metadata": {},
   "outputs": [],
   "source": [
    "# Create aggregated subset of data where the 'prices' column is the total cost of each order:\n",
    "orders_subset = ords_prods_kept.groupby(['user_id', 'age_group', 'income_group', 'dependants_flag', 'loyalty_flag', 'region', 'days_since_prior_order'])['prices'].sum().reset_index()"
   ]
  },
  {
   "cell_type": "code",
   "execution_count": 51,
   "id": "a32fd89c",
   "metadata": {},
   "outputs": [
    {
     "name": "stdout",
     "output_type": "stream",
     "text": [
      "The history saving thread hit an unexpected error (OperationalError('database or disk is full')).History will not be written to the database.\n"
     ]
    }
   ],
   "source": [
    "# Rename 'prices' to 'order_total'\n",
    "orders_subset.rename(columns = {'prices' : 'order_total'}, inplace = True)"
   ]
  },
  {
   "cell_type": "code",
   "execution_count": 52,
   "id": "bfa6b8e8",
   "metadata": {},
   "outputs": [
    {
     "data": {
      "text/html": [
       "<div>\n",
       "<style scoped>\n",
       "    .dataframe tbody tr th:only-of-type {\n",
       "        vertical-align: middle;\n",
       "    }\n",
       "\n",
       "    .dataframe tbody tr th {\n",
       "        vertical-align: top;\n",
       "    }\n",
       "\n",
       "    .dataframe thead th {\n",
       "        text-align: right;\n",
       "    }\n",
       "</style>\n",
       "<table border=\"1\" class=\"dataframe\">\n",
       "  <thead>\n",
       "    <tr style=\"text-align: right;\">\n",
       "      <th></th>\n",
       "      <th>user_id</th>\n",
       "      <th>age_group</th>\n",
       "      <th>income_group</th>\n",
       "      <th>dependants_flag</th>\n",
       "      <th>loyalty_flag</th>\n",
       "      <th>region</th>\n",
       "      <th>days_since_prior_order</th>\n",
       "      <th>order_total</th>\n",
       "    </tr>\n",
       "  </thead>\n",
       "  <tbody>\n",
       "    <tr>\n",
       "      <th>0</th>\n",
       "      <td>1</td>\n",
       "      <td>Adult</td>\n",
       "      <td>Low</td>\n",
       "      <td>Has Dependants</td>\n",
       "      <td>New customer</td>\n",
       "      <td>South</td>\n",
       "      <td>0.0</td>\n",
       "      <td>59.0</td>\n",
       "    </tr>\n",
       "    <tr>\n",
       "      <th>1</th>\n",
       "      <td>1</td>\n",
       "      <td>Adult</td>\n",
       "      <td>Low</td>\n",
       "      <td>Has Dependants</td>\n",
       "      <td>New customer</td>\n",
       "      <td>South</td>\n",
       "      <td>14.0</td>\n",
       "      <td>39.3</td>\n",
       "    </tr>\n",
       "    <tr>\n",
       "      <th>2</th>\n",
       "      <td>1</td>\n",
       "      <td>Adult</td>\n",
       "      <td>Low</td>\n",
       "      <td>Has Dependants</td>\n",
       "      <td>New customer</td>\n",
       "      <td>South</td>\n",
       "      <td>15.0</td>\n",
       "      <td>12.9</td>\n",
       "    </tr>\n",
       "    <tr>\n",
       "      <th>3</th>\n",
       "      <td>1</td>\n",
       "      <td>Adult</td>\n",
       "      <td>Low</td>\n",
       "      <td>Has Dependants</td>\n",
       "      <td>New customer</td>\n",
       "      <td>South</td>\n",
       "      <td>19.0</td>\n",
       "      <td>24.9</td>\n",
       "    </tr>\n",
       "    <tr>\n",
       "      <th>4</th>\n",
       "      <td>1</td>\n",
       "      <td>Adult</td>\n",
       "      <td>Low</td>\n",
       "      <td>Has Dependants</td>\n",
       "      <td>New customer</td>\n",
       "      <td>South</td>\n",
       "      <td>20.0</td>\n",
       "      <td>24.9</td>\n",
       "    </tr>\n",
       "    <tr>\n",
       "      <th>...</th>\n",
       "      <td>...</td>\n",
       "      <td>...</td>\n",
       "      <td>...</td>\n",
       "      <td>...</td>\n",
       "      <td>...</td>\n",
       "      <td>...</td>\n",
       "      <td>...</td>\n",
       "      <td>...</td>\n",
       "    </tr>\n",
       "    <tr>\n",
       "      <th>1465681</th>\n",
       "      <td>99999</td>\n",
       "      <td>Adult</td>\n",
       "      <td>Middle</td>\n",
       "      <td>Has Dependants</td>\n",
       "      <td>Regular customer</td>\n",
       "      <td>Northeast</td>\n",
       "      <td>12.0</td>\n",
       "      <td>62.4</td>\n",
       "    </tr>\n",
       "    <tr>\n",
       "      <th>1465682</th>\n",
       "      <td>99999</td>\n",
       "      <td>Adult</td>\n",
       "      <td>Middle</td>\n",
       "      <td>Has Dependants</td>\n",
       "      <td>Regular customer</td>\n",
       "      <td>Northeast</td>\n",
       "      <td>14.0</td>\n",
       "      <td>42.3</td>\n",
       "    </tr>\n",
       "    <tr>\n",
       "      <th>1465683</th>\n",
       "      <td>99999</td>\n",
       "      <td>Adult</td>\n",
       "      <td>Middle</td>\n",
       "      <td>Has Dependants</td>\n",
       "      <td>Regular customer</td>\n",
       "      <td>Northeast</td>\n",
       "      <td>15.0</td>\n",
       "      <td>40.9</td>\n",
       "    </tr>\n",
       "    <tr>\n",
       "      <th>1465684</th>\n",
       "      <td>99999</td>\n",
       "      <td>Adult</td>\n",
       "      <td>Middle</td>\n",
       "      <td>Has Dependants</td>\n",
       "      <td>Regular customer</td>\n",
       "      <td>Northeast</td>\n",
       "      <td>21.0</td>\n",
       "      <td>10.6</td>\n",
       "    </tr>\n",
       "    <tr>\n",
       "      <th>1465685</th>\n",
       "      <td>99999</td>\n",
       "      <td>Adult</td>\n",
       "      <td>Middle</td>\n",
       "      <td>Has Dependants</td>\n",
       "      <td>Regular customer</td>\n",
       "      <td>Northeast</td>\n",
       "      <td>24.0</td>\n",
       "      <td>76.0</td>\n",
       "    </tr>\n",
       "  </tbody>\n",
       "</table>\n",
       "<p>1465686 rows × 8 columns</p>\n",
       "</div>"
      ],
      "text/plain": [
       "        user_id age_group income_group dependants_flag      loyalty_flag  \\\n",
       "0             1     Adult          Low  Has Dependants      New customer   \n",
       "1             1     Adult          Low  Has Dependants      New customer   \n",
       "2             1     Adult          Low  Has Dependants      New customer   \n",
       "3             1     Adult          Low  Has Dependants      New customer   \n",
       "4             1     Adult          Low  Has Dependants      New customer   \n",
       "...         ...       ...          ...             ...               ...   \n",
       "1465681   99999     Adult       Middle  Has Dependants  Regular customer   \n",
       "1465682   99999     Adult       Middle  Has Dependants  Regular customer   \n",
       "1465683   99999     Adult       Middle  Has Dependants  Regular customer   \n",
       "1465684   99999     Adult       Middle  Has Dependants  Regular customer   \n",
       "1465685   99999     Adult       Middle  Has Dependants  Regular customer   \n",
       "\n",
       "            region  days_since_prior_order  order_total  \n",
       "0            South                     0.0         59.0  \n",
       "1            South                    14.0         39.3  \n",
       "2            South                    15.0         12.9  \n",
       "3            South                    19.0         24.9  \n",
       "4            South                    20.0         24.9  \n",
       "...            ...                     ...          ...  \n",
       "1465681  Northeast                    12.0         62.4  \n",
       "1465682  Northeast                    14.0         42.3  \n",
       "1465683  Northeast                    15.0         40.9  \n",
       "1465684  Northeast                    21.0         10.6  \n",
       "1465685  Northeast                    24.0         76.0  \n",
       "\n",
       "[1465686 rows x 8 columns]"
      ]
     },
     "execution_count": 52,
     "metadata": {},
     "output_type": "execute_result"
    }
   ],
   "source": [
    "# Check subset\n",
    "orders_subset"
   ]
  },
  {
   "cell_type": "markdown",
   "id": "64d8b509",
   "metadata": {},
   "source": [
    "## Aggregations by Age Group"
   ]
  },
  {
   "cell_type": "code",
   "execution_count": 51,
   "id": "529d79b0",
   "metadata": {},
   "outputs": [
    {
     "data": {
      "text/html": [
       "<div>\n",
       "<style scoped>\n",
       "    .dataframe tbody tr th:only-of-type {\n",
       "        vertical-align: middle;\n",
       "    }\n",
       "\n",
       "    .dataframe tbody tr th {\n",
       "        vertical-align: top;\n",
       "    }\n",
       "\n",
       "    .dataframe thead tr th {\n",
       "        text-align: left;\n",
       "    }\n",
       "\n",
       "    .dataframe thead tr:last-of-type th {\n",
       "        text-align: right;\n",
       "    }\n",
       "</style>\n",
       "<table border=\"1\" class=\"dataframe\">\n",
       "  <thead>\n",
       "    <tr>\n",
       "      <th></th>\n",
       "      <th colspan=\"3\" halign=\"left\">days_since_prior_order</th>\n",
       "      <th colspan=\"3\" halign=\"left\">order_total</th>\n",
       "    </tr>\n",
       "    <tr>\n",
       "      <th></th>\n",
       "      <th>min</th>\n",
       "      <th>mean</th>\n",
       "      <th>max</th>\n",
       "      <th>min</th>\n",
       "      <th>mean</th>\n",
       "      <th>max</th>\n",
       "    </tr>\n",
       "    <tr>\n",
       "      <th>age_group</th>\n",
       "      <th></th>\n",
       "      <th></th>\n",
       "      <th></th>\n",
       "      <th></th>\n",
       "      <th></th>\n",
       "      <th></th>\n",
       "    </tr>\n",
       "  </thead>\n",
       "  <tbody>\n",
       "    <tr>\n",
       "      <th>Adult</th>\n",
       "      <td>0.0</td>\n",
       "      <td>10.403740</td>\n",
       "      <td>30.0</td>\n",
       "      <td>1.0</td>\n",
       "      <td>79.016010</td>\n",
       "      <td>829.2</td>\n",
       "    </tr>\n",
       "    <tr>\n",
       "      <th>Older adult</th>\n",
       "      <td>0.0</td>\n",
       "      <td>10.382161</td>\n",
       "      <td>30.0</td>\n",
       "      <td>1.0</td>\n",
       "      <td>78.510544</td>\n",
       "      <td>1092.2</td>\n",
       "    </tr>\n",
       "    <tr>\n",
       "      <th>Senior</th>\n",
       "      <td>0.0</td>\n",
       "      <td>10.372173</td>\n",
       "      <td>30.0</td>\n",
       "      <td>1.0</td>\n",
       "      <td>78.367220</td>\n",
       "      <td>751.1</td>\n",
       "    </tr>\n",
       "    <tr>\n",
       "      <th>Young Adult</th>\n",
       "      <td>0.0</td>\n",
       "      <td>10.380595</td>\n",
       "      <td>30.0</td>\n",
       "      <td>1.0</td>\n",
       "      <td>78.871788</td>\n",
       "      <td>842.1</td>\n",
       "    </tr>\n",
       "  </tbody>\n",
       "</table>\n",
       "</div>"
      ],
      "text/plain": [
       "            days_since_prior_order                  order_total             \\\n",
       "                               min       mean   max         min       mean   \n",
       "age_group                                                                    \n",
       "Adult                          0.0  10.403740  30.0         1.0  79.016010   \n",
       "Older adult                    0.0  10.382161  30.0         1.0  78.510544   \n",
       "Senior                         0.0  10.372173  30.0         1.0  78.367220   \n",
       "Young Adult                    0.0  10.380595  30.0         1.0  78.871788   \n",
       "\n",
       "                     \n",
       "                max  \n",
       "age_group            \n",
       "Adult         829.2  \n",
       "Older adult  1092.2  \n",
       "Senior        751.1  \n",
       "Young Adult   842.1  "
      ]
     },
     "execution_count": 51,
     "metadata": {},
     "output_type": "execute_result"
    }
   ],
   "source": [
    "# max, min, mean by age category\n",
    "aggregations_by_age_cat = orders_subset.groupby('age_group').agg({'days_since_prior_order' : ['min', 'mean', 'max'], \n",
    "                                                                  'order_total' : ['min', 'mean', 'max']})\n",
    "# Check\n",
    "aggregations_by_age_cat"
   ]
  },
  {
   "cell_type": "markdown",
   "id": "b68927a5",
   "metadata": {},
   "source": [
    "Frequency: Result suggests all customers, despite their age category, will typically make an order in 10 to 11 days.\n",
    "\n",
    "Expenditure: The average total of customers' orders are very similar across all age groups. It could be an anaomoly, but some older adults may be willing to spend a greater amount per order as indicated by the max order_total"
   ]
  },
  {
   "cell_type": "markdown",
   "id": "e3d1627e",
   "metadata": {},
   "source": [
    "## Aggregations by Income Group"
   ]
  },
  {
   "cell_type": "code",
   "execution_count": 52,
   "id": "566cdf79",
   "metadata": {},
   "outputs": [
    {
     "data": {
      "text/html": [
       "<div>\n",
       "<style scoped>\n",
       "    .dataframe tbody tr th:only-of-type {\n",
       "        vertical-align: middle;\n",
       "    }\n",
       "\n",
       "    .dataframe tbody tr th {\n",
       "        vertical-align: top;\n",
       "    }\n",
       "\n",
       "    .dataframe thead tr th {\n",
       "        text-align: left;\n",
       "    }\n",
       "\n",
       "    .dataframe thead tr:last-of-type th {\n",
       "        text-align: right;\n",
       "    }\n",
       "</style>\n",
       "<table border=\"1\" class=\"dataframe\">\n",
       "  <thead>\n",
       "    <tr>\n",
       "      <th></th>\n",
       "      <th colspan=\"3\" halign=\"left\">days_since_prior_order</th>\n",
       "      <th colspan=\"3\" halign=\"left\">order_total</th>\n",
       "    </tr>\n",
       "    <tr>\n",
       "      <th></th>\n",
       "      <th>min</th>\n",
       "      <th>mean</th>\n",
       "      <th>max</th>\n",
       "      <th>min</th>\n",
       "      <th>mean</th>\n",
       "      <th>max</th>\n",
       "    </tr>\n",
       "    <tr>\n",
       "      <th>income_group</th>\n",
       "      <th></th>\n",
       "      <th></th>\n",
       "      <th></th>\n",
       "      <th></th>\n",
       "      <th></th>\n",
       "      <th></th>\n",
       "    </tr>\n",
       "  </thead>\n",
       "  <tbody>\n",
       "    <tr>\n",
       "      <th>High</th>\n",
       "      <td>0.0</td>\n",
       "      <td>10.260991</td>\n",
       "      <td>30.0</td>\n",
       "      <td>1.0</td>\n",
       "      <td>83.757004</td>\n",
       "      <td>1092.2</td>\n",
       "    </tr>\n",
       "    <tr>\n",
       "      <th>Low</th>\n",
       "      <td>0.0</td>\n",
       "      <td>11.070341</td>\n",
       "      <td>30.0</td>\n",
       "      <td>1.0</td>\n",
       "      <td>52.673028</td>\n",
       "      <td>875.0</td>\n",
       "    </tr>\n",
       "    <tr>\n",
       "      <th>Middle</th>\n",
       "      <td>0.0</td>\n",
       "      <td>10.289999</td>\n",
       "      <td>30.0</td>\n",
       "      <td>1.0</td>\n",
       "      <td>81.930075</td>\n",
       "      <td>852.5</td>\n",
       "    </tr>\n",
       "  </tbody>\n",
       "</table>\n",
       "</div>"
      ],
      "text/plain": [
       "             days_since_prior_order                  order_total             \\\n",
       "                                min       mean   max         min       mean   \n",
       "income_group                                                                  \n",
       "High                            0.0  10.260991  30.0         1.0  83.757004   \n",
       "Low                             0.0  11.070341  30.0         1.0  52.673028   \n",
       "Middle                          0.0  10.289999  30.0         1.0  81.930075   \n",
       "\n",
       "                      \n",
       "                 max  \n",
       "income_group          \n",
       "High          1092.2  \n",
       "Low            875.0  \n",
       "Middle         852.5  "
      ]
     },
     "execution_count": 52,
     "metadata": {},
     "output_type": "execute_result"
    }
   ],
   "source": [
    "# max, min, mean by age category\n",
    "aggregations_by_income_cat = orders_subset.groupby('income_group').agg({'days_since_prior_order' : ['min', 'mean', 'max'],\n",
    "                                                                        'order_total' : ['min', 'mean', 'max']})\n",
    "# Check\n",
    "aggregations_by_income_cat"
   ]
  },
  {
   "cell_type": "markdown",
   "id": "e05c62f7",
   "metadata": {},
   "source": [
    "Frequency: There is a general tendency for customers who earn less to shop less frequently.\n",
    "\n",
    "Expenditure: Lower income customers, perhaps unsuprisingly, spend significantly less per order than customers in the middle and high income categories. There is no significant difference between customers in the middle and high income categories."
   ]
  },
  {
   "cell_type": "markdown",
   "id": "76da8b59",
   "metadata": {},
   "source": [
    "## Aggregations by Dependants Category"
   ]
  },
  {
   "cell_type": "code",
   "execution_count": 53,
   "id": "d81f73fe",
   "metadata": {},
   "outputs": [
    {
     "data": {
      "text/html": [
       "<div>\n",
       "<style scoped>\n",
       "    .dataframe tbody tr th:only-of-type {\n",
       "        vertical-align: middle;\n",
       "    }\n",
       "\n",
       "    .dataframe tbody tr th {\n",
       "        vertical-align: top;\n",
       "    }\n",
       "\n",
       "    .dataframe thead tr th {\n",
       "        text-align: left;\n",
       "    }\n",
       "\n",
       "    .dataframe thead tr:last-of-type th {\n",
       "        text-align: right;\n",
       "    }\n",
       "</style>\n",
       "<table border=\"1\" class=\"dataframe\">\n",
       "  <thead>\n",
       "    <tr>\n",
       "      <th></th>\n",
       "      <th colspan=\"3\" halign=\"left\">days_since_prior_order</th>\n",
       "      <th colspan=\"3\" halign=\"left\">order_total</th>\n",
       "    </tr>\n",
       "    <tr>\n",
       "      <th></th>\n",
       "      <th>min</th>\n",
       "      <th>mean</th>\n",
       "      <th>max</th>\n",
       "      <th>min</th>\n",
       "      <th>mean</th>\n",
       "      <th>max</th>\n",
       "    </tr>\n",
       "    <tr>\n",
       "      <th>dependants_flag</th>\n",
       "      <th></th>\n",
       "      <th></th>\n",
       "      <th></th>\n",
       "      <th></th>\n",
       "      <th></th>\n",
       "      <th></th>\n",
       "    </tr>\n",
       "  </thead>\n",
       "  <tbody>\n",
       "    <tr>\n",
       "      <th>Has Dependants</th>\n",
       "      <td>0.0</td>\n",
       "      <td>10.388232</td>\n",
       "      <td>30.0</td>\n",
       "      <td>1.0</td>\n",
       "      <td>78.728823</td>\n",
       "      <td>1092.2</td>\n",
       "    </tr>\n",
       "    <tr>\n",
       "      <th>No Dependants</th>\n",
       "      <td>0.0</td>\n",
       "      <td>10.378144</td>\n",
       "      <td>30.0</td>\n",
       "      <td>1.0</td>\n",
       "      <td>78.482647</td>\n",
       "      <td>875.0</td>\n",
       "    </tr>\n",
       "  </tbody>\n",
       "</table>\n",
       "</div>"
      ],
      "text/plain": [
       "                days_since_prior_order                  order_total  \\\n",
       "                                   min       mean   max         min   \n",
       "dependants_flag                                                       \n",
       "Has Dependants                     0.0  10.388232  30.0         1.0   \n",
       "No Dependants                      0.0  10.378144  30.0         1.0   \n",
       "\n",
       "                                    \n",
       "                      mean     max  \n",
       "dependants_flag                     \n",
       "Has Dependants   78.728823  1092.2  \n",
       "No Dependants    78.482647   875.0  "
      ]
     },
     "execution_count": 53,
     "metadata": {},
     "output_type": "execute_result"
    }
   ],
   "source": [
    "# max, min, mean by dependants category\n",
    "aggregations_by_dependants_cat = orders_subset.groupby('dependants_flag').agg({'days_since_prior_order' : ['min', 'mean', 'max'],\n",
    "                                                                               'order_total' : ['min', 'mean', 'max']})\n",
    "# Check\n",
    "aggregations_by_dependants_cat"
   ]
  },
  {
   "cell_type": "markdown",
   "id": "51738fb8",
   "metadata": {},
   "source": [
    "No significant difference between shopping frequency or expenditure of customers with dependants and customers without dependants."
   ]
  },
  {
   "cell_type": "markdown",
   "id": "5b6dcd0b",
   "metadata": {},
   "source": [
    "# Compare your customer profiles with regions and departments. Can you identify a link between them? Customers may demonstrate different behaviors across regions, which could make this information important."
   ]
  },
  {
   "cell_type": "markdown",
   "id": "3e973643",
   "metadata": {},
   "source": [
    "For this task, the customer profile variables will be compared across regions and department sales. However, other behaviours will be analysed in the supplementary section at the end of this script to answer key questions in the project brief. These behaviours will include the frequency/loyalty, product_prices, and order_totals."
   ]
  },
  {
   "cell_type": "code",
   "execution_count": 54,
   "id": "78598cb4",
   "metadata": {},
   "outputs": [],
   "source": [
    "# First, I'll need to get the names of each department back into the data:\n",
    "df_dep = pd.read_csv(os.path.join(path, '02 Data', 'Original Data', 'departments.csv'))"
   ]
  },
  {
   "cell_type": "code",
   "execution_count": 55,
   "id": "4aca1843",
   "metadata": {},
   "outputs": [
    {
     "data": {
      "text/html": [
       "<div>\n",
       "<style scoped>\n",
       "    .dataframe tbody tr th:only-of-type {\n",
       "        vertical-align: middle;\n",
       "    }\n",
       "\n",
       "    .dataframe tbody tr th {\n",
       "        vertical-align: top;\n",
       "    }\n",
       "\n",
       "    .dataframe thead th {\n",
       "        text-align: right;\n",
       "    }\n",
       "</style>\n",
       "<table border=\"1\" class=\"dataframe\">\n",
       "  <thead>\n",
       "    <tr style=\"text-align: right;\">\n",
       "      <th></th>\n",
       "      <th>department_id</th>\n",
       "      <th>1</th>\n",
       "      <th>2</th>\n",
       "      <th>3</th>\n",
       "      <th>4</th>\n",
       "      <th>5</th>\n",
       "      <th>6</th>\n",
       "      <th>7</th>\n",
       "      <th>8</th>\n",
       "      <th>9</th>\n",
       "      <th>10</th>\n",
       "      <th>11</th>\n",
       "      <th>12</th>\n",
       "      <th>13</th>\n",
       "      <th>14</th>\n",
       "      <th>15</th>\n",
       "      <th>16</th>\n",
       "      <th>17</th>\n",
       "      <th>18</th>\n",
       "      <th>19</th>\n",
       "      <th>20</th>\n",
       "      <th>21</th>\n",
       "    </tr>\n",
       "  </thead>\n",
       "  <tbody>\n",
       "    <tr>\n",
       "      <th>0</th>\n",
       "      <td>department</td>\n",
       "      <td>frozen</td>\n",
       "      <td>other</td>\n",
       "      <td>bakery</td>\n",
       "      <td>produce</td>\n",
       "      <td>alcohol</td>\n",
       "      <td>international</td>\n",
       "      <td>beverages</td>\n",
       "      <td>pets</td>\n",
       "      <td>dry goods pasta</td>\n",
       "      <td>bulk</td>\n",
       "      <td>personal care</td>\n",
       "      <td>meat seafood</td>\n",
       "      <td>pantry</td>\n",
       "      <td>breakfast</td>\n",
       "      <td>canned goods</td>\n",
       "      <td>dairy eggs</td>\n",
       "      <td>household</td>\n",
       "      <td>babies</td>\n",
       "      <td>snacks</td>\n",
       "      <td>deli</td>\n",
       "      <td>missing</td>\n",
       "    </tr>\n",
       "  </tbody>\n",
       "</table>\n",
       "</div>"
      ],
      "text/plain": [
       "  department_id       1      2       3        4        5              6  \\\n",
       "0    department  frozen  other  bakery  produce  alcohol  international   \n",
       "\n",
       "           7     8                9    10             11            12  \\\n",
       "0  beverages  pets  dry goods pasta  bulk  personal care  meat seafood   \n",
       "\n",
       "       13         14            15          16         17      18      19  \\\n",
       "0  pantry  breakfast  canned goods  dairy eggs  household  babies  snacks   \n",
       "\n",
       "     20       21  \n",
       "0  deli  missing  "
      ]
     },
     "execution_count": 55,
     "metadata": {},
     "output_type": "execute_result"
    }
   ],
   "source": [
    "# Check\n",
    "df_dep"
   ]
  },
  {
   "cell_type": "code",
   "execution_count": 56,
   "id": "aa643e44",
   "metadata": {},
   "outputs": [],
   "source": [
    "# Transpose:\n",
    "df_dep_t = df_dep.T"
   ]
  },
  {
   "cell_type": "code",
   "execution_count": 57,
   "id": "8ab5b6d8",
   "metadata": {},
   "outputs": [],
   "source": [
    "# Create index\n",
    "df_dep_t.reset_index(inplace = True)"
   ]
  },
  {
   "cell_type": "code",
   "execution_count": 58,
   "id": "c5ee69ad",
   "metadata": {},
   "outputs": [],
   "source": [
    "# Copy row 0 into variable\n",
    "new_header = df_dep_t.iloc[0]"
   ]
  },
  {
   "cell_type": "code",
   "execution_count": 59,
   "id": "34263185",
   "metadata": {},
   "outputs": [],
   "source": [
    "# Remove row 0\n",
    "df_dep_t = df_dep_t[1:]"
   ]
  },
  {
   "cell_type": "code",
   "execution_count": 60,
   "id": "8e680e30",
   "metadata": {},
   "outputs": [],
   "source": [
    "# Assign header row\n",
    "df_dep_t.columns = new_header"
   ]
  },
  {
   "cell_type": "code",
   "execution_count": 61,
   "id": "34ec7540",
   "metadata": {},
   "outputs": [
    {
     "data": {
      "text/html": [
       "<div>\n",
       "<style scoped>\n",
       "    .dataframe tbody tr th:only-of-type {\n",
       "        vertical-align: middle;\n",
       "    }\n",
       "\n",
       "    .dataframe tbody tr th {\n",
       "        vertical-align: top;\n",
       "    }\n",
       "\n",
       "    .dataframe thead th {\n",
       "        text-align: right;\n",
       "    }\n",
       "</style>\n",
       "<table border=\"1\" class=\"dataframe\">\n",
       "  <thead>\n",
       "    <tr style=\"text-align: right;\">\n",
       "      <th></th>\n",
       "      <th>department_id</th>\n",
       "      <th>department</th>\n",
       "    </tr>\n",
       "  </thead>\n",
       "  <tbody>\n",
       "    <tr>\n",
       "      <th>1</th>\n",
       "      <td>1</td>\n",
       "      <td>frozen</td>\n",
       "    </tr>\n",
       "    <tr>\n",
       "      <th>2</th>\n",
       "      <td>2</td>\n",
       "      <td>other</td>\n",
       "    </tr>\n",
       "    <tr>\n",
       "      <th>3</th>\n",
       "      <td>3</td>\n",
       "      <td>bakery</td>\n",
       "    </tr>\n",
       "    <tr>\n",
       "      <th>4</th>\n",
       "      <td>4</td>\n",
       "      <td>produce</td>\n",
       "    </tr>\n",
       "    <tr>\n",
       "      <th>5</th>\n",
       "      <td>5</td>\n",
       "      <td>alcohol</td>\n",
       "    </tr>\n",
       "    <tr>\n",
       "      <th>6</th>\n",
       "      <td>6</td>\n",
       "      <td>international</td>\n",
       "    </tr>\n",
       "    <tr>\n",
       "      <th>7</th>\n",
       "      <td>7</td>\n",
       "      <td>beverages</td>\n",
       "    </tr>\n",
       "    <tr>\n",
       "      <th>8</th>\n",
       "      <td>8</td>\n",
       "      <td>pets</td>\n",
       "    </tr>\n",
       "    <tr>\n",
       "      <th>9</th>\n",
       "      <td>9</td>\n",
       "      <td>dry goods pasta</td>\n",
       "    </tr>\n",
       "    <tr>\n",
       "      <th>10</th>\n",
       "      <td>10</td>\n",
       "      <td>bulk</td>\n",
       "    </tr>\n",
       "    <tr>\n",
       "      <th>11</th>\n",
       "      <td>11</td>\n",
       "      <td>personal care</td>\n",
       "    </tr>\n",
       "    <tr>\n",
       "      <th>12</th>\n",
       "      <td>12</td>\n",
       "      <td>meat seafood</td>\n",
       "    </tr>\n",
       "    <tr>\n",
       "      <th>13</th>\n",
       "      <td>13</td>\n",
       "      <td>pantry</td>\n",
       "    </tr>\n",
       "    <tr>\n",
       "      <th>14</th>\n",
       "      <td>14</td>\n",
       "      <td>breakfast</td>\n",
       "    </tr>\n",
       "    <tr>\n",
       "      <th>15</th>\n",
       "      <td>15</td>\n",
       "      <td>canned goods</td>\n",
       "    </tr>\n",
       "    <tr>\n",
       "      <th>16</th>\n",
       "      <td>16</td>\n",
       "      <td>dairy eggs</td>\n",
       "    </tr>\n",
       "    <tr>\n",
       "      <th>17</th>\n",
       "      <td>17</td>\n",
       "      <td>household</td>\n",
       "    </tr>\n",
       "    <tr>\n",
       "      <th>18</th>\n",
       "      <td>18</td>\n",
       "      <td>babies</td>\n",
       "    </tr>\n",
       "    <tr>\n",
       "      <th>19</th>\n",
       "      <td>19</td>\n",
       "      <td>snacks</td>\n",
       "    </tr>\n",
       "    <tr>\n",
       "      <th>20</th>\n",
       "      <td>20</td>\n",
       "      <td>deli</td>\n",
       "    </tr>\n",
       "    <tr>\n",
       "      <th>21</th>\n",
       "      <td>21</td>\n",
       "      <td>missing</td>\n",
       "    </tr>\n",
       "  </tbody>\n",
       "</table>\n",
       "</div>"
      ],
      "text/plain": [
       "0  department_id       department\n",
       "1              1           frozen\n",
       "2              2            other\n",
       "3              3           bakery\n",
       "4              4          produce\n",
       "5              5          alcohol\n",
       "6              6    international\n",
       "7              7        beverages\n",
       "8              8             pets\n",
       "9              9  dry goods pasta\n",
       "10            10             bulk\n",
       "11            11    personal care\n",
       "12            12     meat seafood\n",
       "13            13           pantry\n",
       "14            14        breakfast\n",
       "15            15     canned goods\n",
       "16            16       dairy eggs\n",
       "17            17        household\n",
       "18            18           babies\n",
       "19            19           snacks\n",
       "20            20             deli\n",
       "21            21          missing"
      ]
     },
     "execution_count": 61,
     "metadata": {},
     "output_type": "execute_result"
    }
   ],
   "source": [
    "# Check code\n",
    "df_dep_t"
   ]
  },
  {
   "cell_type": "code",
   "execution_count": 62,
   "id": "e61e6a51",
   "metadata": {},
   "outputs": [],
   "source": [
    "# Ensure department_id is int8 for merge with ords_prods_kept\n",
    "df_dep_t['department_id'] = df_dep_t['department_id'].astype('int8')"
   ]
  },
  {
   "cell_type": "code",
   "execution_count": 63,
   "id": "92038112",
   "metadata": {},
   "outputs": [],
   "source": [
    "# Merge on department_id\n",
    "full_data = ords_prods_kept.merge(df_dep_t, on = 'department_id', indicator = True)"
   ]
  },
  {
   "cell_type": "code",
   "execution_count": 64,
   "id": "eba93e8f",
   "metadata": {},
   "outputs": [
    {
     "data": {
      "text/html": [
       "<div>\n",
       "<style scoped>\n",
       "    .dataframe tbody tr th:only-of-type {\n",
       "        vertical-align: middle;\n",
       "    }\n",
       "\n",
       "    .dataframe tbody tr th {\n",
       "        vertical-align: top;\n",
       "    }\n",
       "\n",
       "    .dataframe thead th {\n",
       "        text-align: right;\n",
       "    }\n",
       "</style>\n",
       "<table border=\"1\" class=\"dataframe\">\n",
       "  <thead>\n",
       "    <tr style=\"text-align: right;\">\n",
       "      <th></th>\n",
       "      <th>product_id</th>\n",
       "      <th>product_name</th>\n",
       "      <th>aisle_id</th>\n",
       "      <th>department_id</th>\n",
       "      <th>prices</th>\n",
       "      <th>order_id</th>\n",
       "      <th>user_id</th>\n",
       "      <th>order_number</th>\n",
       "      <th>orders_day_of_week</th>\n",
       "      <th>order_hour_of_day</th>\n",
       "      <th>days_since_prior_order</th>\n",
       "      <th>first_order</th>\n",
       "      <th>add_to_cart_order</th>\n",
       "      <th>reordered</th>\n",
       "      <th>merge_1</th>\n",
       "      <th>price_range_loc</th>\n",
       "      <th>busiest_days</th>\n",
       "      <th>busiest_period_of_day</th>\n",
       "      <th>max_order</th>\n",
       "      <th>loyalty_flag</th>\n",
       "      <th>user_mean_product_price</th>\n",
       "      <th>spending_flag</th>\n",
       "      <th>median_days_between_orders</th>\n",
       "      <th>frequency_flag</th>\n",
       "      <th>gender</th>\n",
       "      <th>state</th>\n",
       "      <th>age</th>\n",
       "      <th>date_joined</th>\n",
       "      <th>n_dependants</th>\n",
       "      <th>fam_status</th>\n",
       "      <th>income</th>\n",
       "      <th>merge_2</th>\n",
       "      <th>region</th>\n",
       "      <th>exclusion_flag</th>\n",
       "      <th>age_group</th>\n",
       "      <th>income_group</th>\n",
       "      <th>dependants_flag</th>\n",
       "      <th>department</th>\n",
       "      <th>_merge</th>\n",
       "    </tr>\n",
       "  </thead>\n",
       "  <tbody>\n",
       "    <tr>\n",
       "      <th>0</th>\n",
       "      <td>14084</td>\n",
       "      <td>Organic Unsweetened Vanilla Almond Milk</td>\n",
       "      <td>91</td>\n",
       "      <td>16</td>\n",
       "      <td>12.5</td>\n",
       "      <td>2539329</td>\n",
       "      <td>1</td>\n",
       "      <td>1</td>\n",
       "      <td>2</td>\n",
       "      <td>8</td>\n",
       "      <td>NaN</td>\n",
       "      <td>True</td>\n",
       "      <td>2</td>\n",
       "      <td>0</td>\n",
       "      <td>both</td>\n",
       "      <td>Mid-range product</td>\n",
       "      <td>Regularly busy</td>\n",
       "      <td>Average orders</td>\n",
       "      <td>10</td>\n",
       "      <td>New customer</td>\n",
       "      <td>6.367797</td>\n",
       "      <td>Low spender</td>\n",
       "      <td>20.5</td>\n",
       "      <td>Non-frequent customer</td>\n",
       "      <td>Female</td>\n",
       "      <td>Alabama</td>\n",
       "      <td>31</td>\n",
       "      <td>2/17/2019</td>\n",
       "      <td>3</td>\n",
       "      <td>married</td>\n",
       "      <td>40423</td>\n",
       "      <td>both</td>\n",
       "      <td>South</td>\n",
       "      <td>Keep</td>\n",
       "      <td>Adult</td>\n",
       "      <td>Low</td>\n",
       "      <td>Has Dependants</td>\n",
       "      <td>dairy eggs</td>\n",
       "      <td>both</td>\n",
       "    </tr>\n",
       "    <tr>\n",
       "      <th>1</th>\n",
       "      <td>25133</td>\n",
       "      <td>Organic String Cheese</td>\n",
       "      <td>21</td>\n",
       "      <td>16</td>\n",
       "      <td>8.6</td>\n",
       "      <td>473747</td>\n",
       "      <td>1</td>\n",
       "      <td>3</td>\n",
       "      <td>3</td>\n",
       "      <td>12</td>\n",
       "      <td>21.0</td>\n",
       "      <td>False</td>\n",
       "      <td>4</td>\n",
       "      <td>0</td>\n",
       "      <td>both</td>\n",
       "      <td>Mid-range product</td>\n",
       "      <td>Slowest days</td>\n",
       "      <td>Most orders</td>\n",
       "      <td>10</td>\n",
       "      <td>New customer</td>\n",
       "      <td>6.367797</td>\n",
       "      <td>Low spender</td>\n",
       "      <td>20.5</td>\n",
       "      <td>Non-frequent customer</td>\n",
       "      <td>Female</td>\n",
       "      <td>Alabama</td>\n",
       "      <td>31</td>\n",
       "      <td>2/17/2019</td>\n",
       "      <td>3</td>\n",
       "      <td>married</td>\n",
       "      <td>40423</td>\n",
       "      <td>both</td>\n",
       "      <td>South</td>\n",
       "      <td>Keep</td>\n",
       "      <td>Adult</td>\n",
       "      <td>Low</td>\n",
       "      <td>Has Dependants</td>\n",
       "      <td>dairy eggs</td>\n",
       "      <td>both</td>\n",
       "    </tr>\n",
       "    <tr>\n",
       "      <th>2</th>\n",
       "      <td>25133</td>\n",
       "      <td>Organic String Cheese</td>\n",
       "      <td>21</td>\n",
       "      <td>16</td>\n",
       "      <td>8.6</td>\n",
       "      <td>2254736</td>\n",
       "      <td>1</td>\n",
       "      <td>4</td>\n",
       "      <td>4</td>\n",
       "      <td>7</td>\n",
       "      <td>29.0</td>\n",
       "      <td>False</td>\n",
       "      <td>4</td>\n",
       "      <td>1</td>\n",
       "      <td>both</td>\n",
       "      <td>Mid-range product</td>\n",
       "      <td>Slowest days</td>\n",
       "      <td>Average orders</td>\n",
       "      <td>10</td>\n",
       "      <td>New customer</td>\n",
       "      <td>6.367797</td>\n",
       "      <td>Low spender</td>\n",
       "      <td>20.5</td>\n",
       "      <td>Non-frequent customer</td>\n",
       "      <td>Female</td>\n",
       "      <td>Alabama</td>\n",
       "      <td>31</td>\n",
       "      <td>2/17/2019</td>\n",
       "      <td>3</td>\n",
       "      <td>married</td>\n",
       "      <td>40423</td>\n",
       "      <td>both</td>\n",
       "      <td>South</td>\n",
       "      <td>Keep</td>\n",
       "      <td>Adult</td>\n",
       "      <td>Low</td>\n",
       "      <td>Has Dependants</td>\n",
       "      <td>dairy eggs</td>\n",
       "      <td>both</td>\n",
       "    </tr>\n",
       "    <tr>\n",
       "      <th>3</th>\n",
       "      <td>25133</td>\n",
       "      <td>Organic String Cheese</td>\n",
       "      <td>21</td>\n",
       "      <td>16</td>\n",
       "      <td>8.6</td>\n",
       "      <td>431534</td>\n",
       "      <td>1</td>\n",
       "      <td>5</td>\n",
       "      <td>4</td>\n",
       "      <td>15</td>\n",
       "      <td>28.0</td>\n",
       "      <td>False</td>\n",
       "      <td>4</td>\n",
       "      <td>1</td>\n",
       "      <td>both</td>\n",
       "      <td>Mid-range product</td>\n",
       "      <td>Slowest days</td>\n",
       "      <td>Most orders</td>\n",
       "      <td>10</td>\n",
       "      <td>New customer</td>\n",
       "      <td>6.367797</td>\n",
       "      <td>Low spender</td>\n",
       "      <td>20.5</td>\n",
       "      <td>Non-frequent customer</td>\n",
       "      <td>Female</td>\n",
       "      <td>Alabama</td>\n",
       "      <td>31</td>\n",
       "      <td>2/17/2019</td>\n",
       "      <td>3</td>\n",
       "      <td>married</td>\n",
       "      <td>40423</td>\n",
       "      <td>both</td>\n",
       "      <td>South</td>\n",
       "      <td>Keep</td>\n",
       "      <td>Adult</td>\n",
       "      <td>Low</td>\n",
       "      <td>Has Dependants</td>\n",
       "      <td>dairy eggs</td>\n",
       "      <td>both</td>\n",
       "    </tr>\n",
       "    <tr>\n",
       "      <th>4</th>\n",
       "      <td>25133</td>\n",
       "      <td>Organic String Cheese</td>\n",
       "      <td>21</td>\n",
       "      <td>16</td>\n",
       "      <td>8.6</td>\n",
       "      <td>3367565</td>\n",
       "      <td>1</td>\n",
       "      <td>6</td>\n",
       "      <td>2</td>\n",
       "      <td>7</td>\n",
       "      <td>19.0</td>\n",
       "      <td>False</td>\n",
       "      <td>4</td>\n",
       "      <td>1</td>\n",
       "      <td>both</td>\n",
       "      <td>Mid-range product</td>\n",
       "      <td>Regularly busy</td>\n",
       "      <td>Average orders</td>\n",
       "      <td>10</td>\n",
       "      <td>New customer</td>\n",
       "      <td>6.367797</td>\n",
       "      <td>Low spender</td>\n",
       "      <td>20.5</td>\n",
       "      <td>Non-frequent customer</td>\n",
       "      <td>Female</td>\n",
       "      <td>Alabama</td>\n",
       "      <td>31</td>\n",
       "      <td>2/17/2019</td>\n",
       "      <td>3</td>\n",
       "      <td>married</td>\n",
       "      <td>40423</td>\n",
       "      <td>both</td>\n",
       "      <td>South</td>\n",
       "      <td>Keep</td>\n",
       "      <td>Adult</td>\n",
       "      <td>Low</td>\n",
       "      <td>Has Dependants</td>\n",
       "      <td>dairy eggs</td>\n",
       "      <td>both</td>\n",
       "    </tr>\n",
       "  </tbody>\n",
       "</table>\n",
       "</div>"
      ],
      "text/plain": [
       "   product_id                             product_name  aisle_id  \\\n",
       "0       14084  Organic Unsweetened Vanilla Almond Milk        91   \n",
       "1       25133                    Organic String Cheese        21   \n",
       "2       25133                    Organic String Cheese        21   \n",
       "3       25133                    Organic String Cheese        21   \n",
       "4       25133                    Organic String Cheese        21   \n",
       "\n",
       "   department_id  prices  order_id  user_id  order_number  orders_day_of_week  \\\n",
       "0             16    12.5   2539329        1             1                   2   \n",
       "1             16     8.6    473747        1             3                   3   \n",
       "2             16     8.6   2254736        1             4                   4   \n",
       "3             16     8.6    431534        1             5                   4   \n",
       "4             16     8.6   3367565        1             6                   2   \n",
       "\n",
       "   order_hour_of_day  days_since_prior_order  first_order  add_to_cart_order  \\\n",
       "0                  8                     NaN         True                  2   \n",
       "1                 12                    21.0        False                  4   \n",
       "2                  7                    29.0        False                  4   \n",
       "3                 15                    28.0        False                  4   \n",
       "4                  7                    19.0        False                  4   \n",
       "\n",
       "   reordered merge_1    price_range_loc    busiest_days busiest_period_of_day  \\\n",
       "0          0    both  Mid-range product  Regularly busy        Average orders   \n",
       "1          0    both  Mid-range product    Slowest days           Most orders   \n",
       "2          1    both  Mid-range product    Slowest days        Average orders   \n",
       "3          1    both  Mid-range product    Slowest days           Most orders   \n",
       "4          1    both  Mid-range product  Regularly busy        Average orders   \n",
       "\n",
       "   max_order  loyalty_flag  user_mean_product_price spending_flag  \\\n",
       "0         10  New customer                 6.367797   Low spender   \n",
       "1         10  New customer                 6.367797   Low spender   \n",
       "2         10  New customer                 6.367797   Low spender   \n",
       "3         10  New customer                 6.367797   Low spender   \n",
       "4         10  New customer                 6.367797   Low spender   \n",
       "\n",
       "   median_days_between_orders         frequency_flag  gender    state  age  \\\n",
       "0                        20.5  Non-frequent customer  Female  Alabama   31   \n",
       "1                        20.5  Non-frequent customer  Female  Alabama   31   \n",
       "2                        20.5  Non-frequent customer  Female  Alabama   31   \n",
       "3                        20.5  Non-frequent customer  Female  Alabama   31   \n",
       "4                        20.5  Non-frequent customer  Female  Alabama   31   \n",
       "\n",
       "  date_joined  n_dependants fam_status  income merge_2 region exclusion_flag  \\\n",
       "0   2/17/2019             3    married   40423    both  South           Keep   \n",
       "1   2/17/2019             3    married   40423    both  South           Keep   \n",
       "2   2/17/2019             3    married   40423    both  South           Keep   \n",
       "3   2/17/2019             3    married   40423    both  South           Keep   \n",
       "4   2/17/2019             3    married   40423    both  South           Keep   \n",
       "\n",
       "  age_group income_group dependants_flag  department _merge  \n",
       "0     Adult          Low  Has Dependants  dairy eggs   both  \n",
       "1     Adult          Low  Has Dependants  dairy eggs   both  \n",
       "2     Adult          Low  Has Dependants  dairy eggs   both  \n",
       "3     Adult          Low  Has Dependants  dairy eggs   both  \n",
       "4     Adult          Low  Has Dependants  dairy eggs   both  "
      ]
     },
     "execution_count": 64,
     "metadata": {},
     "output_type": "execute_result"
    }
   ],
   "source": [
    "full_data.head()"
   ]
  },
  {
   "cell_type": "code",
   "execution_count": 65,
   "id": "0d9fa106",
   "metadata": {},
   "outputs": [
    {
     "data": {
      "text/plain": [
       "_merge\n",
       "both          30959687\n",
       "left_only            0\n",
       "right_only           0\n",
       "Name: count, dtype: int64"
      ]
     },
     "execution_count": 65,
     "metadata": {},
     "output_type": "execute_result"
    }
   ],
   "source": [
    "# Check frequency of new merge flag to ensure it is the same as the number of rows in ords_prods_kept\n",
    "full_data['_merge'].value_counts(dropna = False)"
   ]
  },
  {
   "cell_type": "code",
   "execution_count": 66,
   "id": "971ecc56",
   "metadata": {},
   "outputs": [],
   "source": [
    "# Drop merge flag\n",
    "full_data.drop('_merge', axis = 1, inplace = True)"
   ]
  },
  {
   "cell_type": "markdown",
   "id": "54732638",
   "metadata": {},
   "source": [
    "## Profile by Region"
   ]
  },
  {
   "cell_type": "markdown",
   "id": "f03cd0e0",
   "metadata": {},
   "source": [
    "Summary of below findings: In all categories in each profiling variable, the count of customers in each category is proportionate between each region (there are no significant variations in the number of profiles that isn't simply caused by the different totals of customers in each region)"
   ]
  },
  {
   "cell_type": "markdown",
   "id": "58ac101e",
   "metadata": {},
   "source": [
    "### Income Groups"
   ]
  },
  {
   "cell_type": "code",
   "execution_count": 53,
   "id": "69584a68",
   "metadata": {},
   "outputs": [
    {
     "name": "stderr",
     "output_type": "stream",
     "text": [
      "C:\\Users\\lauri\\anaconda3\\Lib\\site-packages\\seaborn\\_oldcore.py:1119: FutureWarning: use_inf_as_na option is deprecated and will be removed in a future version. Convert inf values to NaN before operating instead.\n",
      "  with pd.option_context('mode.use_inf_as_na', True):\n",
      "C:\\Users\\lauri\\anaconda3\\Lib\\site-packages\\seaborn\\_oldcore.py:1075: FutureWarning: When grouping with a length-1 list-like, you will need to pass a length-1 tuple to get_group in a future version of pandas. Pass `(name,)` instead of `name` to silence this warning.\n",
      "  data_subset = grouped_data.get_group(pd_key)\n",
      "C:\\Users\\lauri\\anaconda3\\Lib\\site-packages\\seaborn\\_oldcore.py:1075: FutureWarning: When grouping with a length-1 list-like, you will need to pass a length-1 tuple to get_group in a future version of pandas. Pass `(name,)` instead of `name` to silence this warning.\n",
      "  data_subset = grouped_data.get_group(pd_key)\n",
      "C:\\Users\\lauri\\anaconda3\\Lib\\site-packages\\seaborn\\_oldcore.py:1075: FutureWarning: When grouping with a length-1 list-like, you will need to pass a length-1 tuple to get_group in a future version of pandas. Pass `(name,)` instead of `name` to silence this warning.\n",
      "  data_subset = grouped_data.get_group(pd_key)\n",
      "C:\\Users\\lauri\\anaconda3\\Lib\\site-packages\\seaborn\\_oldcore.py:1075: FutureWarning: When grouping with a length-1 list-like, you will need to pass a length-1 tuple to get_group in a future version of pandas. Pass `(name,)` instead of `name` to silence this warning.\n",
      "  data_subset = grouped_data.get_group(pd_key)\n",
      "C:\\Users\\lauri\\anaconda3\\Lib\\site-packages\\seaborn\\_oldcore.py:1075: FutureWarning: When grouping with a length-1 list-like, you will need to pass a length-1 tuple to get_group in a future version of pandas. Pass `(name,)` instead of `name` to silence this warning.\n",
      "  data_subset = grouped_data.get_group(pd_key)\n"
     ]
    },
    {
     "ename": "FileNotFoundError",
     "evalue": "[Errno 2] No such file or directory: 'C:\\\\Users\\\\lauri\\\\Desktop\\\\Careerfoundry\\\\Python\\\\Instacart Basket Analysis\\\\04 Analysis\\\\Visualisations\\\\instacart_income_by_region.png'",
     "output_type": "error",
     "traceback": [
      "\u001b[1;31m---------------------------------------------------------------------------\u001b[0m",
      "\u001b[1;31mFileNotFoundError\u001b[0m                         Traceback (most recent call last)",
      "Cell \u001b[1;32mIn[53], line 13\u001b[0m\n\u001b[0;32m     11\u001b[0m plt\u001b[38;5;241m.\u001b[39mxlabel(\u001b[38;5;124m'\u001b[39m\u001b[38;5;124mRegion\u001b[39m\u001b[38;5;124m'\u001b[39m)\n\u001b[0;32m     12\u001b[0m \u001b[38;5;66;03m# Save and show\u001b[39;00m\n\u001b[1;32m---> 13\u001b[0m plt\u001b[38;5;241m.\u001b[39msavefig(os\u001b[38;5;241m.\u001b[39mpath\u001b[38;5;241m.\u001b[39mjoin(path, \u001b[38;5;124m'\u001b[39m\u001b[38;5;124m04 Analysis\u001b[39m\u001b[38;5;124m'\u001b[39m, \u001b[38;5;124m'\u001b[39m\u001b[38;5;124mVisualisations\u001b[39m\u001b[38;5;124m'\u001b[39m, \u001b[38;5;124m'\u001b[39m\u001b[38;5;124minstacart_income_by_region.png\u001b[39m\u001b[38;5;124m'\u001b[39m), bbox_inches \u001b[38;5;241m=\u001b[39m \u001b[38;5;124m'\u001b[39m\u001b[38;5;124mtight\u001b[39m\u001b[38;5;124m'\u001b[39m)\n\u001b[0;32m     14\u001b[0m plt\u001b[38;5;241m.\u001b[39mshow()\n",
      "File \u001b[1;32m~\\anaconda3\\Lib\\site-packages\\matplotlib\\pyplot.py:1134\u001b[0m, in \u001b[0;36msavefig\u001b[1;34m(*args, **kwargs)\u001b[0m\n\u001b[0;32m   1131\u001b[0m fig \u001b[38;5;241m=\u001b[39m gcf()\n\u001b[0;32m   1132\u001b[0m \u001b[38;5;66;03m# savefig default implementation has no return, so mypy is unhappy\u001b[39;00m\n\u001b[0;32m   1133\u001b[0m \u001b[38;5;66;03m# presumably this is here because subclasses can return?\u001b[39;00m\n\u001b[1;32m-> 1134\u001b[0m res \u001b[38;5;241m=\u001b[39m fig\u001b[38;5;241m.\u001b[39msavefig(\u001b[38;5;241m*\u001b[39margs, \u001b[38;5;241m*\u001b[39m\u001b[38;5;241m*\u001b[39mkwargs)  \u001b[38;5;66;03m# type: ignore[func-returns-value]\u001b[39;00m\n\u001b[0;32m   1135\u001b[0m fig\u001b[38;5;241m.\u001b[39mcanvas\u001b[38;5;241m.\u001b[39mdraw_idle()  \u001b[38;5;66;03m# Need this if 'transparent=True', to reset colors.\u001b[39;00m\n\u001b[0;32m   1136\u001b[0m \u001b[38;5;28;01mreturn\u001b[39;00m res\n",
      "File \u001b[1;32m~\\anaconda3\\Lib\\site-packages\\matplotlib\\figure.py:3390\u001b[0m, in \u001b[0;36mFigure.savefig\u001b[1;34m(self, fname, transparent, **kwargs)\u001b[0m\n\u001b[0;32m   3388\u001b[0m     \u001b[38;5;28;01mfor\u001b[39;00m ax \u001b[38;5;129;01min\u001b[39;00m \u001b[38;5;28mself\u001b[39m\u001b[38;5;241m.\u001b[39maxes:\n\u001b[0;32m   3389\u001b[0m         _recursively_make_axes_transparent(stack, ax)\n\u001b[1;32m-> 3390\u001b[0m \u001b[38;5;28mself\u001b[39m\u001b[38;5;241m.\u001b[39mcanvas\u001b[38;5;241m.\u001b[39mprint_figure(fname, \u001b[38;5;241m*\u001b[39m\u001b[38;5;241m*\u001b[39mkwargs)\n",
      "File \u001b[1;32m~\\anaconda3\\Lib\\site-packages\\matplotlib\\backend_bases.py:2193\u001b[0m, in \u001b[0;36mFigureCanvasBase.print_figure\u001b[1;34m(self, filename, dpi, facecolor, edgecolor, orientation, format, bbox_inches, pad_inches, bbox_extra_artists, backend, **kwargs)\u001b[0m\n\u001b[0;32m   2189\u001b[0m \u001b[38;5;28;01mtry\u001b[39;00m:\n\u001b[0;32m   2190\u001b[0m     \u001b[38;5;66;03m# _get_renderer may change the figure dpi (as vector formats\u001b[39;00m\n\u001b[0;32m   2191\u001b[0m     \u001b[38;5;66;03m# force the figure dpi to 72), so we need to set it again here.\u001b[39;00m\n\u001b[0;32m   2192\u001b[0m     \u001b[38;5;28;01mwith\u001b[39;00m cbook\u001b[38;5;241m.\u001b[39m_setattr_cm(\u001b[38;5;28mself\u001b[39m\u001b[38;5;241m.\u001b[39mfigure, dpi\u001b[38;5;241m=\u001b[39mdpi):\n\u001b[1;32m-> 2193\u001b[0m         result \u001b[38;5;241m=\u001b[39m print_method(\n\u001b[0;32m   2194\u001b[0m             filename,\n\u001b[0;32m   2195\u001b[0m             facecolor\u001b[38;5;241m=\u001b[39mfacecolor,\n\u001b[0;32m   2196\u001b[0m             edgecolor\u001b[38;5;241m=\u001b[39medgecolor,\n\u001b[0;32m   2197\u001b[0m             orientation\u001b[38;5;241m=\u001b[39morientation,\n\u001b[0;32m   2198\u001b[0m             bbox_inches_restore\u001b[38;5;241m=\u001b[39m_bbox_inches_restore,\n\u001b[0;32m   2199\u001b[0m             \u001b[38;5;241m*\u001b[39m\u001b[38;5;241m*\u001b[39mkwargs)\n\u001b[0;32m   2200\u001b[0m \u001b[38;5;28;01mfinally\u001b[39;00m:\n\u001b[0;32m   2201\u001b[0m     \u001b[38;5;28;01mif\u001b[39;00m bbox_inches \u001b[38;5;129;01mand\u001b[39;00m restore_bbox:\n",
      "File \u001b[1;32m~\\anaconda3\\Lib\\site-packages\\matplotlib\\backend_bases.py:2043\u001b[0m, in \u001b[0;36mFigureCanvasBase._switch_canvas_and_return_print_method.<locals>.<lambda>\u001b[1;34m(*args, **kwargs)\u001b[0m\n\u001b[0;32m   2039\u001b[0m     optional_kws \u001b[38;5;241m=\u001b[39m {  \u001b[38;5;66;03m# Passed by print_figure for other renderers.\u001b[39;00m\n\u001b[0;32m   2040\u001b[0m         \u001b[38;5;124m\"\u001b[39m\u001b[38;5;124mdpi\u001b[39m\u001b[38;5;124m\"\u001b[39m, \u001b[38;5;124m\"\u001b[39m\u001b[38;5;124mfacecolor\u001b[39m\u001b[38;5;124m\"\u001b[39m, \u001b[38;5;124m\"\u001b[39m\u001b[38;5;124medgecolor\u001b[39m\u001b[38;5;124m\"\u001b[39m, \u001b[38;5;124m\"\u001b[39m\u001b[38;5;124morientation\u001b[39m\u001b[38;5;124m\"\u001b[39m,\n\u001b[0;32m   2041\u001b[0m         \u001b[38;5;124m\"\u001b[39m\u001b[38;5;124mbbox_inches_restore\u001b[39m\u001b[38;5;124m\"\u001b[39m}\n\u001b[0;32m   2042\u001b[0m     skip \u001b[38;5;241m=\u001b[39m optional_kws \u001b[38;5;241m-\u001b[39m {\u001b[38;5;241m*\u001b[39minspect\u001b[38;5;241m.\u001b[39msignature(meth)\u001b[38;5;241m.\u001b[39mparameters}\n\u001b[1;32m-> 2043\u001b[0m     print_method \u001b[38;5;241m=\u001b[39m functools\u001b[38;5;241m.\u001b[39mwraps(meth)(\u001b[38;5;28;01mlambda\u001b[39;00m \u001b[38;5;241m*\u001b[39margs, \u001b[38;5;241m*\u001b[39m\u001b[38;5;241m*\u001b[39mkwargs: meth(\n\u001b[0;32m   2044\u001b[0m         \u001b[38;5;241m*\u001b[39margs, \u001b[38;5;241m*\u001b[39m\u001b[38;5;241m*\u001b[39m{k: v \u001b[38;5;28;01mfor\u001b[39;00m k, v \u001b[38;5;129;01min\u001b[39;00m kwargs\u001b[38;5;241m.\u001b[39mitems() \u001b[38;5;28;01mif\u001b[39;00m k \u001b[38;5;129;01mnot\u001b[39;00m \u001b[38;5;129;01min\u001b[39;00m skip}))\n\u001b[0;32m   2045\u001b[0m \u001b[38;5;28;01melse\u001b[39;00m:  \u001b[38;5;66;03m# Let third-parties do as they see fit.\u001b[39;00m\n\u001b[0;32m   2046\u001b[0m     print_method \u001b[38;5;241m=\u001b[39m meth\n",
      "File \u001b[1;32m~\\anaconda3\\Lib\\site-packages\\matplotlib\\backends\\backend_agg.py:497\u001b[0m, in \u001b[0;36mFigureCanvasAgg.print_png\u001b[1;34m(self, filename_or_obj, metadata, pil_kwargs)\u001b[0m\n\u001b[0;32m    450\u001b[0m \u001b[38;5;28;01mdef\u001b[39;00m \u001b[38;5;21mprint_png\u001b[39m(\u001b[38;5;28mself\u001b[39m, filename_or_obj, \u001b[38;5;241m*\u001b[39m, metadata\u001b[38;5;241m=\u001b[39m\u001b[38;5;28;01mNone\u001b[39;00m, pil_kwargs\u001b[38;5;241m=\u001b[39m\u001b[38;5;28;01mNone\u001b[39;00m):\n\u001b[0;32m    451\u001b[0m \u001b[38;5;250m    \u001b[39m\u001b[38;5;124;03m\"\"\"\u001b[39;00m\n\u001b[0;32m    452\u001b[0m \u001b[38;5;124;03m    Write the figure to a PNG file.\u001b[39;00m\n\u001b[0;32m    453\u001b[0m \n\u001b[1;32m   (...)\u001b[0m\n\u001b[0;32m    495\u001b[0m \u001b[38;5;124;03m        *metadata*, including the default 'Software' key.\u001b[39;00m\n\u001b[0;32m    496\u001b[0m \u001b[38;5;124;03m    \"\"\"\u001b[39;00m\n\u001b[1;32m--> 497\u001b[0m     \u001b[38;5;28mself\u001b[39m\u001b[38;5;241m.\u001b[39m_print_pil(filename_or_obj, \u001b[38;5;124m\"\u001b[39m\u001b[38;5;124mpng\u001b[39m\u001b[38;5;124m\"\u001b[39m, pil_kwargs, metadata)\n",
      "File \u001b[1;32m~\\anaconda3\\Lib\\site-packages\\matplotlib\\backends\\backend_agg.py:446\u001b[0m, in \u001b[0;36mFigureCanvasAgg._print_pil\u001b[1;34m(self, filename_or_obj, fmt, pil_kwargs, metadata)\u001b[0m\n\u001b[0;32m    441\u001b[0m \u001b[38;5;250m\u001b[39m\u001b[38;5;124;03m\"\"\"\u001b[39;00m\n\u001b[0;32m    442\u001b[0m \u001b[38;5;124;03mDraw the canvas, then save it using `.image.imsave` (to which\u001b[39;00m\n\u001b[0;32m    443\u001b[0m \u001b[38;5;124;03m*pil_kwargs* and *metadata* are forwarded).\u001b[39;00m\n\u001b[0;32m    444\u001b[0m \u001b[38;5;124;03m\"\"\"\u001b[39;00m\n\u001b[0;32m    445\u001b[0m FigureCanvasAgg\u001b[38;5;241m.\u001b[39mdraw(\u001b[38;5;28mself\u001b[39m)\n\u001b[1;32m--> 446\u001b[0m mpl\u001b[38;5;241m.\u001b[39mimage\u001b[38;5;241m.\u001b[39mimsave(\n\u001b[0;32m    447\u001b[0m     filename_or_obj, \u001b[38;5;28mself\u001b[39m\u001b[38;5;241m.\u001b[39mbuffer_rgba(), \u001b[38;5;28mformat\u001b[39m\u001b[38;5;241m=\u001b[39mfmt, origin\u001b[38;5;241m=\u001b[39m\u001b[38;5;124m\"\u001b[39m\u001b[38;5;124mupper\u001b[39m\u001b[38;5;124m\"\u001b[39m,\n\u001b[0;32m    448\u001b[0m     dpi\u001b[38;5;241m=\u001b[39m\u001b[38;5;28mself\u001b[39m\u001b[38;5;241m.\u001b[39mfigure\u001b[38;5;241m.\u001b[39mdpi, metadata\u001b[38;5;241m=\u001b[39mmetadata, pil_kwargs\u001b[38;5;241m=\u001b[39mpil_kwargs)\n",
      "File \u001b[1;32m~\\anaconda3\\Lib\\site-packages\\matplotlib\\image.py:1656\u001b[0m, in \u001b[0;36mimsave\u001b[1;34m(fname, arr, vmin, vmax, cmap, format, origin, dpi, metadata, pil_kwargs)\u001b[0m\n\u001b[0;32m   1654\u001b[0m pil_kwargs\u001b[38;5;241m.\u001b[39msetdefault(\u001b[38;5;124m\"\u001b[39m\u001b[38;5;124mformat\u001b[39m\u001b[38;5;124m\"\u001b[39m, \u001b[38;5;28mformat\u001b[39m)\n\u001b[0;32m   1655\u001b[0m pil_kwargs\u001b[38;5;241m.\u001b[39msetdefault(\u001b[38;5;124m\"\u001b[39m\u001b[38;5;124mdpi\u001b[39m\u001b[38;5;124m\"\u001b[39m, (dpi, dpi))\n\u001b[1;32m-> 1656\u001b[0m image\u001b[38;5;241m.\u001b[39msave(fname, \u001b[38;5;241m*\u001b[39m\u001b[38;5;241m*\u001b[39mpil_kwargs)\n",
      "File \u001b[1;32m~\\anaconda3\\Lib\\site-packages\\PIL\\Image.py:2436\u001b[0m, in \u001b[0;36mImage.save\u001b[1;34m(self, fp, format, **params)\u001b[0m\n\u001b[0;32m   2434\u001b[0m         fp \u001b[38;5;241m=\u001b[39m builtins\u001b[38;5;241m.\u001b[39mopen(filename, \u001b[38;5;124m\"\u001b[39m\u001b[38;5;124mr+b\u001b[39m\u001b[38;5;124m\"\u001b[39m)\n\u001b[0;32m   2435\u001b[0m     \u001b[38;5;28;01melse\u001b[39;00m:\n\u001b[1;32m-> 2436\u001b[0m         fp \u001b[38;5;241m=\u001b[39m builtins\u001b[38;5;241m.\u001b[39mopen(filename, \u001b[38;5;124m\"\u001b[39m\u001b[38;5;124mw+b\u001b[39m\u001b[38;5;124m\"\u001b[39m)\n\u001b[0;32m   2438\u001b[0m \u001b[38;5;28;01mtry\u001b[39;00m:\n\u001b[0;32m   2439\u001b[0m     save_handler(\u001b[38;5;28mself\u001b[39m, fp, filename)\n",
      "\u001b[1;31mFileNotFoundError\u001b[0m: [Errno 2] No such file or directory: 'C:\\\\Users\\\\lauri\\\\Desktop\\\\Careerfoundry\\\\Python\\\\Instacart Basket Analysis\\\\04 Analysis\\\\Visualisations\\\\instacart_income_by_region.png'"
     ]
    },
    {
     "data": {
      "image/png": "[encoded data removed]",
      "text/plain": [
       "<Figure size 1000x600 with 1 Axes>"
      ]
     },
     "metadata": {},
     "output_type": "display_data"
    }
   ],
   "source": [
    "# A histogram could work to show the count of customers in each income group by region\n",
    "plt.figure(figsize=(10, 6))\n",
    "# Plot the histogram bars\n",
    "sns.histplot(data=user_sample, x='region', hue='income_group', multiple='dodge', shrink=.8, alpha=1)\n",
    "# Overlay a grid behind the bars\n",
    "plt.gca().set_axisbelow(True)  # Ensure grid is behind bars\n",
    "plt.grid(axis='y', color='gray', linestyle='dashed')\n",
    "# General formatting\n",
    "plt.title('Distribution of Customer Income groups by Region')\n",
    "plt.ylabel('No. of Customers')\n",
    "plt.xlabel('Region')\n",
    "# Save and show\n",
    "plt.savefig(os.path.join(path, '04 Analysis', 'Visualisations', 'instacart_income_by_region.png'), bbox_inches = 'tight')\n",
    "plt.show()"
   ]
  },
  {
   "cell_type": "code",
   "execution_count": 68,
   "id": "6f17eff0",
   "metadata": {},
   "outputs": [
    {
     "data": {
      "text/html": [
       "<div>\n",
       "<style scoped>\n",
       "    .dataframe tbody tr th:only-of-type {\n",
       "        vertical-align: middle;\n",
       "    }\n",
       "\n",
       "    .dataframe tbody tr th {\n",
       "        vertical-align: top;\n",
       "    }\n",
       "\n",
       "    .dataframe thead th {\n",
       "        text-align: right;\n",
       "    }\n",
       "</style>\n",
       "<table border=\"1\" class=\"dataframe\">\n",
       "  <thead>\n",
       "    <tr style=\"text-align: right;\">\n",
       "      <th>region</th>\n",
       "      <th>Midwest</th>\n",
       "      <th>Northeast</th>\n",
       "      <th>South</th>\n",
       "      <th>West</th>\n",
       "    </tr>\n",
       "    <tr>\n",
       "      <th>income_group</th>\n",
       "      <th></th>\n",
       "      <th></th>\n",
       "      <th></th>\n",
       "      <th></th>\n",
       "    </tr>\n",
       "  </thead>\n",
       "  <tbody>\n",
       "    <tr>\n",
       "      <th>High</th>\n",
       "      <td>16756</td>\n",
       "      <td>12369</td>\n",
       "      <td>23156</td>\n",
       "      <td>17799</td>\n",
       "    </tr>\n",
       "    <tr>\n",
       "      <th>Low</th>\n",
       "      <td>5891</td>\n",
       "      <td>4440</td>\n",
       "      <td>8403</td>\n",
       "      <td>6458</td>\n",
       "    </tr>\n",
       "    <tr>\n",
       "      <th>Middle</th>\n",
       "      <td>15729</td>\n",
       "      <td>11772</td>\n",
       "      <td>22634</td>\n",
       "      <td>17224</td>\n",
       "    </tr>\n",
       "  </tbody>\n",
       "</table>\n",
       "</div>"
      ],
      "text/plain": [
       "region        Midwest  Northeast  South   West\n",
       "income_group                                  \n",
       "High            16756      12369  23156  17799\n",
       "Low              5891       4440   8403   6458\n",
       "Middle          15729      11772  22634  17224"
      ]
     },
     "execution_count": 68,
     "metadata": {},
     "output_type": "execute_result"
    }
   ],
   "source": [
    "# Check above graph using crosstab\n",
    "pd.crosstab(user_sample['income_group'], user_sample['region'], dropna = False)"
   ]
  },
  {
   "cell_type": "markdown",
   "id": "7a55cb8d",
   "metadata": {},
   "source": [
    "### Age Groups"
   ]
  },
  {
   "cell_type": "code",
   "execution_count": 69,
   "id": "9803f9b9",
   "metadata": {},
   "outputs": [
    {
     "name": "stderr",
     "output_type": "stream",
     "text": [
      "C:\\Users\\kyles\\anaconda3\\Lib\\site-packages\\seaborn\\_oldcore.py:1119: FutureWarning: use_inf_as_na option is deprecated and will be removed in a future version. Convert inf values to NaN before operating instead.\n",
      "  with pd.option_context('mode.use_inf_as_na', True):\n"
     ]
    },
    {
     "data": {
      "image/png": "[encoded data removed]",
      "text/plain": [
       "<Figure size 1000x600 with 1 Axes>"
      ]
     },
     "metadata": {},
     "output_type": "display_data"
    }
   ],
   "source": [
    "plt.figure(figsize=(10, 6))\n",
    "# Plot the histogram bars\n",
    "sns.histplot(data=user_sample, x='region', hue='age_group', multiple='dodge', shrink=.8, alpha=1)\n",
    "# Overlay a grid behind the bars\n",
    "plt.gca().set_axisbelow(True)  # Ensure grid is behind bars\n",
    "plt.grid(axis='y', color='gray', linestyle='dashed')\n",
    "# General formatting\n",
    "plt.title('Distribution of Customer Age Groups by Region')\n",
    "plt.ylabel('No. of Customers')\n",
    "plt.xlabel('Region')\n",
    "# Save and show\n",
    "plt.savefig(os.path.join(path, '04 Analysis', 'Visualisations', 'instacart_age_by_region.png'), bbox_inches = 'tight')\n",
    "plt.show()"
   ]
  },
  {
   "cell_type": "code",
   "execution_count": 70,
   "id": "00f82eae",
   "metadata": {},
   "outputs": [
    {
     "data": {
      "text/html": [
       "<div>\n",
       "<style scoped>\n",
       "    .dataframe tbody tr th:only-of-type {\n",
       "        vertical-align: middle;\n",
       "    }\n",
       "\n",
       "    .dataframe tbody tr th {\n",
       "        vertical-align: top;\n",
       "    }\n",
       "\n",
       "    .dataframe thead th {\n",
       "        text-align: right;\n",
       "    }\n",
       "</style>\n",
       "<table border=\"1\" class=\"dataframe\">\n",
       "  <thead>\n",
       "    <tr style=\"text-align: right;\">\n",
       "      <th>region</th>\n",
       "      <th>Midwest</th>\n",
       "      <th>Northeast</th>\n",
       "      <th>South</th>\n",
       "      <th>West</th>\n",
       "    </tr>\n",
       "    <tr>\n",
       "      <th>age_group</th>\n",
       "      <th></th>\n",
       "      <th></th>\n",
       "      <th></th>\n",
       "      <th></th>\n",
       "    </tr>\n",
       "  </thead>\n",
       "  <tbody>\n",
       "    <tr>\n",
       "      <th>Adult</th>\n",
       "      <td>11379</td>\n",
       "      <td>8527</td>\n",
       "      <td>16071</td>\n",
       "      <td>12214</td>\n",
       "    </tr>\n",
       "    <tr>\n",
       "      <th>Older adult</th>\n",
       "      <td>12119</td>\n",
       "      <td>9000</td>\n",
       "      <td>16839</td>\n",
       "      <td>13035</td>\n",
       "    </tr>\n",
       "    <tr>\n",
       "      <th>Senior</th>\n",
       "      <td>10169</td>\n",
       "      <td>7580</td>\n",
       "      <td>14433</td>\n",
       "      <td>11068</td>\n",
       "    </tr>\n",
       "    <tr>\n",
       "      <th>Young Adult</th>\n",
       "      <td>4709</td>\n",
       "      <td>3474</td>\n",
       "      <td>6850</td>\n",
       "      <td>5164</td>\n",
       "    </tr>\n",
       "  </tbody>\n",
       "</table>\n",
       "</div>"
      ],
      "text/plain": [
       "region       Midwest  Northeast  South   West\n",
       "age_group                                    \n",
       "Adult          11379       8527  16071  12214\n",
       "Older adult    12119       9000  16839  13035\n",
       "Senior         10169       7580  14433  11068\n",
       "Young Adult     4709       3474   6850   5164"
      ]
     },
     "execution_count": 70,
     "metadata": {},
     "output_type": "execute_result"
    }
   ],
   "source": [
    "# Check above graph using crosstab\n",
    "pd.crosstab(user_sample['age_group'], user_sample['region'], dropna = False)"
   ]
  },
  {
   "cell_type": "markdown",
   "id": "2982ced1",
   "metadata": {},
   "source": [
    "### Dependants"
   ]
  },
  {
   "cell_type": "code",
   "execution_count": 71,
   "id": "e5f1f71f",
   "metadata": {},
   "outputs": [
    {
     "name": "stderr",
     "output_type": "stream",
     "text": [
      "C:\\Users\\kyles\\anaconda3\\Lib\\site-packages\\seaborn\\_oldcore.py:1119: FutureWarning: use_inf_as_na option is deprecated and will be removed in a future version. Convert inf values to NaN before operating instead.\n",
      "  with pd.option_context('mode.use_inf_as_na', True):\n"
     ]
    },
    {
     "data": {
      "image/png": "[encoded data removed]",
      "text/plain": [
       "<Figure size 1000x600 with 1 Axes>"
      ]
     },
     "metadata": {},
     "output_type": "display_data"
    }
   ],
   "source": [
    "plt.figure(figsize=(10, 6))\n",
    "# Plot the histogram bars\n",
    "sns.histplot(data=user_sample, x='region', hue='dependants_flag', multiple='dodge', shrink=.8, alpha=1)\n",
    "# Overlay a grid behind the bars\n",
    "plt.gca().set_axisbelow(True)  # Ensure grid is behind bars\n",
    "plt.grid(axis='y', color='gray', linestyle='dashed')\n",
    "# General formatting\n",
    "plt.title('Distribution of Customers with and without Dependants by Region')\n",
    "plt.ylabel('No. of Customers')\n",
    "plt.xlabel('Region')\n",
    "# Save and show\n",
    "plt.savefig(os.path.join(path, '04 Analysis', 'Visualisations', 'instacart_dependants_by_region.png'), bbox_inches = 'tight')\n",
    "plt.show()"
   ]
  },
  {
   "cell_type": "code",
   "execution_count": 72,
   "id": "7b932dae",
   "metadata": {},
   "outputs": [
    {
     "data": {
      "text/html": [
       "<div>\n",
       "<style scoped>\n",
       "    .dataframe tbody tr th:only-of-type {\n",
       "        vertical-align: middle;\n",
       "    }\n",
       "\n",
       "    .dataframe tbody tr th {\n",
       "        vertical-align: top;\n",
       "    }\n",
       "\n",
       "    .dataframe thead th {\n",
       "        text-align: right;\n",
       "    }\n",
       "</style>\n",
       "<table border=\"1\" class=\"dataframe\">\n",
       "  <thead>\n",
       "    <tr style=\"text-align: right;\">\n",
       "      <th>region</th>\n",
       "      <th>Midwest</th>\n",
       "      <th>Northeast</th>\n",
       "      <th>South</th>\n",
       "      <th>West</th>\n",
       "    </tr>\n",
       "    <tr>\n",
       "      <th>dependants_flag</th>\n",
       "      <th></th>\n",
       "      <th></th>\n",
       "      <th></th>\n",
       "      <th></th>\n",
       "    </tr>\n",
       "  </thead>\n",
       "  <tbody>\n",
       "    <tr>\n",
       "      <th>Has Dependants</th>\n",
       "      <td>28810</td>\n",
       "      <td>21326</td>\n",
       "      <td>40656</td>\n",
       "      <td>31112</td>\n",
       "    </tr>\n",
       "    <tr>\n",
       "      <th>No Dependants</th>\n",
       "      <td>9566</td>\n",
       "      <td>7255</td>\n",
       "      <td>13537</td>\n",
       "      <td>10369</td>\n",
       "    </tr>\n",
       "  </tbody>\n",
       "</table>\n",
       "</div>"
      ],
      "text/plain": [
       "region           Midwest  Northeast  South   West\n",
       "dependants_flag                                  \n",
       "Has Dependants     28810      21326  40656  31112\n",
       "No Dependants       9566       7255  13537  10369"
      ]
     },
     "execution_count": 72,
     "metadata": {},
     "output_type": "execute_result"
    }
   ],
   "source": [
    "# Check above graph using crosstab\n",
    "pd.crosstab(user_sample['dependants_flag'], user_sample['region'], dropna = False)"
   ]
  },
  {
   "cell_type": "markdown",
   "id": "a25685dd",
   "metadata": {},
   "source": [
    "## Profiles by Department Sales"
   ]
  },
  {
   "cell_type": "markdown",
   "id": "693f9487",
   "metadata": {},
   "source": [
    "### Income Groups"
   ]
  },
  {
   "cell_type": "code",
   "execution_count": 73,
   "id": "649a6a17",
   "metadata": {},
   "outputs": [
    {
     "data": {
      "image/png": "[encoded data removed]",
      "text/plain": [
       "<Figure size 1200x1800 with 3 Axes>"
      ]
     },
     "metadata": {},
     "output_type": "display_data"
    }
   ],
   "source": [
    "# Group by income_group and department, count occurrences, and sort\n",
    "income_department_counts = full_data.groupby(['income_group', 'department']).size().reset_index(name='counts')\n",
    "income_department_counts.sort_values(by=['income_group', 'counts'], ascending=False, inplace=True)\n",
    "\n",
    "# Create subplots and color scheme\n",
    "fig, axs = plt.subplots(3, 1, figsize=(12, 18))\n",
    "colors = plt.cm.viridis(np.linspace(0, 1, 5))  # Sets colour palette\n",
    "\n",
    "# Define the desired order of income groups\n",
    "desired_order = ['High', 'Middle', 'Low']\n",
    "\n",
    "# Iterate over each income group and create a horizontal bar chart\n",
    "for i, income_group in enumerate(desired_order):\n",
    "    income_data = income_department_counts[income_department_counts['income_group'] == income_group].head(5)\n",
    "    ax = axs[i]\n",
    "    ax.barh(income_data['department'], income_data['counts'], color=colors, zorder=2)\n",
    "    ax.set_title(f'Top 5 Departments for {income_group}-earners')\n",
    "    ax.set_xlabel('Total Products Sold')\n",
    "    ax.set_xlim(0, 4500000) # Keep x-axis range consistent for comparisons\n",
    "    ax.ticklabel_format(style='plain', axis='x')\n",
    "    ax.set_ylabel('')\n",
    "    ax.invert_yaxis()  # Invert y-axis to have the highest count at the top\n",
    "    ax.grid(axis='x', color='gray', linestyle='dashed')\n",
    "\n",
    "plt.tight_layout()  # Adjust layout to prevent overlapping\n",
    "plt.savefig(os.path.join(path, '04 Analysis', 'Visualisations', 'instacart_top_departments_by_income_group.png'), bbox_inches = 'tight')\n",
    "plt.show()"
   ]
  },
  {
   "cell_type": "markdown",
   "id": "e2116a2d",
   "metadata": {},
   "source": [
    "Note: Interesting that after \"produce\" the top departments differ between the income groups. Higher earners are more concerned with \"dairy/eggs\" whereas low-earners buy from \"snacks\" more often."
   ]
  },
  {
   "cell_type": "markdown",
   "id": "29f17629",
   "metadata": {},
   "source": [
    "### Age Groups"
   ]
  },
  {
   "cell_type": "code",
   "execution_count": 54,
   "id": "8798351c",
   "metadata": {},
   "outputs": [
    {
     "ename": "NameError",
     "evalue": "name 'full_data' is not defined",
     "output_type": "error",
     "traceback": [
      "\u001b[1;31m---------------------------------------------------------------------------\u001b[0m",
      "\u001b[1;31mNameError\u001b[0m                                 Traceback (most recent call last)",
      "Cell \u001b[1;32mIn[54], line 2\u001b[0m\n\u001b[0;32m      1\u001b[0m \u001b[38;5;66;03m# Group by age_group and department, count occurrences, and sort\u001b[39;00m\n\u001b[1;32m----> 2\u001b[0m age_department_counts \u001b[38;5;241m=\u001b[39m full_data\u001b[38;5;241m.\u001b[39mgroupby([\u001b[38;5;124m'\u001b[39m\u001b[38;5;124mage_group\u001b[39m\u001b[38;5;124m'\u001b[39m, \u001b[38;5;124m'\u001b[39m\u001b[38;5;124mdepartment\u001b[39m\u001b[38;5;124m'\u001b[39m])\u001b[38;5;241m.\u001b[39msize()\u001b[38;5;241m.\u001b[39mreset_index(name\u001b[38;5;241m=\u001b[39m\u001b[38;5;124m'\u001b[39m\u001b[38;5;124mcounts\u001b[39m\u001b[38;5;124m'\u001b[39m)\n\u001b[0;32m      3\u001b[0m age_department_counts\u001b[38;5;241m.\u001b[39msort_values(by\u001b[38;5;241m=\u001b[39m[\u001b[38;5;124m'\u001b[39m\u001b[38;5;124mage_group\u001b[39m\u001b[38;5;124m'\u001b[39m, \u001b[38;5;124m'\u001b[39m\u001b[38;5;124mcounts\u001b[39m\u001b[38;5;124m'\u001b[39m], ascending\u001b[38;5;241m=\u001b[39m\u001b[38;5;28;01mFalse\u001b[39;00m, inplace\u001b[38;5;241m=\u001b[39m\u001b[38;5;28;01mTrue\u001b[39;00m)\n\u001b[0;32m      5\u001b[0m \u001b[38;5;66;03m# Create subplots and color scheme\u001b[39;00m\n",
      "\u001b[1;31mNameError\u001b[0m: name 'full_data' is not defined"
     ]
    }
   ],
   "source": [
    "# Group by age_group and department, count occurrences, and sort\n",
    "age_department_counts = full_data.groupby(['age_group', 'department']).size().reset_index(name='counts')\n",
    "age_department_counts.sort_values(by=['age_group', 'counts'], ascending=False, inplace=True)\n",
    "\n",
    "# Create subplots and color scheme\n",
    "fig, axs = plt.subplots(4, 1, figsize=(12, 24))\n",
    "colors = plt.cm.viridis(np.linspace(0, 1, 5))  # Sets colour palette\n",
    "\n",
    "# Define the desired order of age groups\n",
    "desired_age_order = ['Senior', 'Older adult', 'Adult', 'Young Adult']\n",
    "\n",
    "# Iterate over each age group and create a horizontal bar chart\n",
    "for i, age_group in enumerate(desired_age_order):\n",
    "    age_data = age_department_counts[age_department_counts['age_group'] == age_group].head(5)\n",
    "    ax = axs[i]\n",
    "    ax.barh(age_data['department'], age_data['counts'], color=colors, zorder=2)\n",
    "    ax.set_title(f'Top 5 Departments for {age_group}s')\n",
    "    ax.set_xlabel('Total Products Sold')\n",
    "    ax.set_xlim(0, 3500000) # Keep x-axis range consistent for comparisons\n",
    "    ax.ticklabel_format(style='plain', axis='x')\n",
    "    ax.set_ylabel('')\n",
    "    ax.invert_yaxis()  # Invert y-axis to have the highest count at the top\n",
    "    ax.grid(axis='x', color='gray', linestyle='dashed')\n",
    "\n",
    "plt.tight_layout()  # Adjust layout to prevent overlapping\n",
    "plt.savefig(os.path.join(path, '04 Analysis', 'Visualisations', 'instacart_top_departments_by_age_group.png'), bbox_inches = 'tight')\n",
    "plt.show()"
   ]
  },
  {
   "cell_type": "markdown",
   "id": "d472c61b",
   "metadata": {},
   "source": [
    "Note: Strangely, different age groups don't show any differences between the departments they purchase the most products from. "
   ]
  },
  {
   "cell_type": "markdown",
   "id": "ca02bf59",
   "metadata": {},
   "source": [
    "### Dependants"
   ]
  },
  {
   "cell_type": "markdown",
   "id": "b9f17633",
   "metadata": {},
   "source": [
    "Note: Surprisingly, top departments are consistent between these groups with a roughly proportional number of products purchased in each department"
   ]
  },
  {
   "cell_type": "markdown",
   "id": "d4884053",
   "metadata": {},
   "source": [
    "# Visualisations"
   ]
  },
  {
   "cell_type": "markdown",
   "id": "118e4ef0",
   "metadata": {},
   "source": [
    "All visualisations have been exported throughout the script"
   ]
  },
  {
   "cell_type": "markdown",
   "id": "5b2f4da5",
   "metadata": {},
   "source": [
    "# Export Final Data Set"
   ]
  },
  {
   "cell_type": "code",
   "execution_count": 76,
   "id": "f2ed7faa",
   "metadata": {},
   "outputs": [],
   "source": [
    "full_data.to_pickle(os.path.join(path, '02 Data', 'Prepared Data', 'instacart_full_data.pkl'))"
   ]
  },
  {
   "cell_type": "markdown",
   "id": "b51355a2",
   "metadata": {},
   "source": [
    "# Supplementary Analysis"
   ]
  },
  {
   "cell_type": "markdown",
   "id": "9faa4f9e",
   "metadata": {},
   "source": [
    "The following visualisations have been generated to answer key questions from the project brief which have either not been covered or require supporting evidence"
   ]
  },
  {
   "cell_type": "markdown",
   "id": "73c20968",
   "metadata": {},
   "source": [
    "## \"Are there certain types of products that are more popular than others?\""
   ]
  },
  {
   "cell_type": "markdown",
   "id": "6cce18b0",
   "metadata": {},
   "source": [
    "A simple horizontal bar chart showing the overall top 10 departments for instacart would be helpful here"
   ]
  },
  {
   "cell_type": "code",
   "execution_count": 79,
   "id": "8f84fcb3",
   "metadata": {},
   "outputs": [
    {
     "data": {
      "text/plain": [
       "department\n",
       "produce            9079273\n",
       "dairy eggs         5172305\n",
       "snacks             2766406\n",
       "beverages          2571901\n",
       "frozen             2121731\n",
       "pantry             1782705\n",
       "bakery             1120828\n",
       "canned goods       1012074\n",
       "deli               1003834\n",
       "dry goods pasta     822136\n",
       "household           699857\n",
       "meat seafood        674781\n",
       "breakfast           670850\n",
       "personal care       424306\n",
       "babies              410392\n",
       "international       255991\n",
       "alcohol             144627\n",
       "pets                 93060\n",
       "missing              64768\n",
       "other                34411\n",
       "bulk                 33451\n",
       "Name: count, dtype: int64"
      ]
     },
     "execution_count": 79,
     "metadata": {},
     "output_type": "execute_result"
    }
   ],
   "source": [
    "# A simple frequency count to show all departments may also provide useful insights\n",
    "# Some departments may benefit from a boost in marketing\n",
    "full_data['department'].value_counts(dropna=False)"
   ]
  },
  {
   "cell_type": "markdown",
   "id": "ef1c78b1",
   "metadata": {},
   "source": [
    "## \"Are there differences in ordering habits based on a customer's loyalty status\"?"
   ]
  },
  {
   "cell_type": "markdown",
   "id": "7467e5d8",
   "metadata": {},
   "source": [
    "1) Analyse the average order total of customers from different loyalty groups using orders_subset from part 7"
   ]
  },
  {
   "cell_type": "code",
   "execution_count": 80,
   "id": "effe9eed",
   "metadata": {},
   "outputs": [],
   "source": [
    "# Compute average order_total\n",
    "loyalty_avg_order_total = orders_subset.groupby('loyalty_flag')['order_total'].mean().sort_values(ascending = False).reset_index()"
   ]
  },
  {
   "cell_type": "code",
   "execution_count": 81,
   "id": "ae2a0bf4",
   "metadata": {},
   "outputs": [
    {
     "data": {
      "text/html": [
       "<div>\n",
       "<style scoped>\n",
       "    .dataframe tbody tr th:only-of-type {\n",
       "        vertical-align: middle;\n",
       "    }\n",
       "\n",
       "    .dataframe tbody tr th {\n",
       "        vertical-align: top;\n",
       "    }\n",
       "\n",
       "    .dataframe thead th {\n",
       "        text-align: right;\n",
       "    }\n",
       "</style>\n",
       "<table border=\"1\" class=\"dataframe\">\n",
       "  <thead>\n",
       "    <tr style=\"text-align: right;\">\n",
       "      <th></th>\n",
       "      <th>loyalty_flag</th>\n",
       "      <th>order_total</th>\n",
       "    </tr>\n",
       "  </thead>\n",
       "  <tbody>\n",
       "    <tr>\n",
       "      <th>0</th>\n",
       "      <td>Regular customer</td>\n",
       "      <td>79.666699</td>\n",
       "    </tr>\n",
       "    <tr>\n",
       "      <th>1</th>\n",
       "      <td>Loyal customer</td>\n",
       "      <td>77.888122</td>\n",
       "    </tr>\n",
       "    <tr>\n",
       "      <th>2</th>\n",
       "      <td>New customer</td>\n",
       "      <td>77.014624</td>\n",
       "    </tr>\n",
       "  </tbody>\n",
       "</table>\n",
       "</div>"
      ],
      "text/plain": [
       "       loyalty_flag  order_total\n",
       "0  Regular customer    79.666699\n",
       "1    Loyal customer    77.888122\n",
       "2      New customer    77.014624"
      ]
     },
     "execution_count": 81,
     "metadata": {},
     "output_type": "execute_result"
    }
   ],
   "source": [
    "# Check\n",
    "loyalty_avg_order_total"
   ]
  },
  {
   "cell_type": "code",
   "execution_count": 82,
   "id": "b61cbb09",
   "metadata": {},
   "outputs": [
    {
     "data": {
      "image/png": "[encoded data removed]",
      "text/plain": [
       "<Figure size 800x600 with 1 Axes>"
      ]
     },
     "metadata": {},
     "output_type": "display_data"
    }
   ],
   "source": [
    "# Set up formatting and colours\n",
    "plt.figure(figsize=(8, 6))\n",
    "colors = ['green', 'purple', 'blue']\n",
    "\n",
    "# Plot bars\n",
    "bars = plt.bar(loyalty_avg_order_total['loyalty_flag'], loyalty_avg_order_total['order_total'], color=colors, edgecolor='black', zorder=2)\n",
    "plt.title(\"Average Order Total by Customer Loyalty\")\n",
    "plt.xlabel(\"\")\n",
    "plt.xticks(rotation=0)\n",
    "plt.ylabel(\"Average Order Total ($)\")\n",
    "plt.grid(axis = 'y', color = 'grey', linestyle = 'dashed')\n",
    "plt.savefig(os.path.join(path, '04 Analysis', 'Visualisations', 'instacart_average_order_by_loyalty.png'), bbox_inches = 'tight')"
   ]
  },
  {
   "cell_type": "markdown",
   "id": "2f69d75d",
   "metadata": {},
   "source": [
    "2) Analyse the average product price for each loyalty grouping using full_data"
   ]
  },
  {
   "cell_type": "code",
   "execution_count": 83,
   "id": "a704ca8d",
   "metadata": {},
   "outputs": [],
   "source": [
    "# Compute average price of products bought\n",
    "product_avg_cost = full_data.groupby('loyalty_flag')['prices'].mean().sort_values(ascending = False).reset_index()"
   ]
  },
  {
   "cell_type": "code",
   "execution_count": 84,
   "id": "755a0962",
   "metadata": {},
   "outputs": [
    {
     "data": {
      "text/html": [
       "<div>\n",
       "<style scoped>\n",
       "    .dataframe tbody tr th:only-of-type {\n",
       "        vertical-align: middle;\n",
       "    }\n",
       "\n",
       "    .dataframe tbody tr th {\n",
       "        vertical-align: top;\n",
       "    }\n",
       "\n",
       "    .dataframe thead th {\n",
       "        text-align: right;\n",
       "    }\n",
       "</style>\n",
       "<table border=\"1\" class=\"dataframe\">\n",
       "  <thead>\n",
       "    <tr style=\"text-align: right;\">\n",
       "      <th></th>\n",
       "      <th>loyalty_flag</th>\n",
       "      <th>prices</th>\n",
       "    </tr>\n",
       "  </thead>\n",
       "  <tbody>\n",
       "    <tr>\n",
       "      <th>0</th>\n",
       "      <td>New customer</td>\n",
       "      <td>7.801665</td>\n",
       "    </tr>\n",
       "    <tr>\n",
       "      <th>1</th>\n",
       "      <td>Regular customer</td>\n",
       "      <td>7.798262</td>\n",
       "    </tr>\n",
       "    <tr>\n",
       "      <th>2</th>\n",
       "      <td>Loyal customer</td>\n",
       "      <td>7.773575</td>\n",
       "    </tr>\n",
       "  </tbody>\n",
       "</table>\n",
       "</div>"
      ],
      "text/plain": [
       "       loyalty_flag    prices\n",
       "0      New customer  7.801665\n",
       "1  Regular customer  7.798262\n",
       "2    Loyal customer  7.773575"
      ]
     },
     "execution_count": 84,
     "metadata": {},
     "output_type": "execute_result"
    }
   ],
   "source": [
    "# Check\n",
    "product_avg_cost"
   ]
  },
  {
   "cell_type": "markdown",
   "id": "e987fe01",
   "metadata": {},
   "source": [
    "## \"Are there differences in ordering habits based on a customer's region\"?"
   ]
  },
  {
   "cell_type": "markdown",
   "id": "1a8146a7",
   "metadata": {},
   "source": [
    "1) Total product orders:"
   ]
  },
  {
   "cell_type": "markdown",
   "id": "5e0fcc23",
   "metadata": {},
   "source": [
    "2) Analyse average order total "
   ]
  },
  {
   "cell_type": "code",
   "execution_count": 87,
   "id": "9c78b18c",
   "metadata": {},
   "outputs": [],
   "source": [
    "# Compute average order_total\n",
    "region_avg_order_total = orders_subset.groupby('region')['order_total'].mean().sort_values(ascending = False).reset_index()"
   ]
  },
  {
   "cell_type": "code",
   "execution_count": 88,
   "id": "75661c15",
   "metadata": {},
   "outputs": [
    {
     "data": {
      "text/html": [
       "<div>\n",
       "<style scoped>\n",
       "    .dataframe tbody tr th:only-of-type {\n",
       "        vertical-align: middle;\n",
       "    }\n",
       "\n",
       "    .dataframe tbody tr th {\n",
       "        vertical-align: top;\n",
       "    }\n",
       "\n",
       "    .dataframe thead th {\n",
       "        text-align: right;\n",
       "    }\n",
       "</style>\n",
       "<table border=\"1\" class=\"dataframe\">\n",
       "  <thead>\n",
       "    <tr style=\"text-align: right;\">\n",
       "      <th></th>\n",
       "      <th>region</th>\n",
       "      <th>order_total</th>\n",
       "    </tr>\n",
       "  </thead>\n",
       "  <tbody>\n",
       "    <tr>\n",
       "      <th>0</th>\n",
       "      <td>West</td>\n",
       "      <td>78.789436</td>\n",
       "    </tr>\n",
       "    <tr>\n",
       "      <th>1</th>\n",
       "      <td>Northeast</td>\n",
       "      <td>78.670088</td>\n",
       "    </tr>\n",
       "    <tr>\n",
       "      <th>2</th>\n",
       "      <td>South</td>\n",
       "      <td>78.627138</td>\n",
       "    </tr>\n",
       "    <tr>\n",
       "      <th>3</th>\n",
       "      <td>Midwest</td>\n",
       "      <td>78.588492</td>\n",
       "    </tr>\n",
       "  </tbody>\n",
       "</table>\n",
       "</div>"
      ],
      "text/plain": [
       "      region  order_total\n",
       "0       West    78.789436\n",
       "1  Northeast    78.670088\n",
       "2      South    78.627138\n",
       "3    Midwest    78.588492"
      ]
     },
     "execution_count": 88,
     "metadata": {},
     "output_type": "execute_result"
    }
   ],
   "source": [
    "# Check\n",
    "region_avg_order_total"
   ]
  },
  {
   "cell_type": "markdown",
   "id": "698f6e6f",
   "metadata": {},
   "source": [
    "## \"What differences can you find in ordering habits of different customer profiles\"?"
   ]
  },
  {
   "cell_type": "markdown",
   "id": "4573b832",
   "metadata": {},
   "source": [
    "Since this is mostly covered by the crosstabs in section 7, I'm simply going to make a visualisation for the income groups to show the differences in order frequency and average_order_total. The age and dependants profiles won't be worth investigating further at this time since all the ordering habits are very close to being the same."
   ]
  },
  {
   "cell_type": "code",
   "execution_count": 90,
   "id": "59e39f7b",
   "metadata": {},
   "outputs": [],
   "source": [
    "# Sort income groups by the mean of the order_total (keep in mind this is a multilevel index)\n",
    "sorted_df = aggregations_by_income_cat.sort_values(by=('order_total', 'mean'), ascending=False)"
   ]
  },
  {
   "cell_type": "code",
   "execution_count": 91,
   "id": "ad2d275f",
   "metadata": {},
   "outputs": [
    {
     "data": {
      "text/html": [
       "<div>\n",
       "<style scoped>\n",
       "    .dataframe tbody tr th:only-of-type {\n",
       "        vertical-align: middle;\n",
       "    }\n",
       "\n",
       "    .dataframe tbody tr th {\n",
       "        vertical-align: top;\n",
       "    }\n",
       "\n",
       "    .dataframe thead tr th {\n",
       "        text-align: left;\n",
       "    }\n",
       "\n",
       "    .dataframe thead tr:last-of-type th {\n",
       "        text-align: right;\n",
       "    }\n",
       "</style>\n",
       "<table border=\"1\" class=\"dataframe\">\n",
       "  <thead>\n",
       "    <tr>\n",
       "      <th></th>\n",
       "      <th colspan=\"3\" halign=\"left\">days_since_prior_order</th>\n",
       "      <th colspan=\"3\" halign=\"left\">order_total</th>\n",
       "    </tr>\n",
       "    <tr>\n",
       "      <th></th>\n",
       "      <th>min</th>\n",
       "      <th>mean</th>\n",
       "      <th>max</th>\n",
       "      <th>min</th>\n",
       "      <th>mean</th>\n",
       "      <th>max</th>\n",
       "    </tr>\n",
       "    <tr>\n",
       "      <th>income_group</th>\n",
       "      <th></th>\n",
       "      <th></th>\n",
       "      <th></th>\n",
       "      <th></th>\n",
       "      <th></th>\n",
       "      <th></th>\n",
       "    </tr>\n",
       "  </thead>\n",
       "  <tbody>\n",
       "    <tr>\n",
       "      <th>High</th>\n",
       "      <td>0.0</td>\n",
       "      <td>10.260991</td>\n",
       "      <td>30.0</td>\n",
       "      <td>1.0</td>\n",
       "      <td>83.757004</td>\n",
       "      <td>1092.2</td>\n",
       "    </tr>\n",
       "    <tr>\n",
       "      <th>Middle</th>\n",
       "      <td>0.0</td>\n",
       "      <td>10.289999</td>\n",
       "      <td>30.0</td>\n",
       "      <td>1.0</td>\n",
       "      <td>81.930075</td>\n",
       "      <td>852.5</td>\n",
       "    </tr>\n",
       "    <tr>\n",
       "      <th>Low</th>\n",
       "      <td>0.0</td>\n",
       "      <td>11.070341</td>\n",
       "      <td>30.0</td>\n",
       "      <td>1.0</td>\n",
       "      <td>52.673028</td>\n",
       "      <td>875.0</td>\n",
       "    </tr>\n",
       "  </tbody>\n",
       "</table>\n",
       "</div>"
      ],
      "text/plain": [
       "             days_since_prior_order                  order_total             \\\n",
       "                                min       mean   max         min       mean   \n",
       "income_group                                                                  \n",
       "High                            0.0  10.260991  30.0         1.0  83.757004   \n",
       "Middle                          0.0  10.289999  30.0         1.0  81.930075   \n",
       "Low                             0.0  11.070341  30.0         1.0  52.673028   \n",
       "\n",
       "                      \n",
       "                 max  \n",
       "income_group          \n",
       "High          1092.2  \n",
       "Middle         852.5  \n",
       "Low            875.0  "
      ]
     },
     "execution_count": 91,
     "metadata": {},
     "output_type": "execute_result"
    }
   ],
   "source": [
    "# Check\n",
    "sorted_df"
   ]
  },
  {
   "cell_type": "code",
   "execution_count": 93,
   "id": "74c9c24c",
   "metadata": {},
   "outputs": [
    {
     "data": {
      "text/html": [
       "<div>\n",
       "<style scoped>\n",
       "    .dataframe tbody tr th:only-of-type {\n",
       "        vertical-align: middle;\n",
       "    }\n",
       "\n",
       "    .dataframe tbody tr th {\n",
       "        vertical-align: top;\n",
       "    }\n",
       "\n",
       "    .dataframe thead th {\n",
       "        text-align: right;\n",
       "    }\n",
       "</style>\n",
       "<table border=\"1\" class=\"dataframe\">\n",
       "  <thead>\n",
       "    <tr style=\"text-align: right;\">\n",
       "      <th>frequency_flag</th>\n",
       "      <th>Frequent customer</th>\n",
       "      <th>Non-frequent customer</th>\n",
       "      <th>Regular customer</th>\n",
       "    </tr>\n",
       "    <tr>\n",
       "      <th>income_group</th>\n",
       "      <th></th>\n",
       "      <th></th>\n",
       "      <th></th>\n",
       "    </tr>\n",
       "  </thead>\n",
       "  <tbody>\n",
       "    <tr>\n",
       "      <th>High</th>\n",
       "      <td>33487</td>\n",
       "      <td>15117</td>\n",
       "      <td>21476</td>\n",
       "    </tr>\n",
       "    <tr>\n",
       "      <th>Low</th>\n",
       "      <td>10630</td>\n",
       "      <td>6702</td>\n",
       "      <td>7860</td>\n",
       "    </tr>\n",
       "    <tr>\n",
       "      <th>Middle</th>\n",
       "      <td>31812</td>\n",
       "      <td>14845</td>\n",
       "      <td>20702</td>\n",
       "    </tr>\n",
       "  </tbody>\n",
       "</table>\n",
       "</div>"
      ],
      "text/plain": [
       "frequency_flag  Frequent customer  Non-frequent customer  Regular customer\n",
       "income_group                                                              \n",
       "High                        33487                  15117             21476\n",
       "Low                         10630                   6702              7860\n",
       "Middle                      31812                  14845             20702"
      ]
     },
     "execution_count": 93,
     "metadata": {},
     "output_type": "execute_result"
    }
   ],
   "source": [
    "# I would also like to look at frequency, so I'll look at the user_sample data\n",
    "crosstab1 = pd.crosstab(user_sample['income_group'], user_sample['frequency_flag'], dropna=False)\n",
    "# Check\n",
    "crosstab1"
   ]
  },
  {
   "cell_type": "code",
   "execution_count": 94,
   "id": "d0b17f5e",
   "metadata": {},
   "outputs": [
    {
     "data": {
      "text/html": [
       "<div>\n",
       "<style scoped>\n",
       "    .dataframe tbody tr th:only-of-type {\n",
       "        vertical-align: middle;\n",
       "    }\n",
       "\n",
       "    .dataframe tbody tr th {\n",
       "        vertical-align: top;\n",
       "    }\n",
       "\n",
       "    .dataframe thead th {\n",
       "        text-align: right;\n",
       "    }\n",
       "</style>\n",
       "<table border=\"1\" class=\"dataframe\">\n",
       "  <thead>\n",
       "    <tr style=\"text-align: right;\">\n",
       "      <th>frequency_flag</th>\n",
       "      <th>Frequent customer</th>\n",
       "      <th>Non-frequent customer</th>\n",
       "      <th>Regular customer</th>\n",
       "    </tr>\n",
       "    <tr>\n",
       "      <th>income_group</th>\n",
       "      <th></th>\n",
       "      <th></th>\n",
       "      <th></th>\n",
       "    </tr>\n",
       "  </thead>\n",
       "  <tbody>\n",
       "    <tr>\n",
       "      <th>High</th>\n",
       "      <td>47.783961</td>\n",
       "      <td>21.571062</td>\n",
       "      <td>30.644977</td>\n",
       "    </tr>\n",
       "    <tr>\n",
       "      <th>Low</th>\n",
       "      <td>42.195935</td>\n",
       "      <td>26.603684</td>\n",
       "      <td>31.200381</td>\n",
       "    </tr>\n",
       "    <tr>\n",
       "      <th>Middle</th>\n",
       "      <td>47.227542</td>\n",
       "      <td>22.038629</td>\n",
       "      <td>30.733829</td>\n",
       "    </tr>\n",
       "  </tbody>\n",
       "</table>\n",
       "</div>"
      ],
      "text/plain": [
       "frequency_flag  Frequent customer  Non-frequent customer  Regular customer\n",
       "income_group                                                              \n",
       "High                    47.783961              21.571062         30.644977\n",
       "Low                     42.195935              26.603684         31.200381\n",
       "Middle                  47.227542              22.038629         30.733829"
      ]
     },
     "execution_count": 94,
     "metadata": {},
     "output_type": "execute_result"
    }
   ],
   "source": [
    "# Normalise\n",
    "crosstab1_norm = crosstab1.div(crosstab1.sum(axis=1), axis = 0) * 100\n",
    "# Check\n",
    "crosstab1_norm"
   ]
  }
 ],
 "metadata": {
  "kernelspec": {
   "display_name": "Python 3 (ipykernel)",
   "language": "python",
   "name": "python3"
  },
  "language_info": {
   "codemirror_mode": {
    "name": "ipython",
    "version": 3
   },
   "file_extension": ".py",
   "mimetype": "text/x-python",
   "name": "python",
   "nbconvert_exporter": "python",
   "pygments_lexer": "ipython3",
   "version": "3.11.7"
  },
  "toc": {
   "base_numbering": 1,
   "nav_menu": {},
   "number_sections": true,
   "sideBar": true,
   "skip_h1_title": false,
   "title_cell": "Table of Contents",
   "title_sidebar": "Contents",
   "toc_cell": false,
   "toc_position": {
    "height": "calc(100% - 180px)",
    "left": "10px",
    "top": "150px",
    "width": "418.965px"
   },
   "toc_section_display": true,
   "toc_window_display": true
  }
 },
 "nbformat": 4,
 "nbformat_minor": 5
}
